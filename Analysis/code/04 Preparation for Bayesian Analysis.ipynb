{
 "cells": [
  {
   "cell_type": "markdown",
   "metadata": {},
   "source": [
    "# Loading packages"
   ]
  },
  {
   "cell_type": "code",
   "execution_count": 1,
   "metadata": {},
   "outputs": [],
   "source": [
    "import numpy as np\n",
    "import pandas as pd\n",
    "import glob"
   ]
  },
  {
   "cell_type": "code",
   "execution_count": 2,
   "metadata": {},
   "outputs": [],
   "source": [
    "import matplotlib.pyplot as plt\n",
    "import seaborn as sns\n",
    "%matplotlib inline"
   ]
  },
  {
   "cell_type": "code",
   "execution_count": 3,
   "metadata": {},
   "outputs": [],
   "source": [
    "from pandas.api.types import CategoricalDtype"
   ]
  },
  {
   "cell_type": "markdown",
   "metadata": {},
   "source": [
    "# Loading data"
   ]
  },
  {
   "cell_type": "code",
   "execution_count": 4,
   "metadata": {},
   "outputs": [],
   "source": [
    "data= pd.read_pickle(\"../data/modified_exclusions/pt_replication_modified_exclusions_data.pkl\")"
   ]
  },
  {
   "cell_type": "code",
   "execution_count": 5,
   "metadata": {},
   "outputs": [
    {
     "data": {
      "text/plain": [
       "Index(['1', '2', '3', '4', '5', '6', '7', '8', '9', '10', '11', '12', '13',\n",
       "       '14', '15', '16', '17', 'Gender', 'Age', 'Personal_Income',\n",
       "       'Financial_Situation', 'Bill_Payments', 'Education', 'Credit_Debt',\n",
       "       'Additional_Income_Private_Investment', 'Additional_Income_Property',\n",
       "       'Additional_Income_Business_Ownership',\n",
       "       'Additional_Income_Retirement_Plan', 'Loss_Awareness', 'Loss_Intuition',\n",
       "       'Country', 'Duration_in_seconds', 'Language', 'Sample',\n",
       "       'Duration_Minutes', 'YoB', 'Awareness_of_Loss_Aversion',\n",
       "       'Financial_Stress', 'Presentation_Order'],\n",
       "      dtype='object')"
      ]
     },
     "execution_count": 5,
     "metadata": {},
     "output_type": "execute_result"
    }
   ],
   "source": [
    "data.columns"
   ]
  },
  {
   "cell_type": "markdown",
   "metadata": {},
   "source": [
    "### Preparing variables for R (Z-scoring and dummy coding)"
   ]
  },
  {
   "cell_type": "code",
   "execution_count": 6,
   "metadata": {},
   "outputs": [
    {
     "data": {
      "text/plain": [
       "Female    2077\n",
       "Male      1948\n",
       "Other       26\n",
       "Name: Gender, dtype: int64"
      ]
     },
     "execution_count": 6,
     "metadata": {},
     "output_type": "execute_result"
    }
   ],
   "source": [
    "data[\"Gender\"].value_counts()"
   ]
  },
  {
   "cell_type": "code",
   "execution_count": 7,
   "metadata": {},
   "outputs": [],
   "source": [
    "data[\"Men\"] = 1\n",
    "data.loc[data[\"Gender\"]==\"Female\", \"Men\"] = 0\n",
    "data.loc[data[\"Gender\"]==\"Other\", \"Men\"] = np.nan"
   ]
  },
  {
   "cell_type": "code",
   "execution_count": 8,
   "metadata": {},
   "outputs": [
    {
     "data": {
      "text/plain": [
       "0    2733\n",
       "1    1365\n",
       "Name: Loss_Awareness, dtype: int64"
      ]
     },
     "execution_count": 8,
     "metadata": {},
     "output_type": "execute_result"
    }
   ],
   "source": [
    "data[\"Loss_Awareness\"].value_counts()"
   ]
  },
  {
   "cell_type": "code",
   "execution_count": 9,
   "metadata": {},
   "outputs": [
    {
     "data": {
      "text/plain": [
       "1.0    2209\n",
       "0.0     396\n",
       "Name: Loss_Intuition, dtype: int64"
      ]
     },
     "execution_count": 9,
     "metadata": {},
     "output_type": "execute_result"
    }
   ],
   "source": [
    "data[\"Loss_Intuition\"].value_counts()"
   ]
  },
  {
   "cell_type": "code",
   "execution_count": 11,
   "metadata": {},
   "outputs": [],
   "source": [
    "data.loc[data[\"Loss_Awareness\"]==1, \"Loss_Intuition\"] = 0"
   ]
  },
  {
   "cell_type": "code",
   "execution_count": 12,
   "metadata": {},
   "outputs": [
    {
     "data": {
      "text/plain": [
       "1.0    2209\n",
       "0.0    1761\n",
       "Name: Loss_Intuition, dtype: int64"
      ]
     },
     "execution_count": 12,
     "metadata": {},
     "output_type": "execute_result"
    }
   ],
   "source": [
    "data[\"Loss_Intuition\"].value_counts()"
   ]
  },
  {
   "cell_type": "markdown",
   "metadata": {},
   "source": [
    "### Z-scoring age by country"
   ]
  },
  {
   "cell_type": "code",
   "execution_count": 14,
   "metadata": {},
   "outputs": [],
   "source": [
    "mean_ages = data.groupby(\"Country\")[\"Age\"].mean()\n",
    "std_ages = data.groupby(\"Country\")[\"Age\"].std()"
   ]
  },
  {
   "cell_type": "code",
   "execution_count": 15,
   "metadata": {},
   "outputs": [],
   "source": [
    "age_country_indexed = data.set_index(\"Country\", append=True)[\"Age\"]\n",
    "z_age = (age_country_indexed - mean_ages)/std_ages\n",
    "z_age = z_age.reset_index()\n",
    "data[\"Z_Age\"] = z_age.set_index('level_0')[\"Age\"]"
   ]
  },
  {
   "cell_type": "markdown",
   "metadata": {},
   "source": [
    "### Z-scoring income by country"
   ]
  },
  {
   "cell_type": "code",
   "execution_count": 17,
   "metadata": {},
   "outputs": [],
   "source": [
    "mean_incomes = data.groupby(\"Country\")[\"Personal_Income\"].mean()\n",
    "std_incomes = data.groupby(\"Country\")[\"Personal_Income\"].std()"
   ]
  },
  {
   "cell_type": "code",
   "execution_count": 18,
   "metadata": {},
   "outputs": [],
   "source": [
    "income_country_indexed = data.set_index(\"Country\", append=True)[\"Personal_Income\"]\n",
    "z_income = (income_country_indexed - mean_incomes)/std_incomes\n",
    "z_income = z_income.reset_index()\n",
    "data[\"Z_Income\"] = z_income.set_index('level_0')[\"Personal_Income\"]"
   ]
  },
  {
   "cell_type": "markdown",
   "metadata": {},
   "source": [
    "### Recoding factors"
   ]
  },
  {
   "cell_type": "code",
   "execution_count": 19,
   "metadata": {},
   "outputs": [
    {
     "data": {
      "text/plain": [
       "Became much worse          225\n",
       "Became a little worse      666\n",
       "Has not changed           1949\n",
       "Became a little better    1001\n",
       "Became much better         257\n",
       "Name: Financial_Situation, dtype: int64"
      ]
     },
     "execution_count": 19,
     "metadata": {},
     "output_type": "execute_result"
    }
   ],
   "source": [
    "data['Financial_Situation'].value_counts(sort=False)"
   ]
  },
  {
   "cell_type": "code",
   "execution_count": 20,
   "metadata": {},
   "outputs": [
    {
     "data": {
      "text/plain": [
       "I paid everything but saved nothing                                          1180\n",
       "Everything is paid off and I have enough to save, invest, or spend freely    1079\n",
       "I paid everything and saved some                                              993\n",
       "I paid everything, saved some, and paid down other debts                      503\n",
       "I had to take on some debt to pay them                                        150\n",
       "I could not pay all my bills last month                                       148\n",
       "I had to take on a lot of debt to pay bills last month                         45\n",
       "Name: Bill_Payments, dtype: int64"
      ]
     },
     "execution_count": 20,
     "metadata": {},
     "output_type": "execute_result"
    }
   ],
   "source": [
    "data['Bill_Payments'].value_counts()"
   ]
  },
  {
   "cell_type": "code",
   "execution_count": 21,
   "metadata": {},
   "outputs": [
    {
     "data": {
      "text/plain": [
       "Primary school                36\n",
       "Secondary school             781\n",
       "Vocational school            518\n",
       "University Undergraduate    1481\n",
       "University Masters          1020\n",
       "University MBA               137\n",
       "University PhD               105\n",
       "Name: Education, dtype: int64"
      ]
     },
     "execution_count": 21,
     "metadata": {},
     "output_type": "execute_result"
    }
   ],
   "source": [
    "data['Education'].value_counts(sort=False)"
   ]
  },
  {
   "cell_type": "code",
   "execution_count": 22,
   "metadata": {},
   "outputs": [],
   "source": [
    "data['Education'] = data['Education'].astype(str)\n",
    "data.loc[data[\"Education\"].isin([\"Primary school\", \"Secondary school\"]), \"Education\"] = \"basic\"\n",
    "data.loc[data[\"Education\"].isin([\"Vocational school\"]), \"Education\"] = \"vocational\"\n",
    "data.loc[data[\"Education\"].isin([\"University Undergraduate\"]), \"Education\"] = \"undergraduate\"\n",
    "data.loc[data[\"Education\"].isin([\"University Masters\", \"University MBA\", \"University PhD\"]), \"Education\"] = \"postgraduate\""
   ]
  },
  {
   "cell_type": "code",
   "execution_count": 23,
   "metadata": {},
   "outputs": [
    {
     "data": {
      "text/plain": [
       "undergraduate    1481\n",
       "postgraduate     1262\n",
       "basic             817\n",
       "vocational        518\n",
       "nan                20\n",
       "Name: Education, dtype: int64"
      ]
     },
     "execution_count": 23,
     "metadata": {},
     "output_type": "execute_result"
    }
   ],
   "source": [
    "data['Education'].value_counts()"
   ]
  },
  {
   "cell_type": "code",
   "execution_count": 24,
   "metadata": {},
   "outputs": [],
   "source": [
    "data.loc[data[\"Education\"]==\"nan\", \"Education\"] = np.nan"
   ]
  },
  {
   "cell_type": "code",
   "execution_count": 25,
   "metadata": {},
   "outputs": [
    {
     "data": {
      "text/plain": [
       "I could not pay all my bills last month                                       148\n",
       "I had to take on a lot of debt to pay bills last month                         45\n",
       "I had to take on some debt to pay them                                        150\n",
       "I paid everything but saved nothing                                          1180\n",
       "I paid everything and saved some                                              993\n",
       "I paid everything, saved some, and paid down other debts                      503\n",
       "Everything is paid off and I have enough to save, invest, or spend freely    1079\n",
       "Name: Bill_Payments, dtype: int64"
      ]
     },
     "execution_count": 25,
     "metadata": {},
     "output_type": "execute_result"
    }
   ],
   "source": [
    "data['Bill_Payments'].value_counts(sort=False)"
   ]
  },
  {
   "cell_type": "code",
   "execution_count": 26,
   "metadata": {},
   "outputs": [],
   "source": [
    "data['Bill_Payments'] = data['Bill_Payments'].astype(str)\n",
    "data.loc[data['Bill_Payments'].isin([\"I could not pay all my bills last month\"]), 'Bill_Payments'] = \"failed_to_pay\"\n",
    "data.loc[data['Bill_Payments'].isin([\"I had to take on a lot of debt to pay bills last month\",\n",
    "                                    \"I had to take on some debt to pay them\"]), 'Bill_Payments'] = \"debt_to_pay\"\n",
    "data.loc[data['Bill_Payments'].isin([\"I paid everything but saved nothing\"]), 'Bill_Payments'] = \"payed_no_save\"\n",
    "data.loc[data['Bill_Payments'].isin([\"I paid everything and saved some\",\n",
    "                                    \"I paid everything, saved some, and paid down other debts\"]), 'Bill_Payments'] = \"payed_some_save\"\n",
    "data.loc[data['Bill_Payments'].isin([\"Everything is paid off and I have enough to save, invest, or spend freely\"]), 'Bill_Payments'] = \"payed_spend_free\""
   ]
  },
  {
   "cell_type": "code",
   "execution_count": 27,
   "metadata": {},
   "outputs": [
    {
     "data": {
      "text/plain": [
       "payed_spend_free    1079\n",
       "payed_no_save       1180\n",
       "failed_to_pay        148\n",
       "debt_to_pay          195\n",
       "payed_some_save     1496\n",
       "Name: Bill_Payments, dtype: int64"
      ]
     },
     "execution_count": 27,
     "metadata": {},
     "output_type": "execute_result"
    }
   ],
   "source": [
    "data['Bill_Payments'].value_counts(sort=False)"
   ]
  },
  {
   "cell_type": "code",
   "execution_count": 28,
   "metadata": {},
   "outputs": [
    {
     "data": {
      "text/plain": [
       "Became much worse          225\n",
       "Became a little worse      666\n",
       "Has not changed           1949\n",
       "Became a little better    1001\n",
       "Became much better         257\n",
       "Name: Financial_Situation, dtype: int64"
      ]
     },
     "execution_count": 28,
     "metadata": {},
     "output_type": "execute_result"
    }
   ],
   "source": [
    "data['Financial_Situation'].value_counts(sort=False)"
   ]
  },
  {
   "cell_type": "code",
   "execution_count": 29,
   "metadata": {},
   "outputs": [],
   "source": [
    "data['Financial_Situation'] = data['Financial_Situation'].astype(str)\n",
    "data.loc[data['Financial_Situation'].isin([\"Became much worse\"]), 'Financial_Situation'] = \"much_worse\"\n",
    "data.loc[data['Financial_Situation'].isin([\"Became a little worse\"]), 'Financial_Situation'] = \"little_worse\"\n",
    "data.loc[data['Financial_Situation'].isin([\"Has not changed\"]), 'Financial_Situation'] = \"unchanged\"\n",
    "data.loc[data['Financial_Situation'].isin([\"Became a little better\"]), 'Financial_Situation'] = \"little_better\"\n",
    "data.loc[data['Financial_Situation'].isin([\"Became much better\"]), 'Financial_Situation'] = \"much_better\""
   ]
  },
  {
   "cell_type": "code",
   "execution_count": 30,
   "metadata": {},
   "outputs": [
    {
     "data": {
      "text/plain": [
       "little_worse      666\n",
       "much_worse        225\n",
       "unchanged        1949\n",
       "much_better       257\n",
       "little_better    1001\n",
       "Name: Financial_Situation, dtype: int64"
      ]
     },
     "execution_count": 30,
     "metadata": {},
     "output_type": "execute_result"
    }
   ],
   "source": [
    "data['Financial_Situation'].value_counts(sort=False)"
   ]
  },
  {
   "cell_type": "markdown",
   "metadata": {},
   "source": [
    "### Sanity check that bill-payments are associated with income"
   ]
  },
  {
   "cell_type": "code",
   "execution_count": 31,
   "metadata": {},
   "outputs": [
    {
     "data": {
      "text/plain": [
       "<matplotlib.axes._subplots.AxesSubplot at 0x26490ab2c18>"
      ]
     },
     "execution_count": 31,
     "metadata": {},
     "output_type": "execute_result"
    },
    {
     "data": {
      "image/png": "[encoded data removed]",
      "text/plain": [
       "<Figure size 432x288 with 1 Axes>"
      ]
     },
     "metadata": {
      "needs_background": "light"
     },
     "output_type": "display_data"
    }
   ],
   "source": [
    "sns.pointplot(data=data, x=\"Bill_Payments\", y=\"Z_Income\", order=[\"failed_to_pay\", \"debt_to_pay\", \"payed_no_save\",\n",
    "                                                                \"payed_some_save\", \"payed_spend_free\"])"
   ]
  },
  {
   "cell_type": "markdown",
   "metadata": {},
   "source": [
    "### Relabel items for easier access in base R"
   ]
  },
  {
   "cell_type": "code",
   "execution_count": 32,
   "metadata": {},
   "outputs": [],
   "source": [
    "data = data.rename(columns=dict(zip(['1', '2', '3', '4', '5', '6', '7', '8', '9', '10', '11', '12', '13',\n",
    "       '14', '15', '16', '17'], [\"Item_\" + i for i in ['1', '2', '3', '4', '5', '6', '7', '8', '9', '10', '11', '12', '13',\n",
    "       '14', '15', '16', '17']])))"
   ]
  },
  {
   "cell_type": "code",
   "execution_count": 33,
   "metadata": {},
   "outputs": [
    {
     "data": {
      "text/plain": [
       "Index(['Item_1', 'Item_2', 'Item_3', 'Item_4', 'Item_5', 'Item_6', 'Item_7',\n",
       "       'Item_8', 'Item_9', 'Item_10', 'Item_11', 'Item_12', 'Item_13',\n",
       "       'Item_14', 'Item_15', 'Item_16', 'Item_17', 'Gender', 'Age',\n",
       "       'Personal_Income', 'Financial_Situation', 'Bill_Payments', 'Education',\n",
       "       'Credit_Debt', 'Additional_Income_Private_Investment',\n",
       "       'Additional_Income_Property', 'Additional_Income_Business_Ownership',\n",
       "       'Additional_Income_Retirement_Plan', 'Loss_Awareness', 'Loss_Intuition',\n",
       "       'Country', 'Duration_in_seconds', 'Language', 'Sample',\n",
       "       'Duration_Minutes', 'YoB', 'Awareness_of_Loss_Aversion',\n",
       "       'Financial_Stress', 'Presentation_Order', 'Men', 'Loss Intuition',\n",
       "       'Z_Age', 'Z_Income'],\n",
       "      dtype='object')"
      ]
     },
     "execution_count": 33,
     "metadata": {},
     "output_type": "execute_result"
    }
   ],
   "source": [
    "data.columns"
   ]
  },
  {
   "cell_type": "markdown",
   "metadata": {},
   "source": [
    "### Check that Z age and Z income has complete values"
   ]
  },
  {
   "cell_type": "code",
   "execution_count": 38,
   "metadata": {},
   "outputs": [
    {
     "data": {
      "text/plain": [
       "4098"
      ]
     },
     "execution_count": 38,
     "metadata": {},
     "output_type": "execute_result"
    }
   ],
   "source": [
    "data[\"Z_Age\"].count()"
   ]
  },
  {
   "cell_type": "code",
   "execution_count": 39,
   "metadata": {},
   "outputs": [
    {
     "data": {
      "text/html": [
       "<div>\n",
       "<style scoped>\n",
       "    .dataframe tbody tr th:only-of-type {\n",
       "        vertical-align: middle;\n",
       "    }\n",
       "\n",
       "    .dataframe tbody tr th {\n",
       "        vertical-align: top;\n",
       "    }\n",
       "\n",
       "    .dataframe thead th {\n",
       "        text-align: right;\n",
       "    }\n",
       "</style>\n",
       "<table border=\"1\" class=\"dataframe\">\n",
       "  <thead>\n",
       "    <tr style=\"text-align: right;\">\n",
       "      <th></th>\n",
       "      <th>Country</th>\n",
       "      <th>Age</th>\n",
       "    </tr>\n",
       "  </thead>\n",
       "  <tbody>\n",
       "  </tbody>\n",
       "</table>\n",
       "</div>"
      ],
      "text/plain": [
       "Empty DataFrame\n",
       "Columns: [Country, Age]\n",
       "Index: []"
      ]
     },
     "execution_count": 39,
     "metadata": {},
     "output_type": "execute_result"
    }
   ],
   "source": [
    "data.loc[data[\"Z_Age\"].isna(), [\"Country\", \"Age\"]]"
   ]
  },
  {
   "cell_type": "code",
   "execution_count": 40,
   "metadata": {},
   "outputs": [
    {
     "data": {
      "text/plain": [
       "4098"
      ]
     },
     "execution_count": 40,
     "metadata": {},
     "output_type": "execute_result"
    }
   ],
   "source": [
    "data[\"Z_Income\"].count()"
   ]
  },
  {
   "cell_type": "markdown",
   "metadata": {},
   "source": [
    "### Create a participant ID variable"
   ]
  },
  {
   "cell_type": "code",
   "execution_count": 45,
   "metadata": {},
   "outputs": [],
   "source": [
    "data[\"ParID\"] = np.arange(len(data))"
   ]
  },
  {
   "cell_type": "markdown",
   "metadata": {},
   "source": [
    "### Check that loss intuition can only be true when loss awareness is false"
   ]
  },
  {
   "cell_type": "code",
   "execution_count": 42,
   "metadata": {},
   "outputs": [],
   "source": [
    "data.loc[data[\"Loss_Intuition\"].isna(), \"Loss_Intuition\"] = 0"
   ]
  },
  {
   "cell_type": "code",
   "execution_count": 43,
   "metadata": {},
   "outputs": [
    {
     "data": {
      "text/plain": [
       "Loss_Awareness  Loss_Intuition  Awareness_of_Loss_Aversion\n",
       "0               0.0             4                              396\n",
       "                                2                              128\n",
       "                1.0             3                             2209\n",
       "1               0.0             1                             1365\n",
       "Name: Awareness_of_Loss_Aversion, dtype: int64"
      ]
     },
     "execution_count": 43,
     "metadata": {},
     "output_type": "execute_result"
    }
   ],
   "source": [
    "data.groupby([\"Loss_Awareness\", \"Loss_Intuition\"])[\"Awareness_of_Loss_Aversion\"].value_counts()"
   ]
  },
  {
   "cell_type": "markdown",
   "metadata": {},
   "source": [
    "# Creating a new dataframe for the Bayesian models"
   ]
  },
  {
   "cell_type": "code",
   "execution_count": 47,
   "metadata": {},
   "outputs": [],
   "source": [
    "bayes_data = data[['Item_1', 'Item_2', 'Item_3', 'Item_4', 'Item_5', 'Item_6', 'Item_7',\n",
    "       'Item_8', 'Item_9', 'Item_10', 'Item_11', 'Item_12', 'Item_13',\n",
    "       'Item_14', 'Item_15', 'Item_16', 'Item_17', \"ParID\", 'Country',\n",
    "      'Men', 'Z_Age', 'Z_Income', 'Financial_Situation', 'Bill_Payments',\n",
    "       'Education', 'Loss_Awareness', 'Loss_Intuition']]"
   ]
  },
  {
   "cell_type": "code",
   "execution_count": 48,
   "metadata": {},
   "outputs": [],
   "source": [
    "bayes_data = bayes_data.loc[bayes_data[\"Men\"].notna(), :]"
   ]
  },
  {
   "cell_type": "code",
   "execution_count": 49,
   "metadata": {},
   "outputs": [],
   "source": [
    "bayes_data = bayes_data.loc[bayes_data[\"Education\"].notna(), :]"
   ]
  },
  {
   "cell_type": "code",
   "execution_count": 50,
   "metadata": {},
   "outputs": [
    {
     "data": {
      "text/plain": [
       "Item_1                 4052\n",
       "Item_2                 4052\n",
       "Item_3                 4052\n",
       "Item_4                 4052\n",
       "Item_5                 4052\n",
       "Item_6                 4052\n",
       "Item_7                 4052\n",
       "Item_8                 4052\n",
       "Item_9                 4052\n",
       "Item_10                4052\n",
       "Item_11                4052\n",
       "Item_12                4052\n",
       "Item_13                4052\n",
       "Item_14                3831\n",
       "Item_15                4008\n",
       "Item_16                4052\n",
       "Item_17                4052\n",
       "ParID                  4052\n",
       "Country                4052\n",
       "Men                    4052\n",
       "Z_Age                  4052\n",
       "Z_Income               4052\n",
       "Financial_Situation    4052\n",
       "Bill_Payments          4052\n",
       "Education              4052\n",
       "Loss_Awareness         4052\n",
       "Loss_Intuition         4052\n",
       "dtype: int64"
      ]
     },
     "execution_count": 50,
     "metadata": {},
     "output_type": "execute_result"
    }
   ],
   "source": [
    "bayes_data.count()"
   ]
  },
  {
   "cell_type": "code",
   "execution_count": 51,
   "metadata": {},
   "outputs": [],
   "source": [
    "bayes_data.to_csv(\"../output/bayes_data.csv\", index=False)"
   ]
  }
 ],
 "metadata": {
  "kernelspec": {
   "display_name": "Python 3",
   "language": "python",
   "name": "python3"
  },
  "language_info": {
   "codemirror_mode": {
    "name": "ipython",
    "version": 3
   },
   "file_extension": ".py",
   "mimetype": "text/x-python",
   "name": "python",
   "nbconvert_exporter": "python",
   "pygments_lexer": "ipython3",
   "version": "3.7.3"
  }
 },
 "nbformat": 4,
 "nbformat_minor": 4
}
