{
 "cells": [
  {
   "cell_type": "markdown",
   "metadata": {},
   "source": [
    "# Loading packages"
   ]
  },
  {
   "cell_type": "code",
   "execution_count": 1,
   "metadata": {},
   "outputs": [],
   "source": [
    "import numpy as np\n",
    "import pandas as pd\n",
    "import glob"
   ]
  },
  {
   "cell_type": "code",
   "execution_count": 2,
   "metadata": {},
   "outputs": [],
   "source": [
    "import matplotlib.pyplot as plt\n",
    "import seaborn as sns\n",
    "%matplotlib inline"
   ]
  },
  {
   "cell_type": "code",
   "execution_count": 3,
   "metadata": {},
   "outputs": [],
   "source": [
    "from pandas.api.types import CategoricalDtype"
   ]
  },
  {
   "cell_type": "markdown",
   "metadata": {},
   "source": [
    "# Loading data"
   ]
  },
  {
   "cell_type": "code",
   "execution_count": 4,
   "metadata": {},
   "outputs": [
    {
     "name": "stdout",
     "output_type": "stream",
     "text": [
      "['item1.csv', 'item10.csv', 'item11.csv', 'item12.csv', 'item13.csv', 'item14.csv', 'item15.csv', 'item16.csv', 'item17.csv', 'item2.csv', 'item3.csv', 'item4.csv', 'item5.csv', 'item6.csv', 'item7.csv', 'item8.csv', 'item9.csv']\n"
     ]
    }
   ],
   "source": [
    "import os\n",
    "import glob\n",
    "\n",
    "path = '../output/bayesian_item_posteriors/'\n",
    "extension = 'csv'\n",
    "os.chdir(path)\n",
    "file_names = glob.glob('*.{}'.format(extension))\n",
    "print(file_names)"
   ]
  },
  {
   "cell_type": "code",
   "execution_count": 5,
   "metadata": {},
   "outputs": [],
   "source": [
    "raw_data = []\n",
    "for file_name in file_names:\n",
    "    raw_data.append(pd.read_csv(file_name, index_col=0))"
   ]
  },
  {
   "cell_type": "code",
   "execution_count": 13,
   "metadata": {},
   "outputs": [
    {
     "name": "stdout",
     "output_type": "stream",
     "text": [
      "Item 1\n",
      "Item 2\n",
      "Item 3\n",
      "Item 4\n",
      "Item 5\n",
      "Item 6\n",
      "Item 7\n",
      "Item 8\n",
      "Item 9\n",
      "Item 10\n",
      "Item 11\n",
      "Item 12\n",
      "Item 13\n",
      "Item 14\n",
      "Item 15\n",
      "Item 16\n",
      "Item 17\n"
     ]
    }
   ],
   "source": [
    "path = \"../../figures/supplement/bayesian_item_posteriors/\"\n",
    "for i in range(len(raw_data)):\n",
    "    temp = raw_data[i]\n",
    "    \n",
    "    ### Sorting and labelling the columns\n",
    "    old_col_names = temp.columns[:14]\n",
    "    temp = temp.loc[:, old_col_names]\n",
    "    new_col_names = [x[2:] for x in old_col_names]\n",
    "    new_col_names[13] = \"SD_Country_Intercept\"\n",
    "    new_col_names\n",
    "    temp = temp.rename(columns=dict(zip(old_col_names, new_col_names)))\n",
    "    temp = temp.melt(var_name=\"Coeffcient\", value_name=\"Posterior\")\n",
    "    \n",
    "    ### Plotting the figure\n",
    "    sns.set(style=\"whitegrid\", font_scale=1.25)\n",
    "    fig, ax = plt.subplots(figsize=(8, 12))\n",
    "    ax.axvline(ls='--', c=\"black\", x=0, zorder=-1000)\n",
    "    sns.violinplot(x=\"Posterior\", y=\"Coeffcient\", data=temp, ax = ax, color='#fdaa48',\n",
    "              order=['Intercept',  'SD_Country_Intercept', 'Loss_Awareness',\n",
    "     'Loss_Intuition', 'Men', 'Z_Age', 'Z_Income', 'Education.L', 'Education.Q', 'Education.C', 'Bill_Payments.L',\n",
    "     'Bill_Payments.Q', 'Bill_Payments.C', 'Bill_PaymentsE4'], zorder=1000)\n",
    "    ax.set(ylabel='', xlim=(-3, 3), title=\"Item \" + str(i+1))\n",
    "    \n",
    "    ### Saving and closing the figure\n",
    "    plt.savefig(path + \"Item \" + str(i+1) + \".svg\", bbox_inches=\"tight\")\n",
    "    plt.close()\n",
    "    print(\"Item \" + str(i+1))"
   ]
  }
 ],
 "metadata": {
  "kernelspec": {
   "display_name": "Python 3",
   "language": "python",
   "name": "python3"
  },
  "language_info": {
   "codemirror_mode": {
    "name": "ipython",
    "version": 3
   },
   "file_extension": ".py",
   "mimetype": "text/x-python",
   "name": "python",
   "nbconvert_exporter": "python",
   "pygments_lexer": "ipython3",
   "version": "3.7.3"
  }
 },
 "nbformat": 4,
 "nbformat_minor": 4
}
