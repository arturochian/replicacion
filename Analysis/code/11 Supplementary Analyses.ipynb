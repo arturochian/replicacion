{
 "cells": [
  {
   "cell_type": "markdown",
   "metadata": {},
   "source": [
    "# Loading packages"
   ]
  },
  {
   "cell_type": "code",
   "execution_count": 1,
   "metadata": {},
   "outputs": [],
   "source": [
    "import numpy as np\n",
    "import pandas as pd\n",
    "import glob"
   ]
  },
  {
   "cell_type": "code",
   "execution_count": 2,
   "metadata": {},
   "outputs": [],
   "source": [
    "import matplotlib.pyplot as plt\n",
    "import seaborn as sns\n",
    "%matplotlib inline"
   ]
  },
  {
   "cell_type": "code",
   "execution_count": 3,
   "metadata": {},
   "outputs": [],
   "source": [
    "from pandas.api.types import CategoricalDtype"
   ]
  },
  {
   "cell_type": "markdown",
   "metadata": {},
   "source": [
    "# Loading data"
   ]
  },
  {
   "cell_type": "markdown",
   "metadata": {},
   "source": [
    "### Data with PT contrast changes of mind"
   ]
  },
  {
   "cell_type": "code",
   "execution_count": 18,
   "metadata": {},
   "outputs": [],
   "source": [
    "data= pd.read_pickle(\"../output/pt_replication_modified_exclusions_data_CoM.pkl\")"
   ]
  },
  {
   "cell_type": "code",
   "execution_count": 19,
   "metadata": {},
   "outputs": [
    {
     "data": {
      "text/html": [
       "<div>\n",
       "<style scoped>\n",
       "    .dataframe tbody tr th:only-of-type {\n",
       "        vertical-align: middle;\n",
       "    }\n",
       "\n",
       "    .dataframe tbody tr th {\n",
       "        vertical-align: top;\n",
       "    }\n",
       "\n",
       "    .dataframe thead th {\n",
       "        text-align: right;\n",
       "    }\n",
       "</style>\n",
       "<table border=\"1\" class=\"dataframe\">\n",
       "  <thead>\n",
       "    <tr style=\"text-align: right;\">\n",
       "      <th></th>\n",
       "      <th>1</th>\n",
       "      <th>2</th>\n",
       "      <th>3</th>\n",
       "      <th>4</th>\n",
       "      <th>5</th>\n",
       "      <th>6</th>\n",
       "      <th>7</th>\n",
       "      <th>8</th>\n",
       "      <th>9</th>\n",
       "      <th>10</th>\n",
       "      <th>...</th>\n",
       "      <th>Contrast_3_7</th>\n",
       "      <th>Contrast_4_8</th>\n",
       "      <th>Contrast_5_9</th>\n",
       "      <th>Contrast_6_10</th>\n",
       "      <th>Contrast_16_17</th>\n",
       "      <th>Contrast_4_11</th>\n",
       "      <th>Contrast_5_6</th>\n",
       "      <th>Contrast_9_10</th>\n",
       "      <th>Contrast_12_13</th>\n",
       "      <th>Contrast_14_15</th>\n",
       "    </tr>\n",
       "  </thead>\n",
       "  <tbody>\n",
       "    <tr>\n",
       "      <th>0</th>\n",
       "      <td>1.0</td>\n",
       "      <td>0.0</td>\n",
       "      <td>0.0</td>\n",
       "      <td>1.0</td>\n",
       "      <td>1.0</td>\n",
       "      <td>1.0</td>\n",
       "      <td>1.0</td>\n",
       "      <td>0.0</td>\n",
       "      <td>1.0</td>\n",
       "      <td>1.0</td>\n",
       "      <td>...</td>\n",
       "      <td>PT</td>\n",
       "      <td>PT</td>\n",
       "      <td>EUT + PT</td>\n",
       "      <td>EUT + PT</td>\n",
       "      <td>EUT + PT</td>\n",
       "      <td>PT</td>\n",
       "      <td>EUT + PT</td>\n",
       "      <td>EUT + PT</td>\n",
       "      <td>EUT + PT</td>\n",
       "      <td>EUT + PT</td>\n",
       "    </tr>\n",
       "    <tr>\n",
       "      <th>1</th>\n",
       "      <td>0.0</td>\n",
       "      <td>0.0</td>\n",
       "      <td>0.0</td>\n",
       "      <td>0.0</td>\n",
       "      <td>0.0</td>\n",
       "      <td>0.0</td>\n",
       "      <td>0.0</td>\n",
       "      <td>0.0</td>\n",
       "      <td>1.0</td>\n",
       "      <td>0.0</td>\n",
       "      <td>...</td>\n",
       "      <td>EUT + PT</td>\n",
       "      <td>EUT + PT</td>\n",
       "      <td>PT</td>\n",
       "      <td>EUT + PT</td>\n",
       "      <td>PT</td>\n",
       "      <td>EUT + PT</td>\n",
       "      <td>EUT + PT</td>\n",
       "      <td>PT</td>\n",
       "      <td>EUT + PT</td>\n",
       "      <td>PT</td>\n",
       "    </tr>\n",
       "    <tr>\n",
       "      <th>2</th>\n",
       "      <td>0.0</td>\n",
       "      <td>0.0</td>\n",
       "      <td>0.0</td>\n",
       "      <td>0.0</td>\n",
       "      <td>0.0</td>\n",
       "      <td>0.0</td>\n",
       "      <td>1.0</td>\n",
       "      <td>0.0</td>\n",
       "      <td>0.0</td>\n",
       "      <td>0.0</td>\n",
       "      <td>...</td>\n",
       "      <td>PT</td>\n",
       "      <td>EUT + PT</td>\n",
       "      <td>EUT + PT</td>\n",
       "      <td>EUT + PT</td>\n",
       "      <td>Neither</td>\n",
       "      <td>EUT + PT</td>\n",
       "      <td>EUT + PT</td>\n",
       "      <td>EUT + PT</td>\n",
       "      <td>EUT + PT</td>\n",
       "      <td>PT</td>\n",
       "    </tr>\n",
       "    <tr>\n",
       "      <th>3</th>\n",
       "      <td>0.0</td>\n",
       "      <td>0.0</td>\n",
       "      <td>0.0</td>\n",
       "      <td>0.0</td>\n",
       "      <td>0.0</td>\n",
       "      <td>0.0</td>\n",
       "      <td>1.0</td>\n",
       "      <td>0.0</td>\n",
       "      <td>1.0</td>\n",
       "      <td>0.0</td>\n",
       "      <td>...</td>\n",
       "      <td>PT</td>\n",
       "      <td>EUT + PT</td>\n",
       "      <td>PT</td>\n",
       "      <td>EUT + PT</td>\n",
       "      <td>EUT + PT</td>\n",
       "      <td>EUT + PT</td>\n",
       "      <td>EUT + PT</td>\n",
       "      <td>PT</td>\n",
       "      <td>PT</td>\n",
       "      <td>PT</td>\n",
       "    </tr>\n",
       "    <tr>\n",
       "      <th>4</th>\n",
       "      <td>0.0</td>\n",
       "      <td>0.0</td>\n",
       "      <td>0.0</td>\n",
       "      <td>0.0</td>\n",
       "      <td>0.0</td>\n",
       "      <td>1.0</td>\n",
       "      <td>1.0</td>\n",
       "      <td>1.0</td>\n",
       "      <td>1.0</td>\n",
       "      <td>1.0</td>\n",
       "      <td>...</td>\n",
       "      <td>PT</td>\n",
       "      <td>Neither</td>\n",
       "      <td>PT</td>\n",
       "      <td>EUT + PT</td>\n",
       "      <td>EUT + PT</td>\n",
       "      <td>EUT + PT</td>\n",
       "      <td>PT</td>\n",
       "      <td>EUT + PT</td>\n",
       "      <td>EUT + PT</td>\n",
       "      <td>PT</td>\n",
       "    </tr>\n",
       "  </tbody>\n",
       "</table>\n",
       "<p>5 rows × 52 columns</p>\n",
       "</div>"
      ],
      "text/plain": [
       "     1    2    3    4    5    6    7    8    9   10  ...  Contrast_3_7  \\\n",
       "0  1.0  0.0  0.0  1.0  1.0  1.0  1.0  0.0  1.0  1.0  ...            PT   \n",
       "1  0.0  0.0  0.0  0.0  0.0  0.0  0.0  0.0  1.0  0.0  ...      EUT + PT   \n",
       "2  0.0  0.0  0.0  0.0  0.0  0.0  1.0  0.0  0.0  0.0  ...            PT   \n",
       "3  0.0  0.0  0.0  0.0  0.0  0.0  1.0  0.0  1.0  0.0  ...            PT   \n",
       "4  0.0  0.0  0.0  0.0  0.0  1.0  1.0  1.0  1.0  1.0  ...            PT   \n",
       "\n",
       "   Contrast_4_8  Contrast_5_9  Contrast_6_10  Contrast_16_17  Contrast_4_11  \\\n",
       "0            PT      EUT + PT       EUT + PT        EUT + PT             PT   \n",
       "1      EUT + PT            PT       EUT + PT              PT       EUT + PT   \n",
       "2      EUT + PT      EUT + PT       EUT + PT         Neither       EUT + PT   \n",
       "3      EUT + PT            PT       EUT + PT        EUT + PT       EUT + PT   \n",
       "4       Neither            PT       EUT + PT        EUT + PT       EUT + PT   \n",
       "\n",
       "   Contrast_5_6 Contrast_9_10  Contrast_12_13  Contrast_14_15  \n",
       "0      EUT + PT      EUT + PT        EUT + PT        EUT + PT  \n",
       "1      EUT + PT            PT        EUT + PT              PT  \n",
       "2      EUT + PT      EUT + PT        EUT + PT              PT  \n",
       "3      EUT + PT            PT              PT              PT  \n",
       "4            PT      EUT + PT        EUT + PT              PT  \n",
       "\n",
       "[5 rows x 52 columns]"
      ]
     },
     "execution_count": 19,
     "metadata": {},
     "output_type": "execute_result"
    }
   ],
   "source": [
    "data.head()"
   ]
  },
  {
   "cell_type": "markdown",
   "metadata": {},
   "source": [
    "### PT contrast changes of mind table"
   ]
  },
  {
   "cell_type": "code",
   "execution_count": 20,
   "metadata": {},
   "outputs": [],
   "source": [
    "contrast_table = pd.read_excel(\"../output/contrast_changes_of_mind.xlsx\")"
   ]
  },
  {
   "cell_type": "code",
   "execution_count": 24,
   "metadata": {},
   "outputs": [
    {
     "data": {
      "text/html": [
       "<div>\n",
       "<style scoped>\n",
       "    .dataframe tbody tr th:only-of-type {\n",
       "        vertical-align: middle;\n",
       "    }\n",
       "\n",
       "    .dataframe tbody tr th {\n",
       "        vertical-align: top;\n",
       "    }\n",
       "\n",
       "    .dataframe thead th {\n",
       "        text-align: right;\n",
       "    }\n",
       "</style>\n",
       "<table border=\"1\" class=\"dataframe\">\n",
       "  <thead>\n",
       "    <tr style=\"text-align: right;\">\n",
       "      <th></th>\n",
       "      <th>Effect</th>\n",
       "      <th>EUT + PT</th>\n",
       "      <th>Neither</th>\n",
       "      <th>PT</th>\n",
       "    </tr>\n",
       "  </thead>\n",
       "  <tbody>\n",
       "    <tr>\n",
       "      <th>0</th>\n",
       "      <td>Contrast_14_15</td>\n",
       "      <td>43.699871</td>\n",
       "      <td>7.089263</td>\n",
       "      <td>49.210867</td>\n",
       "    </tr>\n",
       "    <tr>\n",
       "      <th>1</th>\n",
       "      <td>Contrast_12_13</td>\n",
       "      <td>47.657394</td>\n",
       "      <td>8.272328</td>\n",
       "      <td>44.070278</td>\n",
       "    </tr>\n",
       "    <tr>\n",
       "      <th>2</th>\n",
       "      <td>Contrast_9_10</td>\n",
       "      <td>47.730600</td>\n",
       "      <td>7.808687</td>\n",
       "      <td>44.460713</td>\n",
       "    </tr>\n",
       "    <tr>\n",
       "      <th>3</th>\n",
       "      <td>Contrast_5_6</td>\n",
       "      <td>39.580283</td>\n",
       "      <td>2.879453</td>\n",
       "      <td>57.540264</td>\n",
       "    </tr>\n",
       "    <tr>\n",
       "      <th>4</th>\n",
       "      <td>Contrast_4_11</td>\n",
       "      <td>53.757931</td>\n",
       "      <td>5.563690</td>\n",
       "      <td>40.678380</td>\n",
       "    </tr>\n",
       "  </tbody>\n",
       "</table>\n",
       "</div>"
      ],
      "text/plain": [
       "           Effect   EUT + PT   Neither         PT\n",
       "0  Contrast_14_15  43.699871  7.089263  49.210867\n",
       "1  Contrast_12_13  47.657394  8.272328  44.070278\n",
       "2   Contrast_9_10  47.730600  7.808687  44.460713\n",
       "3    Contrast_5_6  39.580283  2.879453  57.540264\n",
       "4   Contrast_4_11  53.757931  5.563690  40.678380"
      ]
     },
     "execution_count": 24,
     "metadata": {},
     "output_type": "execute_result"
    }
   ],
   "source": [
    "contrast_table.head()"
   ]
  },
  {
   "cell_type": "code",
   "execution_count": 27,
   "metadata": {},
   "outputs": [],
   "source": [
    "contrast_columns = contrast_table[\"Effect\"].values[::-1]"
   ]
  },
  {
   "cell_type": "markdown",
   "metadata": {},
   "source": [
    "### Proportion A by country"
   ]
  },
  {
   "cell_type": "code",
   "execution_count": 8,
   "metadata": {},
   "outputs": [],
   "source": [
    "long_data = pd.read_csv(\"../output/proportions_by_country.csv\")"
   ]
  },
  {
   "cell_type": "code",
   "execution_count": 9,
   "metadata": {},
   "outputs": [
    {
     "data": {
      "text/html": [
       "<div>\n",
       "<style scoped>\n",
       "    .dataframe tbody tr th:only-of-type {\n",
       "        vertical-align: middle;\n",
       "    }\n",
       "\n",
       "    .dataframe tbody tr th {\n",
       "        vertical-align: top;\n",
       "    }\n",
       "\n",
       "    .dataframe thead th {\n",
       "        text-align: right;\n",
       "    }\n",
       "</style>\n",
       "<table border=\"1\" class=\"dataframe\">\n",
       "  <thead>\n",
       "    <tr style=\"text-align: right;\">\n",
       "      <th></th>\n",
       "      <th>Country</th>\n",
       "      <th>Item</th>\n",
       "      <th>Proportion</th>\n",
       "      <th>Succesful Replication</th>\n",
       "      <th>Sample Size</th>\n",
       "    </tr>\n",
       "  </thead>\n",
       "  <tbody>\n",
       "    <tr>\n",
       "      <th>0</th>\n",
       "      <td>Australia</td>\n",
       "      <td>1</td>\n",
       "      <td>0.446809</td>\n",
       "      <td>No</td>\n",
       "      <td>282</td>\n",
       "    </tr>\n",
       "    <tr>\n",
       "      <th>1</th>\n",
       "      <td>Austria</td>\n",
       "      <td>1</td>\n",
       "      <td>0.198198</td>\n",
       "      <td>Yes</td>\n",
       "      <td>111</td>\n",
       "    </tr>\n",
       "    <tr>\n",
       "      <th>2</th>\n",
       "      <td>Belgium</td>\n",
       "      <td>1</td>\n",
       "      <td>0.192708</td>\n",
       "      <td>Yes</td>\n",
       "      <td>192</td>\n",
       "    </tr>\n",
       "    <tr>\n",
       "      <th>3</th>\n",
       "      <td>Bulgaria</td>\n",
       "      <td>1</td>\n",
       "      <td>0.181102</td>\n",
       "      <td>Yes</td>\n",
       "      <td>127</td>\n",
       "    </tr>\n",
       "    <tr>\n",
       "      <th>4</th>\n",
       "      <td>Chile</td>\n",
       "      <td>1</td>\n",
       "      <td>0.186207</td>\n",
       "      <td>Yes</td>\n",
       "      <td>145</td>\n",
       "    </tr>\n",
       "  </tbody>\n",
       "</table>\n",
       "</div>"
      ],
      "text/plain": [
       "     Country  Item  Proportion Succesful Replication  Sample Size\n",
       "0  Australia     1    0.446809                    No          282\n",
       "1    Austria     1    0.198198                   Yes          111\n",
       "2    Belgium     1    0.192708                   Yes          192\n",
       "3   Bulgaria     1    0.181102                   Yes          127\n",
       "4      Chile     1    0.186207                   Yes          145"
      ]
     },
     "execution_count": 9,
     "metadata": {},
     "output_type": "execute_result"
    }
   ],
   "source": [
    "long_data.head()"
   ]
  },
  {
   "cell_type": "markdown",
   "metadata": {},
   "source": [
    "### Meta analytic proportions"
   ]
  },
  {
   "cell_type": "code",
   "execution_count": 14,
   "metadata": {},
   "outputs": [],
   "source": [
    "prop_df = pd.read_excel(\"../output/Meta analysis proportions.xlsx\", index=False)"
   ]
  },
  {
   "cell_type": "code",
   "execution_count": 15,
   "metadata": {},
   "outputs": [],
   "source": [
    "prop_df.loc[7, \"Succesful Replication\"] = \"NA\""
   ]
  },
  {
   "cell_type": "code",
   "execution_count": 16,
   "metadata": {},
   "outputs": [
    {
     "data": {
      "text/html": [
       "<div>\n",
       "<style scoped>\n",
       "    .dataframe tbody tr th:only-of-type {\n",
       "        vertical-align: middle;\n",
       "    }\n",
       "\n",
       "    .dataframe tbody tr th {\n",
       "        vertical-align: top;\n",
       "    }\n",
       "\n",
       "    .dataframe thead th {\n",
       "        text-align: right;\n",
       "    }\n",
       "</style>\n",
       "<table border=\"1\" class=\"dataframe\">\n",
       "  <thead>\n",
       "    <tr style=\"text-align: right;\">\n",
       "      <th></th>\n",
       "      <th>prop</th>\n",
       "      <th>lb</th>\n",
       "      <th>ub</th>\n",
       "      <th>p-value</th>\n",
       "      <th>Item</th>\n",
       "      <th>Succesful Replication</th>\n",
       "    </tr>\n",
       "  </thead>\n",
       "  <tbody>\n",
       "    <tr>\n",
       "      <th>0</th>\n",
       "      <td>0.241358</td>\n",
       "      <td>0.211271</td>\n",
       "      <td>0.274240</td>\n",
       "      <td>6.539007e-39</td>\n",
       "      <td>1</td>\n",
       "      <td>Yes</td>\n",
       "    </tr>\n",
       "    <tr>\n",
       "      <th>1</th>\n",
       "      <td>0.614820</td>\n",
       "      <td>0.586543</td>\n",
       "      <td>0.642342</td>\n",
       "      <td>7.730740e-15</td>\n",
       "      <td>2</td>\n",
       "      <td>Yes</td>\n",
       "    </tr>\n",
       "    <tr>\n",
       "      <th>2</th>\n",
       "      <td>0.123918</td>\n",
       "      <td>0.106135</td>\n",
       "      <td>0.144201</td>\n",
       "      <td>2.377183e-106</td>\n",
       "      <td>3</td>\n",
       "      <td>Yes</td>\n",
       "    </tr>\n",
       "    <tr>\n",
       "      <th>3</th>\n",
       "      <td>0.509695</td>\n",
       "      <td>0.478994</td>\n",
       "      <td>0.540324</td>\n",
       "      <td>5.360876e-01</td>\n",
       "      <td>4</td>\n",
       "      <td>No</td>\n",
       "    </tr>\n",
       "    <tr>\n",
       "      <th>4</th>\n",
       "      <td>0.102886</td>\n",
       "      <td>0.082922</td>\n",
       "      <td>0.126991</td>\n",
       "      <td>2.691424e-71</td>\n",
       "      <td>5</td>\n",
       "      <td>Yes</td>\n",
       "    </tr>\n",
       "  </tbody>\n",
       "</table>\n",
       "</div>"
      ],
      "text/plain": [
       "       prop        lb        ub        p-value  Item Succesful Replication\n",
       "0  0.241358  0.211271  0.274240   6.539007e-39     1                   Yes\n",
       "1  0.614820  0.586543  0.642342   7.730740e-15     2                   Yes\n",
       "2  0.123918  0.106135  0.144201  2.377183e-106     3                   Yes\n",
       "3  0.509695  0.478994  0.540324   5.360876e-01     4                    No\n",
       "4  0.102886  0.082922  0.126991   2.691424e-71     5                   Yes"
      ]
     },
     "execution_count": 16,
     "metadata": {},
     "output_type": "execute_result"
    }
   ],
   "source": [
    "prop_df.head()"
   ]
  },
  {
   "cell_type": "markdown",
   "metadata": {},
   "source": [
    "# Supplementary Analyses"
   ]
  },
  {
   "cell_type": "markdown",
   "metadata": {},
   "source": [
    "# Choice proportions as a function of the magnitude of the reference value"
   ]
  },
  {
   "cell_type": "code",
   "execution_count": 6,
   "metadata": {},
   "outputs": [],
   "source": [
    "reference_magnitude_table = pd.read_excel(\"../data/reference_value_by_country.xlsx\")"
   ]
  },
  {
   "cell_type": "code",
   "execution_count": 7,
   "metadata": {},
   "outputs": [],
   "source": [
    "reference_magnitude_dict = reference_magnitude_table.set_index(\"Country\")[\"Reference Number\"].to_dict()"
   ]
  },
  {
   "cell_type": "code",
   "execution_count": 10,
   "metadata": {},
   "outputs": [],
   "source": [
    "long_data[\"Reference Magnitude\"] = long_data[\"Country\"].map(reference_magnitude_dict )"
   ]
  },
  {
   "cell_type": "code",
   "execution_count": 11,
   "metadata": {},
   "outputs": [],
   "source": [
    "long_data[\"Reference Magnitude\"] = long_data[\"Reference Magnitude\"].astype(float)"
   ]
  },
  {
   "cell_type": "code",
   "execution_count": 12,
   "metadata": {},
   "outputs": [],
   "source": [
    "long_data[\"Log Reference Magnitude\"] = np.log(long_data[\"Reference Magnitude\"])"
   ]
  },
  {
   "cell_type": "code",
   "execution_count": 17,
   "metadata": {},
   "outputs": [
    {
     "data": {
      "image/png": "[encoded data removed]",
      "text/plain": [
       "<Figure size 576x216 with 1 Axes>"
      ]
     },
     "metadata": {},
     "output_type": "display_data"
    }
   ],
   "source": [
    "sns.set(font_scale=1, style=\"ticks\")\n",
    "fig, ax = plt.subplots(figsize=(8, 3))\n",
    "sns.swarmplot(x=\"Item\", y=\"Proportion\", data=long_data, hue=\"Reference Magnitude\", linewidth=0, alpha=0.8, ax=ax, zorder=1000,\n",
    "             palette=\"Blues\", order=prop_df.sort_values(by=\"prop\", ascending=False)[\"Item\"].values)\n",
    "ax.axhline(ls='--', c=\"black\", y=0.5)\n",
    "lgd = plt.legend(handles=ax.get_legend_handles_labels()[0][:-3], bbox_to_anchor=(1.05, 1), loc=2, borderaxespad=0.)\n",
    "ax.set(ylim=(0,1), ylabel=\"Proportion A Chosen\")\n",
    "sns.despine()\n",
    "plt.savefig(\"../figures/supplement/Magnitude and Response Proportions.svg\", bbox_extra_artists=(lgd,),\n",
    "            bbox_inches=\"tight\")"
   ]
  },
  {
   "cell_type": "markdown",
   "metadata": {},
   "source": [
    "### There is no evidence to suggest that the magnitude of the reference value predicted choices in any way"
   ]
  },
  {
   "cell_type": "markdown",
   "metadata": {},
   "source": [
    "## Total Prospect Theory Paradoxes Analyses"
   ]
  },
  {
   "cell_type": "markdown",
   "metadata": {},
   "source": [
    "### Distribution of prospect theory paradoxes"
   ]
  },
  {
   "cell_type": "code",
   "execution_count": 28,
   "metadata": {},
   "outputs": [],
   "source": [
    "for col in contrast_columns:\n",
    "    data[col] = (data[col] == \"PT\").astype(int)"
   ]
  },
  {
   "cell_type": "code",
   "execution_count": 29,
   "metadata": {},
   "outputs": [],
   "source": [
    "data[\"Total Prospect Theory Paradoxes\"] = data[contrast_columns].sum(1)"
   ]
  },
  {
   "cell_type": "code",
   "execution_count": 30,
   "metadata": {},
   "outputs": [
    {
     "data": {
      "text/plain": [
       "0    5\n",
       "dtype: int64"
      ]
     },
     "execution_count": 30,
     "metadata": {},
     "output_type": "execute_result"
    }
   ],
   "source": [
    "data[\"Total Prospect Theory Paradoxes\"].mode()"
   ]
  },
  {
   "cell_type": "code",
   "execution_count": 31,
   "metadata": {},
   "outputs": [
    {
     "data": {
      "text/plain": [
       "6.0"
      ]
     },
     "execution_count": 31,
     "metadata": {},
     "output_type": "execute_result"
    }
   ],
   "source": [
    "data[\"Total Prospect Theory Paradoxes\"].median()"
   ]
  },
  {
   "cell_type": "code",
   "execution_count": 32,
   "metadata": {},
   "outputs": [
    {
     "data": {
      "image/png": "[encoded data removed]",
      "text/plain": [
       "<Figure size 576x144 with 1 Axes>"
      ]
     },
     "metadata": {},
     "output_type": "display_data"
    }
   ],
   "source": [
    "sns.set(font_scale=1, style=\"ticks\")\n",
    "fig, ax= plt.subplots(figsize=(8, 2))\n",
    "sns.distplot(data[\"Total Prospect Theory Paradoxes\"], bins=14, kde=False, color='#2e86c1')\n",
    "ax.set(xlim=(0, 13))\n",
    "sns.despine()\n",
    "plt.savefig(\"../figures/supplement/Prospect theory congruent choices by participant.svg\", bbox_extra_artists=(lgd,),\n",
    "           bbox_inches=\"tight\")"
   ]
  },
  {
   "cell_type": "markdown",
   "metadata": {},
   "source": [
    "### Distribution of prospect theory paradoxes per country"
   ]
  },
  {
   "cell_type": "code",
   "execution_count": 36,
   "metadata": {},
   "outputs": [],
   "source": [
    "continents = {\"Europe\":['Bulgaria', 'Denmark', 'Belgium', 'Ireland', 'UK','Austria', 'Germany',\n",
    "       'Hungary', 'Italy', 'Norway', 'Serbia', 'Slovenia', 'Spain', 'Sweden'],\n",
    "             \"Asia\":['Hong Kong', 'Mainland China'],\n",
    "             \"North America\": [\"USA\"],\n",
    "            \"Oceania\": [\"Australia\"],\n",
    "             \"South America\":[\"Chile\"]}"
   ]
  },
  {
   "cell_type": "code",
   "execution_count": 41,
   "metadata": {},
   "outputs": [
    {
     "data": {
      "text/plain": [
       "dict_keys(['Europe', 'Asia', 'North America', 'Oceania', 'South America'])"
      ]
     },
     "execution_count": 41,
     "metadata": {},
     "output_type": "execute_result"
    }
   ],
   "source": [
    "continents.keys()"
   ]
  },
  {
   "cell_type": "code",
   "execution_count": 38,
   "metadata": {},
   "outputs": [],
   "source": [
    "new_map = {}\n",
    "for continent in continents.keys():\n",
    "    for country in continents[continent]:\n",
    "        new_map[country] = continent"
   ]
  },
  {
   "cell_type": "code",
   "execution_count": 42,
   "metadata": {},
   "outputs": [],
   "source": [
    "cont_col_dict = dict(zip(continents.keys(), sns.color_palette(\"hls\", 7)[:5]))"
   ]
  },
  {
   "cell_type": "code",
   "execution_count": 43,
   "metadata": {},
   "outputs": [
    {
     "data": {
      "text/plain": [
       "{'Europe': (0.86, 0.3712, 0.33999999999999997),\n",
       " 'Asia': (0.86, 0.8169142857142857, 0.33999999999999997),\n",
       " 'North America': (0.4573714285714283, 0.86, 0.33999999999999997),\n",
       " 'Oceania': (0.33999999999999997, 0.86, 0.6683428571428571),\n",
       " 'South America': (0.33999999999999997, 0.6059428571428571, 0.86)}"
      ]
     },
     "execution_count": 43,
     "metadata": {},
     "output_type": "execute_result"
    }
   ],
   "source": [
    "cont_col_dict"
   ]
  },
  {
   "cell_type": "code",
   "execution_count": 44,
   "metadata": {},
   "outputs": [],
   "source": [
    "paradox_palette = data.groupby(\"Country\")[\"Total Prospect Theory Paradoxes\"].mean().sort_values(ascending=False).index.map(new_map).map(cont_col_dict)"
   ]
  },
  {
   "cell_type": "code",
   "execution_count": 45,
   "metadata": {},
   "outputs": [
    {
     "data": {
      "image/png": "[encoded data removed]",
      "text/plain": [
       "<Figure size 576x864 with 1 Axes>"
      ]
     },
     "metadata": {},
     "output_type": "display_data"
    }
   ],
   "source": [
    "import matplotlib.patches as mpatches\n",
    "sns.set(font_scale=1.2, style=\"ticks\")\n",
    "fig, ax= plt.subplots(figsize=(8, 12))\n",
    "sns.violinplot(data=data, y=\"Country\", x=\"Total Prospect Theory Paradoxes\", ax = ax, order=data.groupby(\"Country\")[\"Total Prospect Theory Paradoxes\"].mean().sort_values(ascending=False).index, \n",
    "              palette=paradox_palette)\n",
    "pooled = mpatches.Patch(color=sns.color_palette(\"hls\", 7)[6], label='Pooled')\n",
    "asia = mpatches.Patch(color=cont_col_dict[\"Asia\"], label='Asia')\n",
    "europe = mpatches.Patch(color=cont_col_dict[\"Europe\"], label='Europe')\n",
    "north_america = mpatches.Patch(color=cont_col_dict[\"North America\"], label='North America')\n",
    "oceania = mpatches.Patch(color=cont_col_dict[\"Oceania\"], label='Oceania')\n",
    "south_america = mpatches.Patch(color=cont_col_dict[\"South America\"], label='South America')\n",
    "\n",
    "lgd = plt.legend(handles=[asia, europe, north_america, oceania, south_america], bbox_to_anchor=(1.05, 1), loc=2, borderaxespad=0.)\n",
    "\n",
    "sns.despine()\n",
    "ax.set(xlim=(0, 13))\n",
    "plt.savefig(\"../figures/supplement/Prospect theory congruent choices by country.svg\", bbox_extra_artists=(lgd,),\n",
    "           bbox_inches=\"tight\")"
   ]
  },
  {
   "cell_type": "markdown",
   "metadata": {},
   "source": [
    "### Paradox analyses in R"
   ]
  },
  {
   "cell_type": "code",
   "execution_count": 53,
   "metadata": {},
   "outputs": [],
   "source": [
    "contrast_columns_extended = np.concatenate((contrast_columns, [\"Country\", \"Age\", 'Loss_Awareness', 'Loss_Intuition']), axis=None)"
   ]
  },
  {
   "cell_type": "code",
   "execution_count": 54,
   "metadata": {},
   "outputs": [],
   "source": [
    "data2 = data[contrast_columns_extended].copy()"
   ]
  },
  {
   "cell_type": "code",
   "execution_count": 55,
   "metadata": {},
   "outputs": [],
   "source": [
    "data2[\"Loss_Intuition\"] = data2[\"Loss_Intuition\"].fillna(0)"
   ]
  },
  {
   "cell_type": "code",
   "execution_count": 57,
   "metadata": {},
   "outputs": [],
   "source": [
    "%load_ext RWinOut"
   ]
  },
  {
   "cell_type": "code",
   "execution_count": 58,
   "metadata": {},
   "outputs": [
    {
     "name": "stderr",
     "output_type": "stream",
     "text": [
      "C:\\ProgramData\\Anaconda3\\lib\\site-packages\\rpy2\\robjects\\pandas2ri.py:191: FutureWarning: from_items is deprecated. Please use DataFrame.from_dict(dict(items), ...) instead. DataFrame.from_dict(OrderedDict(items)) may be used to preserve the key order.\n",
      "  res = PandasDataFrame.from_items(items)\n"
     ]
    }
   ],
   "source": [
    "%R -i data2"
   ]
  },
  {
   "cell_type": "code",
   "execution_count": 59,
   "metadata": {},
   "outputs": [
    {
     "name": "stdout",
     "output_type": "stream",
     "text": [
      "  Contrast_1_2 Contrast_3_4 Contrast_7_8 Contrast_3_7 Contrast_4_8 Contrast_5_9\n",
      "0            0            1            1            1            1            0\n",
      "1            0            0            0            0            0            1\n",
      "2            0            0            1            1            0            0\n",
      "3            0            0            1            1            0            1\n",
      "4            0            0            0            1            0            1\n",
      "5            0            0            0            1            0            0\n",
      "  Contrast_6_10 Contrast_16_17 Contrast_4_11 Contrast_5_6 Contrast_9_10\n",
      "0             0              0             1            0             0\n",
      "1             0              1             0            0             1\n",
      "2             0              0             0            0             0\n",
      "3             0              0             0            0             1\n",
      "4             0              0             0            1             0\n",
      "5             0              0             0            0             0\n",
      "  Contrast_12_13 Contrast_14_15  Country Age Loss_Awareness Loss_Intuition\n",
      "0              0              0 Bulgaria  27              0              1\n",
      "1              0              1 Bulgaria  40              1              0\n",
      "2              0              1 Bulgaria  44              0              1\n",
      "3              1              1 Bulgaria  42              1              0\n",
      "4              0              1 Bulgaria  49              1              0\n",
      "5              0              1 Bulgaria  59              1              0\n"
     ]
    }
   ],
   "source": [
    "%%R\n",
    "head(data2)"
   ]
  },
  {
   "cell_type": "markdown",
   "metadata": {},
   "source": [
    "### Controlling for loss aversion awareness"
   ]
  },
  {
   "cell_type": "code",
   "execution_count": 60,
   "metadata": {},
   "outputs": [],
   "source": [
    "%%R\n",
    "library(lme4)"
   ]
  },
  {
   "cell_type": "code",
   "execution_count": 61,
   "metadata": {},
   "outputs": [
    {
     "name": "stdout",
     "output_type": "stream",
     "text": [
      "Generalized linear mixed model fit by maximum likelihood (Laplace\n",
      "  Approximation) [glmerMod]\n",
      " Family: binomial  ( logit )\n",
      "Formula: Contrast_1_2 ~ Loss_Awareness + Loss_Intuition + (1 | Country)\n",
      "   Data: data2\n",
      "\n",
      "     AIC      BIC   logLik deviance df.resid \n",
      "  5626.1   5651.4  -2809.1   5618.1     4094 \n",
      "\n",
      "Scaled residuals: \n",
      "    Min      1Q  Median      3Q     Max \n",
      "-0.9740 -0.8892 -0.8412  1.1137  1.2214 \n",
      "\n",
      "Random effects:\n",
      " Groups  Name        Variance Std.Dev.\n",
      " Country (Intercept) 0.009931 0.09966 \n",
      "Number of obs: 4098, groups:  Country, 19\n",
      "\n",
      "Fixed effects:\n",
      "               Estimate Std. Error z value Pr(>|z|)   \n",
      "(Intercept)    -0.23715    0.09131  -2.597   0.0094 **\n",
      "Loss_Awareness  0.07786    0.10393   0.749   0.4538   \n",
      "Loss_Intuition -0.04246    0.09830  -0.432   0.6657   \n",
      "---\n",
      "Signif. codes:  0 '***' 0.001 '**' 0.01 '*' 0.05 '.' 0.1 ' ' 1\n",
      "\n",
      "Correlation of Fixed Effects:\n",
      "            (Intr) Lss_Aw\n",
      "Loss_Awrnss -0.822       \n",
      "Loss_Intutn -0.867  0.760\n"
     ]
    }
   ],
   "source": [
    "%%R\n",
    "fit = glmer(Contrast_1_2 ~ Loss_Awareness + Loss_Intuition + (1|Country), data=data2, family=\"binomial\")\n",
    "summary(fit)"
   ]
  },
  {
   "cell_type": "code",
   "execution_count": 62,
   "metadata": {},
   "outputs": [
    {
     "name": "stdout",
     "output_type": "stream",
     "text": [
      "Generalized linear mixed model fit by maximum likelihood (Laplace\n",
      "  Approximation) [glmerMod]\n",
      " Family: binomial  ( logit )\n",
      "Formula: Contrast_3_4 ~ Loss_Awareness + Loss_Intuition + (1 | Country)\n",
      "   Data: data2\n",
      "\n",
      "     AIC      BIC   logLik deviance df.resid \n",
      "  5589.0   5614.3  -2790.5   5581.0     4094 \n",
      "\n",
      "Scaled residuals: \n",
      "    Min      1Q  Median      3Q     Max \n",
      "-0.9172 -0.8585 -0.8167  1.1627  1.2418 \n",
      "\n",
      "Random effects:\n",
      " Groups  Name        Variance Std.Dev.\n",
      " Country (Intercept) 0.01106  0.1052  \n",
      "Number of obs: 4098, groups:  Country, 19\n",
      "\n",
      "Fixed effects:\n",
      "               Estimate Std. Error z value Pr(>|z|)   \n",
      "(Intercept)    -0.28508    0.09202  -3.098  0.00195 **\n",
      "Loss_Awareness -0.02194    0.10500  -0.209  0.83448   \n",
      "Loss_Intuition -0.03448    0.09857  -0.350  0.72653   \n",
      "---\n",
      "Signif. codes:  0 '***' 0.001 '**' 0.01 '*' 0.05 '.' 0.1 ' ' 1\n",
      "\n",
      "Correlation of Fixed Effects:\n",
      "            (Intr) Lss_Aw\n",
      "Loss_Awrnss -0.817       \n",
      "Loss_Intutn -0.864  0.758\n"
     ]
    }
   ],
   "source": [
    "%%R\n",
    "fit = glmer(Contrast_3_4 ~ Loss_Awareness + Loss_Intuition + (1|Country), data=data2, family=\"binomial\")\n",
    "summary(fit)"
   ]
  },
  {
   "cell_type": "code",
   "execution_count": 63,
   "metadata": {},
   "outputs": [
    {
     "name": "stdout",
     "output_type": "stream",
     "text": [
      "Generalized linear mixed model fit by maximum likelihood (Laplace\n",
      "  Approximation) [glmerMod]\n",
      " Family: binomial  ( logit )\n",
      "Formula: Contrast_7_8 ~ Loss_Awareness + Loss_Intuition + (1 | Country)\n",
      "   Data: data2\n",
      "\n",
      "     AIC      BIC   logLik deviance df.resid \n",
      "  5425.7   5451.0  -2708.8   5417.7     4094 \n",
      "\n",
      "Scaled residuals: \n",
      "    Min      1Q  Median      3Q     Max \n",
      "-0.7987 -0.7746 -0.7623  1.2816  1.3441 \n",
      "\n",
      "Random effects:\n",
      " Groups  Name        Variance Std.Dev.\n",
      " Country (Intercept) 0.004399 0.06633 \n",
      "Number of obs: 4098, groups:  Country, 19\n",
      "\n",
      "Fixed effects:\n",
      "               Estimate Std. Error z value Pr(>|z|)    \n",
      "(Intercept)    -0.52131    0.09188  -5.674  1.4e-08 ***\n",
      "Loss_Awareness -0.01104    0.10664  -0.104    0.918    \n",
      "Loss_Intuition  0.02078    0.10061   0.207    0.836    \n",
      "---\n",
      "Signif. codes:  0 '***' 0.001 '**' 0.01 '*' 0.05 '.' 0.1 ' ' 1\n",
      "\n",
      "Correlation of Fixed Effects:\n",
      "            (Intr) Lss_Aw\n",
      "Loss_Awrnss -0.837       \n",
      "Loss_Intutn -0.886  0.763\n"
     ]
    }
   ],
   "source": [
    "%%R\n",
    "fit = glmer(Contrast_7_8 ~ Loss_Awareness + Loss_Intuition + (1|Country), data=data2, family=\"binomial\")\n",
    "summary(fit)"
   ]
  },
  {
   "cell_type": "code",
   "execution_count": 64,
   "metadata": {},
   "outputs": [
    {
     "name": "stdout",
     "output_type": "stream",
     "text": [
      "Generalized linear mixed model fit by maximum likelihood (Laplace\n",
      "  Approximation) [glmerMod]\n",
      " Family: binomial  ( logit )\n",
      "Formula: Contrast_3_7 ~ Loss_Awareness + Loss_Intuition + (1 | Country)\n",
      "   Data: data2\n",
      "\n",
      "     AIC      BIC   logLik deviance df.resid \n",
      "  4919.5   4944.8  -2455.8   4911.5     4094 \n",
      "\n",
      "Scaled residuals: \n",
      "    Min      1Q  Median      3Q     Max \n",
      "-1.9360 -1.3762  0.6015  0.6538  0.7974 \n",
      "\n",
      "Random effects:\n",
      " Groups  Name        Variance Std.Dev.\n",
      " Country (Intercept) 0.04138  0.2034  \n",
      "Number of obs: 4098, groups:  Country, 19\n",
      "\n",
      "Fixed effects:\n",
      "               Estimate Std. Error z value Pr(>|z|)    \n",
      "(Intercept)      0.9188     0.1082   8.495   <2e-16 ***\n",
      "Loss_Awareness  -0.1872     0.1136  -1.649   0.0992 .  \n",
      "Loss_Intuition   0.1119     0.1085   1.031   0.3026    \n",
      "---\n",
      "Signif. codes:  0 '***' 0.001 '**' 0.01 '*' 0.05 '.' 0.1 ' ' 1\n",
      "\n",
      "Correlation of Fixed Effects:\n",
      "            (Intr) Lss_Aw\n",
      "Loss_Awrnss -0.767       \n",
      "Loss_Intutn -0.802  0.762\n"
     ]
    }
   ],
   "source": [
    "%%R\n",
    "fit = glmer(Contrast_3_7 ~ Loss_Awareness + Loss_Intuition + (1|Country), data=data2, family=\"binomial\")\n",
    "summary(fit)"
   ]
  },
  {
   "cell_type": "code",
   "execution_count": 65,
   "metadata": {},
   "outputs": [
    {
     "name": "stdout",
     "output_type": "stream",
     "text": [
      "Generalized linear mixed model fit by maximum likelihood (Laplace\n",
      "  Approximation) [glmerMod]\n",
      " Family: binomial  ( logit )\n",
      "Formula: Contrast_4_8 ~ Loss_Awareness + Loss_Intuition + (1 | Country)\n",
      "   Data: data2\n",
      "\n",
      "     AIC      BIC   logLik deviance df.resid \n",
      "  4791.8   4817.0  -2391.9   4783.8     4094 \n",
      "\n",
      "Scaled residuals: \n",
      "    Min      1Q  Median      3Q     Max \n",
      "-0.7134 -0.6288 -0.5751  1.4350  1.9395 \n",
      "\n",
      "Random effects:\n",
      " Groups  Name        Variance Std.Dev.\n",
      " Country (Intercept) 0.03464  0.1861  \n",
      "Number of obs: 4098, groups:  Country, 19\n",
      "\n",
      "Fixed effects:\n",
      "               Estimate Std. Error z value Pr(>|z|)    \n",
      "(Intercept)    -1.02510    0.10861  -9.438   <2e-16 ***\n",
      "Loss_Awareness  0.11701    0.11662   1.003    0.316    \n",
      "Loss_Intuition -0.01487    0.11077  -0.134    0.893    \n",
      "---\n",
      "Signif. codes:  0 '***' 0.001 '**' 0.01 '*' 0.05 '.' 0.1 ' ' 1\n",
      "\n",
      "Correlation of Fixed Effects:\n",
      "            (Intr) Lss_Aw\n",
      "Loss_Awrnss -0.783       \n",
      "Loss_Intutn -0.822  0.763\n"
     ]
    }
   ],
   "source": [
    "%%R\n",
    "fit = glmer(Contrast_4_8 ~ Loss_Awareness + Loss_Intuition + (1|Country), data=data2, family=\"binomial\")\n",
    "summary(fit)"
   ]
  },
  {
   "cell_type": "code",
   "execution_count": 66,
   "metadata": {},
   "outputs": [
    {
     "name": "stdout",
     "output_type": "stream",
     "text": [
      "Generalized linear mixed model fit by maximum likelihood (Laplace\n",
      "  Approximation) [glmerMod]\n",
      " Family: binomial  ( logit )\n",
      "Formula: Contrast_5_9 ~ Loss_Awareness + Loss_Intuition + (1 | Country)\n",
      "   Data: data2\n",
      "\n",
      "     AIC      BIC   logLik deviance df.resid \n",
      "  4865.5   4890.8  -2428.8   4857.5     4094 \n",
      "\n",
      "Scaled residuals: \n",
      "    Min      1Q  Median      3Q     Max \n",
      "-1.9518 -1.1922  0.5675  0.6300  0.9446 \n",
      "\n",
      "Random effects:\n",
      " Groups  Name        Variance Std.Dev.\n",
      " Country (Intercept) 0.09999  0.3162  \n",
      "Number of obs: 4098, groups:  Country, 19\n",
      "\n",
      "Fixed effects:\n",
      "               Estimate Std. Error z value Pr(>|z|)    \n",
      "(Intercept)     1.03666    0.12433   8.338   <2e-16 ***\n",
      "Loss_Awareness -0.28466    0.11680  -2.437   0.0148 *  \n",
      "Loss_Intuition -0.04692    0.11169  -0.420   0.6744    \n",
      "---\n",
      "Signif. codes:  0 '***' 0.001 '**' 0.01 '*' 0.05 '.' 0.1 ' ' 1\n",
      "\n",
      "Correlation of Fixed Effects:\n",
      "            (Intr) Lss_Aw\n",
      "Loss_Awrnss -0.696       \n",
      "Loss_Intutn -0.727  0.770\n"
     ]
    }
   ],
   "source": [
    "%%R\n",
    "fit = glmer(Contrast_5_9 ~ Loss_Awareness + Loss_Intuition + (1|Country), data=data2, family=\"binomial\")\n",
    "summary(fit)"
   ]
  },
  {
   "cell_type": "code",
   "execution_count": 67,
   "metadata": {},
   "outputs": [
    {
     "name": "stdout",
     "output_type": "stream",
     "text": [
      "Generalized linear mixed model fit by maximum likelihood (Laplace\n",
      "  Approximation) [glmerMod]\n",
      " Family: binomial  ( logit )\n",
      "Formula: Contrast_6_10 ~ Loss_Awareness + Loss_Intuition + (1 | Country)\n",
      "   Data: data2\n",
      "\n",
      "     AIC      BIC   logLik deviance df.resid \n",
      "  5432.6   5457.9  -2712.3   5424.6     4094 \n",
      "\n",
      "Scaled residuals: \n",
      "    Min      1Q  Median      3Q     Max \n",
      "-0.8744 -0.7942 -0.7255  1.2445  1.4916 \n",
      "\n",
      "Random effects:\n",
      " Groups  Name        Variance Std.Dev.\n",
      " Country (Intercept) 0.02729  0.1652  \n",
      "Number of obs: 4098, groups:  Country, 19\n",
      "\n",
      "Fixed effects:\n",
      "                Estimate Std. Error z value Pr(>|z|)    \n",
      "(Intercept)    -0.499059   0.098472  -5.068 4.02e-07 ***\n",
      "Loss_Awareness -0.048447   0.107029  -0.453    0.651    \n",
      "Loss_Intuition  0.009002   0.100570   0.090    0.929    \n",
      "---\n",
      "Signif. codes:  0 '***' 0.001 '**' 0.01 '*' 0.05 '.' 0.1 ' ' 1\n",
      "\n",
      "Correlation of Fixed Effects:\n",
      "            (Intr) Lss_Aw\n",
      "Loss_Awrnss -0.780       \n",
      "Loss_Intutn -0.825  0.758\n"
     ]
    }
   ],
   "source": [
    "%%R\n",
    "fit = glmer(Contrast_6_10 ~ Loss_Awareness + Loss_Intuition + (1|Country), data=data2, family=\"binomial\")\n",
    "summary(fit)"
   ]
  },
  {
   "cell_type": "code",
   "execution_count": 68,
   "metadata": {},
   "outputs": [
    {
     "name": "stdout",
     "output_type": "stream",
     "text": [
      "Generalized linear mixed model fit by maximum likelihood (Laplace\n",
      "  Approximation) [glmerMod]\n",
      " Family: binomial  ( logit )\n",
      "Formula: Contrast_16_17 ~ Loss_Awareness + Loss_Intuition + (1 | Country)\n",
      "   Data: data2\n",
      "\n",
      "     AIC      BIC   logLik deviance df.resid \n",
      "  5373.6   5398.9  -2682.8   5365.6     4094 \n",
      "\n",
      "Scaled residuals: \n",
      "    Min      1Q  Median      3Q     Max \n",
      "-1.0987 -0.8031 -0.6720  1.1967  1.6860 \n",
      "\n",
      "Random effects:\n",
      " Groups  Name        Variance Std.Dev.\n",
      " Country (Intercept) 0.08642  0.294   \n",
      "Number of obs: 4098, groups:  Country, 19\n",
      "\n",
      "Fixed effects:\n",
      "               Estimate Std. Error z value Pr(>|z|)    \n",
      "(Intercept)     -0.4416     0.1133  -3.897 9.74e-05 ***\n",
      "Loss_Awareness  -0.2181     0.1080  -2.020   0.0434 *  \n",
      "Loss_Intuition  -0.0216     0.1008  -0.214   0.8303    \n",
      "---\n",
      "Signif. codes:  0 '***' 0.001 '**' 0.01 '*' 0.05 '.' 0.1 ' ' 1\n",
      "\n",
      "Correlation of Fixed Effects:\n",
      "            (Intr) Lss_Aw\n",
      "Loss_Awrnss -0.674       \n",
      "Loss_Intutn -0.716  0.751\n"
     ]
    }
   ],
   "source": [
    "%%R\n",
    "fit = glmer(Contrast_16_17 ~ Loss_Awareness + Loss_Intuition + (1|Country), data=data2, family=\"binomial\")\n",
    "summary(fit)"
   ]
  },
  {
   "cell_type": "code",
   "execution_count": 69,
   "metadata": {},
   "outputs": [
    {
     "name": "stdout",
     "output_type": "stream",
     "text": [
      "Generalized linear mixed model fit by maximum likelihood (Laplace\n",
      "  Approximation) [glmerMod]\n",
      " Family: binomial  ( logit )\n",
      "Formula: Contrast_4_11 ~ Loss_Awareness + Loss_Intuition + (1 | Country)\n",
      "   Data: data2\n",
      "\n",
      "     AIC      BIC   logLik deviance df.resid \n",
      "  5542.3   5567.6  -2767.2   5534.3     4094 \n",
      "\n",
      "Scaled residuals: \n",
      "    Min      1Q  Median      3Q     Max \n",
      "-0.8839 -0.8321 -0.8040  1.1849  1.2615 \n",
      "\n",
      "Random effects:\n",
      " Groups  Name        Variance Std.Dev.\n",
      " Country (Intercept) 0.002649 0.05147 \n",
      "Number of obs: 4098, groups:  Country, 19\n",
      "\n",
      "Fixed effects:\n",
      "               Estimate Std. Error z value Pr(>|z|)   \n",
      "(Intercept)    -0.28282    0.08923  -3.170  0.00153 **\n",
      "Loss_Awareness -0.05062    0.10481  -0.483  0.62912   \n",
      "Loss_Intuition -0.14589    0.09852  -1.481  0.13863   \n",
      "---\n",
      "Signif. codes:  0 '***' 0.001 '**' 0.01 '*' 0.05 '.' 0.1 ' ' 1\n",
      "\n",
      "Correlation of Fixed Effects:\n",
      "            (Intr) Lss_Aw\n",
      "Loss_Awrnss -0.839       \n",
      "Loss_Intutn -0.888  0.758\n"
     ]
    }
   ],
   "source": [
    "%%R\n",
    "fit = glmer(Contrast_4_11 ~ Loss_Awareness + Loss_Intuition + (1|Country), data=data2, family=\"binomial\")\n",
    "summary(fit)"
   ]
  },
  {
   "cell_type": "code",
   "execution_count": 70,
   "metadata": {},
   "outputs": [
    {
     "name": "stdout",
     "output_type": "stream",
     "text": [
      "Generalized linear mixed model fit by maximum likelihood (Laplace\n",
      "  Approximation) [glmerMod]\n",
      " Family: binomial  ( logit )\n",
      "Formula: Contrast_5_6 ~ Loss_Awareness + Loss_Intuition + (1 | Country)\n",
      "   Data: data2\n",
      "\n",
      "     AIC      BIC   logLik deviance df.resid \n",
      "  5590.2   5615.5  -2791.1   5582.2     4094 \n",
      "\n",
      "Scaled residuals: \n",
      "    Min      1Q  Median      3Q     Max \n",
      "-1.2180 -1.1881  0.8210  0.8417  0.9029 \n",
      "\n",
      "Random effects:\n",
      " Groups  Name        Variance  Std.Dev. \n",
      " Country (Intercept) 9.711e-14 3.116e-07\n",
      "Number of obs: 4098, groups:  Country, 19\n",
      "\n",
      "Fixed effects:\n",
      "               Estimate Std. Error z value Pr(>|z|)    \n",
      "(Intercept)     0.39435    0.08907   4.427 9.54e-06 ***\n",
      "Loss_Awareness -0.18997    0.10438  -1.820   0.0688 .  \n",
      "Loss_Intuition -0.04964    0.09899  -0.501   0.6160    \n",
      "---\n",
      "Signif. codes:  0 '***' 0.001 '**' 0.01 '*' 0.05 '.' 0.1 ' ' 1\n",
      "\n",
      "Correlation of Fixed Effects:\n",
      "            (Intr) Lss_Aw\n",
      "Loss_Awrnss -0.853       \n",
      "Loss_Intutn -0.900  0.768\n",
      "convergence code: 0\n",
      "boundary (singular) fit: see ?isSingular\n",
      "\n"
     ]
    }
   ],
   "source": [
    "%%R\n",
    "fit = glmer(Contrast_5_6 ~ Loss_Awareness + Loss_Intuition + (1|Country), data=data2, family=\"binomial\")\n",
    "summary(fit)"
   ]
  },
  {
   "cell_type": "code",
   "execution_count": 71,
   "metadata": {},
   "outputs": [
    {
     "name": "stdout",
     "output_type": "stream",
     "text": [
      "Generalized linear mixed model fit by maximum likelihood (Laplace\n",
      "  Approximation) [glmerMod]\n",
      " Family: binomial  ( logit )\n",
      "Formula: Contrast_9_10 ~ Loss_Awareness + Loss_Intuition + (1 | Country)\n",
      "   Data: data2\n",
      "\n",
      "     AIC      BIC   logLik deviance df.resid \n",
      "  5612.4   5637.6  -2802.2   5604.4     4094 \n",
      "\n",
      "Scaled residuals: \n",
      "    Min      1Q  Median      3Q     Max \n",
      "-1.0855 -0.9088 -0.7696  1.0896  1.3361 \n",
      "\n",
      "Random effects:\n",
      " Groups  Name        Variance Std.Dev.\n",
      " Country (Intercept) 0.0439   0.2095  \n",
      "Number of obs: 4098, groups:  Country, 19\n",
      "\n",
      "Fixed effects:\n",
      "               Estimate Std. Error z value Pr(>|z|)  \n",
      "(Intercept)    -0.17277    0.10099  -1.711   0.0871 .\n",
      "Loss_Awareness -0.13932    0.10488  -1.328   0.1841  \n",
      "Loss_Intuition -0.02649    0.09831  -0.269   0.7876  \n",
      "---\n",
      "Signif. codes:  0 '***' 0.001 '**' 0.01 '*' 0.05 '.' 0.1 ' ' 1\n",
      "\n",
      "Correlation of Fixed Effects:\n",
      "            (Intr) Lss_Aw\n",
      "Loss_Awrnss -0.742       \n",
      "Loss_Intutn -0.785  0.755\n"
     ]
    }
   ],
   "source": [
    "%%R\n",
    "fit = glmer(Contrast_9_10 ~ Loss_Awareness + Loss_Intuition + (1|Country), data=data2, family=\"binomial\")\n",
    "summary(fit)"
   ]
  },
  {
   "cell_type": "code",
   "execution_count": 72,
   "metadata": {},
   "outputs": [
    {
     "name": "stdout",
     "output_type": "stream",
     "text": [
      "Generalized linear mixed model fit by maximum likelihood (Laplace\n",
      "  Approximation) [glmerMod]\n",
      " Family: binomial  ( logit )\n",
      "Formula: Contrast_12_13 ~ Loss_Awareness + Loss_Intuition + (1 | Country)\n",
      "   Data: data2\n",
      "\n",
      "     AIC      BIC   logLik deviance df.resid \n",
      "  5588.8   5614.1  -2790.4   5580.8     4094 \n",
      "\n",
      "Scaled residuals: \n",
      "    Min      1Q  Median      3Q     Max \n",
      "-1.2067 -0.8977 -0.7363  1.0595  1.3720 \n",
      "\n",
      "Random effects:\n",
      " Groups  Name        Variance Std.Dev.\n",
      " Country (Intercept) 0.06875  0.2622  \n",
      "Number of obs: 4098, groups:  Country, 19\n",
      "\n",
      "Fixed effects:\n",
      "               Estimate Std. Error z value Pr(>|z|)  \n",
      "(Intercept)    -0.05493    0.10738  -0.512   0.6090  \n",
      "Loss_Awareness -0.18488    0.10486  -1.763   0.0779 .\n",
      "Loss_Intuition -0.19515    0.09860  -1.979   0.0478 *\n",
      "---\n",
      "Signif. codes:  0 '***' 0.001 '**' 0.01 '*' 0.05 '.' 0.1 ' ' 1\n",
      "\n",
      "Correlation of Fixed Effects:\n",
      "            (Intr) Lss_Aw\n",
      "Loss_Awrnss -0.699       \n",
      "Loss_Intutn -0.739  0.755\n"
     ]
    }
   ],
   "source": [
    "%%R\n",
    "fit = glmer(Contrast_12_13 ~ Loss_Awareness + Loss_Intuition + (1|Country), data=data2, family=\"binomial\")\n",
    "summary(fit)"
   ]
  },
  {
   "cell_type": "code",
   "execution_count": 73,
   "metadata": {},
   "outputs": [
    {
     "name": "stdout",
     "output_type": "stream",
     "text": [
      "Generalized linear mixed model fit by maximum likelihood (Laplace\n",
      "  Approximation) [glmerMod]\n",
      " Family: binomial  ( logit )\n",
      "Formula: Contrast_14_15 ~ Loss_Awareness + Loss_Intuition + (1 | Country)\n",
      "   Data: data2\n",
      "\n",
      "     AIC      BIC   logLik deviance df.resid \n",
      "  5626.6   5651.8  -2809.3   5618.6     4094 \n",
      "\n",
      "Scaled residuals: \n",
      "    Min      1Q  Median      3Q     Max \n",
      "-1.1490 -0.9418 -0.7521  1.0371  1.4047 \n",
      "\n",
      "Random effects:\n",
      " Groups  Name        Variance Std.Dev.\n",
      " Country (Intercept) 0.05745  0.2397  \n",
      "Number of obs: 4098, groups:  Country, 19\n",
      "\n",
      "Fixed effects:\n",
      "               Estimate Std. Error z value Pr(>|z|)  \n",
      "(Intercept)    -0.05814    0.10448  -0.556   0.5779  \n",
      "Loss_Awareness -0.20272    0.10471  -1.936   0.0529 .\n",
      "Loss_Intuition -0.02859    0.09843  -0.290   0.7715  \n",
      "---\n",
      "Signif. codes:  0 '***' 0.001 '**' 0.01 '*' 0.05 '.' 0.1 ' ' 1\n",
      "\n",
      "Correlation of Fixed Effects:\n",
      "            (Intr) Lss_Aw\n",
      "Loss_Awrnss -0.717       \n",
      "Loss_Intutn -0.760  0.755\n"
     ]
    }
   ],
   "source": [
    "%%R\n",
    "fit = glmer(Contrast_14_15 ~ Loss_Awareness + Loss_Intuition + (1|Country), data=data2, family=\"binomial\")\n",
    "summary(fit)"
   ]
  },
  {
   "cell_type": "markdown",
   "metadata": {},
   "source": [
    "### Controlling for age"
   ]
  },
  {
   "cell_type": "code",
   "execution_count": 76,
   "metadata": {},
   "outputs": [
    {
     "name": "stdout",
     "output_type": "stream",
     "text": [
      "Generalized linear mixed model fit by maximum likelihood (Laplace\n",
      "  Approximation) [glmerMod]\n",
      " Family: binomial  ( logit )\n",
      "Formula: Contrast_1_2 ~ Age + (1 | Country)\n",
      "   Data: data2\n",
      "\n",
      "     AIC      BIC   logLik deviance df.resid \n",
      "  5525.9   5544.9  -2760.0   5519.9     4096 \n",
      "\n",
      "Scaled residuals: \n",
      "    Min      1Q  Median      3Q     Max \n",
      "-1.0835 -0.8783 -0.7729  1.1182  1.9076 \n",
      "\n",
      "Random effects:\n",
      " Groups  Name        Variance Std.Dev.\n",
      " Country (Intercept) 0.08586  0.293   \n",
      "Number of obs: 4099, groups:  Country, 19\n",
      "\n",
      "Fixed effects:\n",
      "             Estimate Std. Error z value Pr(>|z|)    \n",
      "(Intercept) -0.410682   0.118600  -3.463 0.000535 ***\n",
      "Age          0.003445   0.002819   1.222 0.221676    \n",
      "---\n",
      "Signif. codes:  0 '***' 0.001 '**' 0.01 '*' 0.05 '.' 0.1 ' ' 1\n",
      "\n",
      "Correlation of Fixed Effects:\n",
      "    (Intr)\n",
      "Age -0.775\n"
     ]
    }
   ],
   "source": [
    "%%R\n",
    "fit = glmer(Contrast_1_2 ~ Age + (1|Country), data=data2, family=\"binomial\")\n",
    "summary(fit)"
   ]
  },
  {
   "cell_type": "code",
   "execution_count": 77,
   "metadata": {},
   "outputs": [
    {
     "name": "stdout",
     "output_type": "stream",
     "text": [
      "Generalized linear mixed model fit by maximum likelihood (Laplace\n",
      "  Approximation) [glmerMod]\n",
      " Family: binomial  ( logit )\n",
      "Formula: Contrast_3_4 ~ Age + (1 | Country)\n",
      "   Data: data2\n",
      "\n",
      "     AIC      BIC   logLik deviance df.resid \n",
      "  5586.7   5605.6  -2790.3   5580.7     4096 \n",
      "\n",
      "Scaled residuals: \n",
      "    Min      1Q  Median      3Q     Max \n",
      "-0.9613 -0.8570 -0.8128  1.1543  1.2721 \n",
      "\n",
      "Random effects:\n",
      " Groups  Name        Variance Std.Dev.\n",
      " Country (Intercept) 0.01177  0.1085  \n",
      "Number of obs: 4099, groups:  Country, 19\n",
      "\n",
      "Fixed effects:\n",
      "             Estimate Std. Error z value Pr(>|z|)    \n",
      "(Intercept) -0.422511   0.099238  -4.258 2.07e-05 ***\n",
      "Age          0.003408   0.002772   1.230    0.219    \n",
      "---\n",
      "Signif. codes:  0 '***' 0.001 '**' 0.01 '*' 0.05 '.' 0.1 ' ' 1\n",
      "\n",
      "Correlation of Fixed Effects:\n",
      "    (Intr)\n",
      "Age -0.912\n",
      "convergence code: 0\n",
      "Model failed to converge with max|grad| = 0.00139814 (tol = 0.001, component 1)\n",
      "Model is nearly unidentifiable: very large eigenvalue\n",
      " - Rescale variables?\n",
      "\n"
     ]
    }
   ],
   "source": [
    "%%R\n",
    "fit = glmer(Contrast_3_4 ~ Age + (1|Country), data=data2, family=\"binomial\")\n",
    "summary(fit)"
   ]
  },
  {
   "cell_type": "code",
   "execution_count": 78,
   "metadata": {},
   "outputs": [
    {
     "name": "stdout",
     "output_type": "stream",
     "text": [
      "Generalized linear mixed model fit by maximum likelihood (Laplace\n",
      "  Approximation) [glmerMod]\n",
      " Family: binomial  ( logit )\n",
      "Formula: Contrast_7_8 ~ Age + (1 | Country)\n",
      "   Data: data2\n",
      "\n",
      "     AIC      BIC   logLik deviance df.resid \n",
      "  5425.8   5444.8  -2709.9   5419.8     4096 \n",
      "\n",
      "Scaled residuals: \n",
      "    Min      1Q  Median      3Q     Max \n",
      "-0.7977 -0.7741 -0.7638  1.2845  1.3445 \n",
      "\n",
      "Random effects:\n",
      " Groups  Name        Variance Std.Dev.\n",
      " Country (Intercept) 0.004399 0.06632 \n",
      "Number of obs: 4099, groups:  Country, 19\n",
      "\n",
      "Fixed effects:\n",
      "              Estimate Std. Error z value Pr(>|z|)    \n",
      "(Intercept) -0.4914069  0.0989107  -4.968 6.76e-07 ***\n",
      "Age         -0.0006685  0.0028293  -0.236    0.813    \n",
      "---\n",
      "Signif. codes:  0 '***' 0.001 '**' 0.01 '*' 0.05 '.' 0.1 ' ' 1\n",
      "\n",
      "Correlation of Fixed Effects:\n",
      "    (Intr)\n",
      "Age -0.932\n",
      "convergence code: 0\n",
      "Model failed to converge with max|grad| = 0.00414125 (tol = 0.001, component 1)\n",
      "Model is nearly unidentifiable: very large eigenvalue\n",
      " - Rescale variables?\n",
      "\n"
     ]
    }
   ],
   "source": [
    "%%R\n",
    "fit = glmer(Contrast_7_8 ~ Age + (1|Country), data=data2, family=\"binomial\")\n",
    "summary(fit)"
   ]
  },
  {
   "cell_type": "code",
   "execution_count": 79,
   "metadata": {},
   "outputs": [
    {
     "name": "stdout",
     "output_type": "stream",
     "text": [
      "Generalized linear mixed model fit by maximum likelihood (Laplace\n",
      "  Approximation) [glmerMod]\n",
      " Family: binomial  ( logit )\n",
      "Formula: Contrast_3_7 ~ Age + (1 | Country)\n",
      "   Data: data2\n",
      "\n",
      "     AIC      BIC   logLik deviance df.resid \n",
      "  4912.6   4931.5  -2453.3   4906.6     4096 \n",
      "\n",
      "Scaled residuals: \n",
      "    Min      1Q  Median      3Q     Max \n",
      "-2.4368 -1.3502  0.5908  0.6681  0.8398 \n",
      "\n",
      "Random effects:\n",
      " Groups  Name        Variance Std.Dev.\n",
      " Country (Intercept) 0.0513   0.2265  \n",
      "Number of obs: 4099, groups:  Country, 19\n",
      "\n",
      "Fixed effects:\n",
      "            Estimate Std. Error z value Pr(>|z|)    \n",
      "(Intercept) 0.454534   0.119622    3.80 0.000145 ***\n",
      "Age         0.014293   0.003197    4.47 7.81e-06 ***\n",
      "---\n",
      "Signif. codes:  0 '***' 0.001 '**' 0.01 '*' 0.05 '.' 0.1 ' ' 1\n",
      "\n",
      "Correlation of Fixed Effects:\n",
      "    (Intr)\n",
      "Age -0.848\n",
      "convergence code: 0\n",
      "Model failed to converge with max|grad| = 0.00236066 (tol = 0.001, component 1)\n",
      "\n"
     ]
    }
   ],
   "source": [
    "%%R\n",
    "fit = glmer(Contrast_3_7 ~ Age + (1|Country), data=data2, family=\"binomial\")\n",
    "summary(fit)"
   ]
  },
  {
   "cell_type": "code",
   "execution_count": 80,
   "metadata": {},
   "outputs": [
    {
     "name": "stdout",
     "output_type": "stream",
     "text": [
      "Generalized linear mixed model fit by maximum likelihood (Laplace\n",
      "  Approximation) [glmerMod]\n",
      " Family: binomial  ( logit )\n",
      "Formula: Contrast_4_8 ~ Age + (1 | Country)\n",
      "   Data: data2\n",
      "\n",
      "     AIC      BIC   logLik deviance df.resid \n",
      "  4791.1   4810.1  -2392.6   4785.1     4096 \n",
      "\n",
      "Scaled residuals: \n",
      "    Min      1Q  Median      3Q     Max \n",
      "-0.7180 -0.6303 -0.5802  1.4620  2.0431 \n",
      "\n",
      "Random effects:\n",
      " Groups  Name        Variance Std.Dev.\n",
      " Country (Intercept) 0.03778  0.1944  \n",
      "Number of obs: 4099, groups:  Country, 19\n",
      "\n",
      "Fixed effects:\n",
      "             Estimate Std. Error z value Pr(>|z|)    \n",
      "(Intercept) -0.846900   0.116861  -7.247 4.26e-13 ***\n",
      "Age         -0.004521   0.003150  -1.435    0.151    \n",
      "---\n",
      "Signif. codes:  0 '***' 0.001 '**' 0.01 '*' 0.05 '.' 0.1 ' ' 1\n",
      "\n",
      "Correlation of Fixed Effects:\n",
      "    (Intr)\n",
      "Age -0.870\n"
     ]
    }
   ],
   "source": [
    "%%R\n",
    "fit = glmer(Contrast_4_8 ~ Age + (1|Country), data=data2, family=\"binomial\")\n",
    "summary(fit)"
   ]
  },
  {
   "cell_type": "code",
   "execution_count": 81,
   "metadata": {},
   "outputs": [
    {
     "name": "stdout",
     "output_type": "stream",
     "text": [
      "Generalized linear mixed model fit by maximum likelihood (Laplace\n",
      "  Approximation) [glmerMod]\n",
      " Family: binomial  ( logit )\n",
      "Formula: Contrast_5_9 ~ Age + (1 | Country)\n",
      "   Data: data2\n",
      "\n",
      "     AIC      BIC   logLik deviance df.resid \n",
      "  4875.2   4894.2  -2434.6   4869.2     4096 \n",
      "\n",
      "Scaled residuals: \n",
      "    Min      1Q  Median      3Q     Max \n",
      "-1.8733 -1.1364  0.5731  0.5975  0.8961 \n",
      "\n",
      "Random effects:\n",
      " Groups  Name        Variance Std.Dev.\n",
      " Country (Intercept) 0.1127   0.3358  \n",
      "Number of obs: 4099, groups:  Country, 19\n",
      "\n",
      "Fixed effects:\n",
      "             Estimate Std. Error z value Pr(>|z|)    \n",
      "(Intercept) 0.8996001  0.1317010   6.831 8.45e-12 ***\n",
      "Age         0.0004249  0.0030868   0.138    0.891    \n",
      "---\n",
      "Signif. codes:  0 '***' 0.001 '**' 0.01 '*' 0.05 '.' 0.1 ' ' 1\n",
      "\n",
      "Correlation of Fixed Effects:\n",
      "    (Intr)\n",
      "Age -0.763\n",
      "convergence code: 0\n",
      "Model failed to converge with max|grad| = 0.00153597 (tol = 0.001, component 1)\n",
      "\n"
     ]
    }
   ],
   "source": [
    "%%R\n",
    "fit = glmer(Contrast_5_9 ~ Age + (1|Country), data=data2, family=\"binomial\")\n",
    "summary(fit)"
   ]
  },
  {
   "cell_type": "code",
   "execution_count": 82,
   "metadata": {},
   "outputs": [
    {
     "name": "stdout",
     "output_type": "stream",
     "text": [
      "Generalized linear mixed model fit by maximum likelihood (Laplace\n",
      "  Approximation) [glmerMod]\n",
      " Family: binomial  ( logit )\n",
      "Formula: Contrast_6_10 ~ Age + (1 | Country)\n",
      "   Data: data2\n",
      "\n",
      "     AIC      BIC   logLik deviance df.resid \n",
      "  5418.5   5437.4  -2706.2   5412.5     4096 \n",
      "\n",
      "Scaled residuals: \n",
      "    Min      1Q  Median      3Q     Max \n",
      "-0.9390 -0.7983 -0.7130  1.2129  1.6918 \n",
      "\n",
      "Random effects:\n",
      " Groups  Name        Variance Std.Dev.\n",
      " Country (Intercept) 0.02778  0.1667  \n",
      "Number of obs: 4099, groups:  Country, 19\n",
      "\n",
      "Fixed effects:\n",
      "             Estimate Std. Error z value Pr(>|z|)    \n",
      "(Intercept) -0.164116   0.106480  -1.541 0.123249    \n",
      "Age         -0.010706   0.002908  -3.682 0.000232 ***\n",
      "---\n",
      "Signif. codes:  0 '***' 0.001 '**' 0.01 '*' 0.05 '.' 0.1 ' ' 1\n",
      "\n",
      "Correlation of Fixed Effects:\n",
      "    (Intr)\n",
      "Age -0.879\n",
      "convergence code: 0\n",
      "Model failed to converge with max|grad| = 0.00391553 (tol = 0.001, component 1)\n",
      "Model is nearly unidentifiable: very large eigenvalue\n",
      " - Rescale variables?\n",
      "\n"
     ]
    }
   ],
   "source": [
    "%%R\n",
    "fit = glmer(Contrast_6_10 ~ Age + (1|Country), data=data2, family=\"binomial\")\n",
    "summary(fit)"
   ]
  },
  {
   "cell_type": "code",
   "execution_count": 83,
   "metadata": {},
   "outputs": [
    {
     "name": "stdout",
     "output_type": "stream",
     "text": [
      "Generalized linear mixed model fit by maximum likelihood (Laplace\n",
      "  Approximation) [glmerMod]\n",
      " Family: binomial  ( logit )\n",
      "Formula: Contrast_16_17 ~ Age + (1 | Country)\n",
      "   Data: data2\n",
      "\n",
      "     AIC      BIC   logLik deviance df.resid \n",
      "  5309.5   5328.5  -2651.8   5303.5     4096 \n",
      "\n",
      "Scaled residuals: \n",
      "    Min      1Q  Median      3Q     Max \n",
      "-1.2891 -0.7933 -0.6309  1.1260  2.6110 \n",
      "\n",
      "Random effects:\n",
      " Groups  Name        Variance Std.Dev.\n",
      " Country (Intercept) 0.09098  0.3016  \n",
      "Number of obs: 4099, groups:  Country, 19\n",
      "\n",
      "Fixed effects:\n",
      "             Estimate Std. Error z value Pr(>|z|)    \n",
      "(Intercept)  0.284388   0.124287   2.288   0.0221 *  \n",
      "Age         -0.025257   0.003084  -8.191  2.6e-16 ***\n",
      "---\n",
      "Signif. codes:  0 '***' 0.001 '**' 0.01 '*' 0.05 '.' 0.1 ' ' 1\n",
      "\n",
      "Correlation of Fixed Effects:\n",
      "    (Intr)\n",
      "Age -0.783\n",
      "convergence code: 0\n",
      "Model failed to converge with max|grad| = 0.00102596 (tol = 0.001, component 1)\n",
      "\n"
     ]
    }
   ],
   "source": [
    "%%R\n",
    "fit = glmer(Contrast_16_17 ~ Age + (1|Country), data=data2, family=\"binomial\")\n",
    "summary(fit)"
   ]
  },
  {
   "cell_type": "code",
   "execution_count": 84,
   "metadata": {},
   "outputs": [
    {
     "name": "stdout",
     "output_type": "stream",
     "text": [
      "Generalized linear mixed model fit by maximum likelihood (Laplace\n",
      "  Approximation) [glmerMod]\n",
      " Family: binomial  ( logit )\n",
      "Formula: Contrast_4_11 ~ Age + (1 | Country)\n",
      "   Data: data2\n",
      "\n",
      "     AIC      BIC   logLik deviance df.resid \n",
      "  5541.8   5560.8  -2767.9   5535.8     4096 \n",
      "\n",
      "Scaled residuals: \n",
      "    Min      1Q  Median      3Q     Max \n",
      "-0.9352 -0.8261 -0.8053  1.2015  1.2840 \n",
      "\n",
      "Random effects:\n",
      " Groups  Name        Variance Std.Dev.\n",
      " Country (Intercept) 0.00427  0.06535 \n",
      "Number of obs: 4099, groups:  Country, 19\n",
      "\n",
      "Fixed effects:\n",
      "             Estimate Std. Error z value Pr(>|z|)    \n",
      "(Intercept) -0.526608   0.097506  -5.401 6.63e-08 ***\n",
      "Age          0.004531   0.002776   1.632    0.103    \n",
      "---\n",
      "Signif. codes:  0 '***' 0.001 '**' 0.01 '*' 0.05 '.' 0.1 ' ' 1\n",
      "\n",
      "Correlation of Fixed Effects:\n",
      "    (Intr)\n",
      "Age -0.932\n",
      "convergence code: 0\n",
      "Model failed to converge with max|grad| = 0.00228417 (tol = 0.001, component 1)\n",
      "Model is nearly unidentifiable: very large eigenvalue\n",
      " - Rescale variables?\n",
      "\n"
     ]
    }
   ],
   "source": [
    "%%R\n",
    "fit = glmer(Contrast_4_11 ~ Age + (1|Country), data=data2, family=\"binomial\")\n",
    "summary(fit)"
   ]
  },
  {
   "cell_type": "code",
   "execution_count": 85,
   "metadata": {},
   "outputs": [
    {
     "name": "stdout",
     "output_type": "stream",
     "text": [
      "Generalized linear mixed model fit by maximum likelihood (Laplace\n",
      "  Approximation) [glmerMod]\n",
      " Family: binomial  ( logit )\n",
      "Formula: Contrast_5_6 ~ Age + (1 | Country)\n",
      "   Data: data2\n",
      "\n",
      "     AIC      BIC   logLik deviance df.resid \n",
      "  5577.6   5596.6  -2785.8   5571.6     4096 \n",
      "\n",
      "Scaled residuals: \n",
      "    Min      1Q  Median      3Q     Max \n",
      "-1.2664 -1.1616  0.8081  0.8461  1.0964 \n",
      "\n",
      "Random effects:\n",
      " Groups  Name        Variance Std.Dev.\n",
      " Country (Intercept) 0        0       \n",
      "Number of obs: 4099, groups:  Country, 19\n",
      "\n",
      "Fixed effects:\n",
      "             Estimate Std. Error z value Pr(>|z|)    \n",
      "(Intercept)  0.679575   0.095434   7.121 1.07e-12 ***\n",
      "Age         -0.011515   0.002749  -4.189 2.81e-05 ***\n",
      "---\n",
      "Signif. codes:  0 '***' 0.001 '**' 0.01 '*' 0.05 '.' 0.1 ' ' 1\n",
      "\n",
      "Correlation of Fixed Effects:\n",
      "    (Intr)\n",
      "Age -0.943\n",
      "convergence code: 0\n",
      "singular fit\n",
      "\n"
     ]
    }
   ],
   "source": [
    "%%R\n",
    "fit = glmer(Contrast_5_6 ~ Age + (1|Country), data=data2, family=\"binomial\")\n",
    "summary(fit)"
   ]
  },
  {
   "cell_type": "code",
   "execution_count": 86,
   "metadata": {},
   "outputs": [
    {
     "name": "stdout",
     "output_type": "stream",
     "text": [
      "Generalized linear mixed model fit by maximum likelihood (Laplace\n",
      "  Approximation) [glmerMod]\n",
      " Family: binomial  ( logit )\n",
      "Formula: Contrast_9_10 ~ Age + (1 | Country)\n",
      "   Data: data2\n",
      "\n",
      "     AIC      BIC   logLik deviance df.resid \n",
      "  5614.4   5633.4  -2804.2   5608.4     4096 \n",
      "\n",
      "Scaled residuals: \n",
      "    Min      1Q  Median      3Q     Max \n",
      "-1.0787 -0.9044 -0.7816  1.0919  1.3368 \n",
      "\n",
      "Random effects:\n",
      " Groups  Name        Variance Std.Dev.\n",
      " Country (Intercept) 0.04746  0.2179  \n",
      "Number of obs: 4099, groups:  Country, 19\n",
      "\n",
      "Fixed effects:\n",
      "             Estimate Std. Error z value Pr(>|z|)\n",
      "(Intercept) -0.160418   0.108524  -1.478    0.139\n",
      "Age         -0.002245   0.002785  -0.806    0.420\n",
      "\n",
      "Correlation of Fixed Effects:\n",
      "    (Intr)\n",
      "Age -0.835\n",
      "convergence code: 0\n",
      "Model failed to converge with max|grad| = 0.00142639 (tol = 0.001, component 1)\n",
      "\n"
     ]
    }
   ],
   "source": [
    "%%R\n",
    "fit = glmer(Contrast_9_10 ~ Age + (1|Country), data=data2, family=\"binomial\")\n",
    "summary(fit)"
   ]
  },
  {
   "cell_type": "code",
   "execution_count": 87,
   "metadata": {},
   "outputs": [
    {
     "name": "stdout",
     "output_type": "stream",
     "text": [
      "Generalized linear mixed model fit by maximum likelihood (Laplace\n",
      "  Approximation) [glmerMod]\n",
      " Family: binomial  ( logit )\n",
      "Formula: Contrast_12_13 ~ Age + (1 | Country)\n",
      "   Data: data2\n",
      "\n",
      "     AIC      BIC   logLik deviance df.resid \n",
      "  5565.9   5584.9  -2780.0   5559.9     4096 \n",
      "\n",
      "Scaled residuals: \n",
      "    Min      1Q  Median      3Q     Max \n",
      "-1.3784 -0.8898 -0.7275  1.0773  1.5035 \n",
      "\n",
      "Random effects:\n",
      " Groups  Name        Variance Std.Dev.\n",
      " Country (Intercept) 0.0657   0.2563  \n",
      "Number of obs: 4099, groups:  Country, 19\n",
      "\n",
      "Fixed effects:\n",
      "             Estimate Std. Error z value Pr(>|z|)    \n",
      "(Intercept) -0.684528   0.113532  -6.029 1.65e-09 ***\n",
      "Age          0.014173   0.002795   5.070 3.97e-07 ***\n",
      "---\n",
      "Signif. codes:  0 '***' 0.001 '**' 0.01 '*' 0.05 '.' 0.1 ' ' 1\n",
      "\n",
      "Correlation of Fixed Effects:\n",
      "    (Intr)\n",
      "Age -0.805\n"
     ]
    }
   ],
   "source": [
    "%%R\n",
    "fit = glmer(Contrast_12_13 ~ Age + (1|Country), data=data2, family=\"binomial\")\n",
    "summary(fit)"
   ]
  },
  {
   "cell_type": "code",
   "execution_count": 88,
   "metadata": {},
   "outputs": [
    {
     "name": "stdout",
     "output_type": "stream",
     "text": [
      "Generalized linear mixed model fit by maximum likelihood (Laplace\n",
      "  Approximation) [glmerMod]\n",
      " Family: binomial  ( logit )\n",
      "Formula: Contrast_14_15 ~ Age + (1 | Country)\n",
      "   Data: data2\n",
      "\n",
      "     AIC      BIC   logLik deviance df.resid \n",
      "  5619.8   5638.8  -2806.9   5613.8     4096 \n",
      "\n",
      "Scaled residuals: \n",
      "    Min      1Q  Median      3Q     Max \n",
      "-1.1790 -0.9434 -0.7464  1.0270  1.5050 \n",
      "\n",
      "Random effects:\n",
      " Groups  Name        Variance Std.Dev.\n",
      " Country (Intercept) 0.05658  0.2379  \n",
      "Number of obs: 4099, groups:  Country, 19\n",
      "\n",
      "Fixed effects:\n",
      "             Estimate Std. Error z value Pr(>|z|)    \n",
      "(Intercept)  0.186947   0.111019   1.684 0.092197 .  \n",
      "Age         -0.010117   0.002806  -3.605 0.000312 ***\n",
      "---\n",
      "Signif. codes:  0 '***' 0.001 '**' 0.01 '*' 0.05 '.' 0.1 ' ' 1\n",
      "\n",
      "Correlation of Fixed Effects:\n",
      "    (Intr)\n",
      "Age -0.820\n",
      "convergence code: 0\n",
      "Model failed to converge with max|grad| = 0.00260459 (tol = 0.001, component 1)\n",
      "\n"
     ]
    }
   ],
   "source": [
    "%%R\n",
    "fit = glmer(Contrast_14_15 ~ Age + (1|Country), data=data2, family=\"binomial\")\n",
    "summary(fit)"
   ]
  },
  {
   "cell_type": "markdown",
   "metadata": {},
   "source": [
    "# Order effect analyses"
   ]
  },
  {
   "cell_type": "markdown",
   "metadata": {},
   "source": [
    "## Preparing Order Data Set"
   ]
  },
  {
   "cell_type": "code",
   "execution_count": 80,
   "metadata": {},
   "outputs": [
    {
     "data": {
      "text/plain": [
       "Index(['1', '2', '3', '4', '5', '6', '7', '8', '9', '10', '11', '12', '13',\n",
       "       '14', '15', '16', '17', 'Gender', 'Age', 'Personal_Income',\n",
       "       'Financial_Situation', 'Bill_Payments', 'Education', 'Credit_Debt',\n",
       "       'Additional_Income_Private_Investment', 'Additional_Income_Property',\n",
       "       'Additional_Income_Business_Ownership',\n",
       "       'Additional_Income_Retirement_Plan', 'Loss_Awareness', 'Loss_Intuition',\n",
       "       'Country', 'Duration_in_seconds', 'Language', 'Sample',\n",
       "       'Duration_Minutes', 'YoB', 'Awareness_of_Loss_Aversion',\n",
       "       'Financial_Stress', 'Presentation_Order', 'Contrast_1_2',\n",
       "       'Contrast_3_4', 'Contrast_7_8', 'Contrast_3_7', 'Contrast_4_8',\n",
       "       'Contrast_5_9', 'Contrast_6_10', 'Contrast_16_17', 'Contrast_4_11',\n",
       "       'Contrast_5_6', 'Contrast_9_10', 'Contrast_12_13', 'Contrast_14_15',\n",
       "       'Total Prospect Theory Paradoxes', 'ResponseID'],\n",
       "      dtype='object')"
      ]
     },
     "execution_count": 80,
     "metadata": {},
     "output_type": "execute_result"
    }
   ],
   "source": [
    "data.columns"
   ]
  },
  {
   "cell_type": "code",
   "execution_count": 78,
   "metadata": {},
   "outputs": [],
   "source": [
    "data[\"ResponseID\"] = data.index.values"
   ]
  },
  {
   "cell_type": "code",
   "execution_count": 81,
   "metadata": {},
   "outputs": [
    {
     "name": "stdout",
     "output_type": "stream",
     "text": [
      "Wall time: 14.7 s\n"
     ]
    }
   ],
   "source": [
    "%%time\n",
    "order_data = data.melt(value_vars=['1', '2', '3', '4', '5', '6', '7', '8', '9', '10', '11', '12', '13',\n",
    "       '14', '15', '16', '17'], id_vars=['ResponseID', 'Country', 'Sample'], value_name=\"Response\", var_name=\"Question\")\n",
    "order_data[\"Order\"] = np.nan\n",
    "for rid in data[\"ResponseID\"]:\n",
    "    order_list = data.loc[data[\"ResponseID\"]==rid, 'Presentation_Order'].values[0].split(\"|\")\n",
    "    order_list.remove(\"18\")\n",
    "    question_to_order = dict(zip(order_list, [str(x) for x in np.arange(1, 18)]))\n",
    "    order_data.loc[order_data[\"ResponseID\"]==rid, \"Order\"] = order_data.loc[order_data[\"ResponseID\"]==rid, \"Question\"].map(question_to_order)"
   ]
  },
  {
   "cell_type": "markdown",
   "metadata": {},
   "source": [
    "### Checking that the code worked"
   ]
  },
  {
   "cell_type": "code",
   "execution_count": 83,
   "metadata": {},
   "outputs": [
    {
     "data": {
      "text/plain": [
       "0    4|6|2|3|17|18|14|8|7|15|1|12|11|5|13|16|9|10\n",
       "Name: Presentation_Order, dtype: object"
      ]
     },
     "execution_count": 83,
     "metadata": {},
     "output_type": "execute_result"
    }
   ],
   "source": [
    "data.loc[data[\"ResponseID\"]==0, 'Presentation_Order']"
   ]
  },
  {
   "cell_type": "code",
   "execution_count": 84,
   "metadata": {},
   "outputs": [],
   "source": [
    "order_data[\"Order\"] = order_data[\"Order\"].astype(float) "
   ]
  },
  {
   "cell_type": "code",
   "execution_count": 86,
   "metadata": {},
   "outputs": [],
   "source": [
    "order_data[\"Question\"] = order_data[\"Question\"].astype(int)  "
   ]
  },
  {
   "cell_type": "code",
   "execution_count": 85,
   "metadata": {},
   "outputs": [
    {
     "data": {
      "text/html": [
       "<div>\n",
       "<style scoped>\n",
       "    .dataframe tbody tr th:only-of-type {\n",
       "        vertical-align: middle;\n",
       "    }\n",
       "\n",
       "    .dataframe tbody tr th {\n",
       "        vertical-align: top;\n",
       "    }\n",
       "\n",
       "    .dataframe thead th {\n",
       "        text-align: right;\n",
       "    }\n",
       "</style>\n",
       "<table border=\"1\" class=\"dataframe\">\n",
       "  <thead>\n",
       "    <tr style=\"text-align: right;\">\n",
       "      <th></th>\n",
       "      <th>ResponseID</th>\n",
       "      <th>Country</th>\n",
       "      <th>Sample</th>\n",
       "      <th>Question</th>\n",
       "      <th>Response</th>\n",
       "      <th>Order</th>\n",
       "    </tr>\n",
       "  </thead>\n",
       "  <tbody>\n",
       "    <tr>\n",
       "      <th>12294</th>\n",
       "      <td>0</td>\n",
       "      <td>Bulgaria</td>\n",
       "      <td>Direct</td>\n",
       "      <td>4</td>\n",
       "      <td>1.0</td>\n",
       "      <td>1.0</td>\n",
       "    </tr>\n",
       "    <tr>\n",
       "      <th>20490</th>\n",
       "      <td>0</td>\n",
       "      <td>Bulgaria</td>\n",
       "      <td>Direct</td>\n",
       "      <td>6</td>\n",
       "      <td>1.0</td>\n",
       "      <td>2.0</td>\n",
       "    </tr>\n",
       "    <tr>\n",
       "      <th>4098</th>\n",
       "      <td>0</td>\n",
       "      <td>Bulgaria</td>\n",
       "      <td>Direct</td>\n",
       "      <td>2</td>\n",
       "      <td>0.0</td>\n",
       "      <td>3.0</td>\n",
       "    </tr>\n",
       "    <tr>\n",
       "      <th>8196</th>\n",
       "      <td>0</td>\n",
       "      <td>Bulgaria</td>\n",
       "      <td>Direct</td>\n",
       "      <td>3</td>\n",
       "      <td>0.0</td>\n",
       "      <td>4.0</td>\n",
       "    </tr>\n",
       "    <tr>\n",
       "      <th>65568</th>\n",
       "      <td>0</td>\n",
       "      <td>Bulgaria</td>\n",
       "      <td>Direct</td>\n",
       "      <td>17</td>\n",
       "      <td>0.0</td>\n",
       "      <td>5.0</td>\n",
       "    </tr>\n",
       "    <tr>\n",
       "      <th>53274</th>\n",
       "      <td>0</td>\n",
       "      <td>Bulgaria</td>\n",
       "      <td>Direct</td>\n",
       "      <td>14</td>\n",
       "      <td>0.0</td>\n",
       "      <td>6.0</td>\n",
       "    </tr>\n",
       "    <tr>\n",
       "      <th>28686</th>\n",
       "      <td>0</td>\n",
       "      <td>Bulgaria</td>\n",
       "      <td>Direct</td>\n",
       "      <td>8</td>\n",
       "      <td>0.0</td>\n",
       "      <td>7.0</td>\n",
       "    </tr>\n",
       "    <tr>\n",
       "      <th>24588</th>\n",
       "      <td>0</td>\n",
       "      <td>Bulgaria</td>\n",
       "      <td>Direct</td>\n",
       "      <td>7</td>\n",
       "      <td>1.0</td>\n",
       "      <td>8.0</td>\n",
       "    </tr>\n",
       "    <tr>\n",
       "      <th>57372</th>\n",
       "      <td>0</td>\n",
       "      <td>Bulgaria</td>\n",
       "      <td>Direct</td>\n",
       "      <td>15</td>\n",
       "      <td>0.0</td>\n",
       "      <td>9.0</td>\n",
       "    </tr>\n",
       "    <tr>\n",
       "      <th>0</th>\n",
       "      <td>0</td>\n",
       "      <td>Bulgaria</td>\n",
       "      <td>Direct</td>\n",
       "      <td>1</td>\n",
       "      <td>1.0</td>\n",
       "      <td>10.0</td>\n",
       "    </tr>\n",
       "    <tr>\n",
       "      <th>45078</th>\n",
       "      <td>0</td>\n",
       "      <td>Bulgaria</td>\n",
       "      <td>Direct</td>\n",
       "      <td>12</td>\n",
       "      <td>0.0</td>\n",
       "      <td>11.0</td>\n",
       "    </tr>\n",
       "    <tr>\n",
       "      <th>40980</th>\n",
       "      <td>0</td>\n",
       "      <td>Bulgaria</td>\n",
       "      <td>Direct</td>\n",
       "      <td>11</td>\n",
       "      <td>0.0</td>\n",
       "      <td>12.0</td>\n",
       "    </tr>\n",
       "    <tr>\n",
       "      <th>16392</th>\n",
       "      <td>0</td>\n",
       "      <td>Bulgaria</td>\n",
       "      <td>Direct</td>\n",
       "      <td>5</td>\n",
       "      <td>1.0</td>\n",
       "      <td>13.0</td>\n",
       "    </tr>\n",
       "    <tr>\n",
       "      <th>49176</th>\n",
       "      <td>0</td>\n",
       "      <td>Bulgaria</td>\n",
       "      <td>Direct</td>\n",
       "      <td>13</td>\n",
       "      <td>0.0</td>\n",
       "      <td>14.0</td>\n",
       "    </tr>\n",
       "    <tr>\n",
       "      <th>61470</th>\n",
       "      <td>0</td>\n",
       "      <td>Bulgaria</td>\n",
       "      <td>Direct</td>\n",
       "      <td>16</td>\n",
       "      <td>0.0</td>\n",
       "      <td>15.0</td>\n",
       "    </tr>\n",
       "    <tr>\n",
       "      <th>32784</th>\n",
       "      <td>0</td>\n",
       "      <td>Bulgaria</td>\n",
       "      <td>Direct</td>\n",
       "      <td>9</td>\n",
       "      <td>1.0</td>\n",
       "      <td>16.0</td>\n",
       "    </tr>\n",
       "    <tr>\n",
       "      <th>36882</th>\n",
       "      <td>0</td>\n",
       "      <td>Bulgaria</td>\n",
       "      <td>Direct</td>\n",
       "      <td>10</td>\n",
       "      <td>1.0</td>\n",
       "      <td>17.0</td>\n",
       "    </tr>\n",
       "  </tbody>\n",
       "</table>\n",
       "</div>"
      ],
      "text/plain": [
       "       ResponseID   Country  Sample Question  Response  Order\n",
       "12294           0  Bulgaria  Direct        4       1.0    1.0\n",
       "20490           0  Bulgaria  Direct        6       1.0    2.0\n",
       "4098            0  Bulgaria  Direct        2       0.0    3.0\n",
       "8196            0  Bulgaria  Direct        3       0.0    4.0\n",
       "65568           0  Bulgaria  Direct       17       0.0    5.0\n",
       "53274           0  Bulgaria  Direct       14       0.0    6.0\n",
       "28686           0  Bulgaria  Direct        8       0.0    7.0\n",
       "24588           0  Bulgaria  Direct        7       1.0    8.0\n",
       "57372           0  Bulgaria  Direct       15       0.0    9.0\n",
       "0               0  Bulgaria  Direct        1       1.0   10.0\n",
       "45078           0  Bulgaria  Direct       12       0.0   11.0\n",
       "40980           0  Bulgaria  Direct       11       0.0   12.0\n",
       "16392           0  Bulgaria  Direct        5       1.0   13.0\n",
       "49176           0  Bulgaria  Direct       13       0.0   14.0\n",
       "61470           0  Bulgaria  Direct       16       0.0   15.0\n",
       "32784           0  Bulgaria  Direct        9       1.0   16.0\n",
       "36882           0  Bulgaria  Direct       10       1.0   17.0"
      ]
     },
     "execution_count": 85,
     "metadata": {},
     "output_type": "execute_result"
    }
   ],
   "source": [
    "order_data.loc[order_data[\"ResponseID\"]==0, :].sort_values(by=\"Order\")"
   ]
  },
  {
   "cell_type": "markdown",
   "metadata": {},
   "source": [
    "## Drawing the figure"
   ]
  },
  {
   "cell_type": "code",
   "execution_count": 87,
   "metadata": {},
   "outputs": [
    {
     "data": {
      "image/png": "[encoded data removed]",
      "text/plain": [
       "<Figure size 432x288 with 1 Axes>"
      ]
     },
     "metadata": {},
     "output_type": "display_data"
    }
   ],
   "source": [
    "sns.set(font_scale=1, style=\"whitegrid\")\n",
    "fig, ax = plt.subplots()\n",
    "sns.lineplot(x=\"Order\", y=\"Response\", data=order_data)\n",
    "ax.axhline(ls='--', c=\"black\", y=0.5)\n",
    "ax.set(ylim=(0, 1), xlim=(1, 17), ylabel=\"Proportion A Chosen\", xlabel=\"Presentation Order\"),\n",
    "plt.savefig('../figures/supplement/Order Effects.svg', bbox_inches=\"tight\")"
   ]
  },
  {
   "cell_type": "code",
   "execution_count": 88,
   "metadata": {},
   "outputs": [
    {
     "data": {
      "text/plain": [
       "0.4488443137933022"
      ]
     },
     "execution_count": 88,
     "metadata": {},
     "output_type": "execute_result"
    }
   ],
   "source": [
    "order_data[\"Response\"].mean()"
   ]
  },
  {
   "cell_type": "markdown",
   "metadata": {},
   "source": [
    "## Hierarchical Model Estimating Order Effects in R"
   ]
  },
  {
   "cell_type": "code",
   "execution_count": 90,
   "metadata": {},
   "outputs": [],
   "source": [
    "%%R\n",
    "library(optimx)"
   ]
  },
  {
   "cell_type": "code",
   "execution_count": 91,
   "metadata": {},
   "outputs": [
    {
     "name": "stderr",
     "output_type": "stream",
     "text": [
      "C:\\ProgramData\\Anaconda3\\lib\\site-packages\\rpy2\\robjects\\pandas2ri.py:191: FutureWarning: from_items is deprecated. Please use DataFrame.from_dict(dict(items), ...) instead. DataFrame.from_dict(OrderedDict(items)) may be used to preserve the key order.\n",
      "  res = PandasDataFrame.from_items(items)\n"
     ]
    }
   ],
   "source": [
    "%R -i order_data"
   ]
  },
  {
   "cell_type": "code",
   "execution_count": 93,
   "metadata": {},
   "outputs": [],
   "source": [
    "%%R\n",
    "order_data$Question = factor(order_data$Question)\n",
    "order_data$Country = factor(order_data$Country)\n",
    "order_data$ResponseID = factor(order_data$ResponseID)"
   ]
  },
  {
   "cell_type": "code",
   "execution_count": 94,
   "metadata": {},
   "outputs": [
    {
     "name": "stdout",
     "output_type": "stream",
     "text": [
      "Generalized linear mixed model fit by maximum likelihood (Laplace\n",
      "  Approximation) [glmerMod]\n",
      " Family: binomial  ( logit )\n",
      "Formula: Response ~ Order + Question + (1 | Country/ResponseID)\n",
      "   Data: order_data\n",
      "Control: \n",
      "glmerControl(optimizer = \"optimx\", optCtrl = list(method = \"L-BFGS-B\"))\n",
      "\n",
      "     AIC      BIC   logLik deviance df.resid \n",
      " 79523.5  79706.4 -39741.7  79483.5    69376 \n",
      "\n",
      "Scaled residuals: \n",
      "    Min      1Q  Median      3Q     Max \n",
      "-3.6853 -0.7154 -0.3267  0.7533  4.5927 \n",
      "\n",
      "Random effects:\n",
      " Groups             Name        Variance Std.Dev.\n",
      " ResponseID:Country (Intercept) 0.27631  0.5257  \n",
      " Country            (Intercept) 0.01508  0.1228  \n",
      "Number of obs: 69396, groups:  ResponseID:Country, 4098; Country, 19\n",
      "\n",
      "Fixed effects:\n",
      "              Estimate Std. Error z value Pr(>|z|)    \n",
      "(Intercept) -1.2051541  0.0503981 -23.913  < 2e-16 ***\n",
      "Order        0.0059341  0.0017959   3.304 0.000952 ***\n",
      "Question2    1.6611804  0.0497376  33.399  < 2e-16 ***\n",
      "Question3   -0.8729173  0.0600352 -14.540  < 2e-16 ***\n",
      "Question4    1.1985567  0.0490689  24.426  < 2e-16 ***\n",
      "Question5   -1.0695631  0.0628392 -17.021  < 2e-16 ***\n",
      "Question6    1.8334810  0.0502496  36.487  < 2e-16 ***\n",
      "Question7    2.5771157  0.0543562  47.412  < 2e-16 ***\n",
      "Question8    1.1629137  0.0490559  23.706  < 2e-16 ***\n",
      "Question9    2.5832838  0.0544033  47.484  < 2e-16 ***\n",
      "Question10   0.8390179  0.0492308  17.043  < 2e-16 ***\n",
      "Question11  -0.6024347  0.0568679 -10.594  < 2e-16 ***\n",
      "Question12   0.0001515  0.0520659   0.003 0.997679    \n",
      "Question13   1.6352245  0.0496796  32.915  < 2e-16 ***\n",
      "Question14  -0.4734070  0.0565318  -8.374  < 2e-16 ***\n",
      "Question15   1.6518186  0.0498495  33.136  < 2e-16 ***\n",
      "Question16   1.4673581  0.0493469  29.736  < 2e-16 ***\n",
      "Question17   0.8368214  0.0492202  17.002  < 2e-16 ***\n",
      "---\n",
      "Signif. codes:  0 '***' 0.001 '**' 0.01 '*' 0.05 '.' 0.1 ' ' 1\n",
      "convergence code: 0\n",
      "Model failed to converge with max|grad| = 0.0453935 (tol = 0.001, component 1)\n",
      "Parameters or bounds appear to have different scalings.\n",
      "  This can cause poor performance in optimization. \n",
      "  It is important for derivative free methods like BOBYQA, UOBYQA, NEWUOA.\n",
      "\n"
     ]
    }
   ],
   "source": [
    "%%R\n",
    "fit = glmer(Response ~ Order + Question + (1|Country/ResponseID), data = order_data, family=\"binomial\", control = glmerControl(\n",
    "                 optimizer ='optimx', optCtrl=list(method='L-BFGS-B')))\n",
    "summary(fit)"
   ]
  },
  {
   "cell_type": "markdown",
   "metadata": {},
   "source": [
    "# Comparing direct and paid respondents"
   ]
  },
  {
   "cell_type": "code",
   "execution_count": 96,
   "metadata": {},
   "outputs": [
    {
     "data": {
      "image/png": "[encoded data removed]",
      "text/plain": [
       "<Figure size 432x288 with 1 Axes>"
      ]
     },
     "metadata": {},
     "output_type": "display_data"
    }
   ],
   "source": [
    "sns.set(font_scale=1, style=\"whitegrid\")\n",
    "fig, ax = plt.subplots()\n",
    "sns.pointplot(x=\"Question\", y=\"Response\", hue=\"Sample\", units=\"Country\", dodge=0.4, join=False, data=order_data, \n",
    "              palette=[\"#e67e22\", \"#0E6251\"])\n",
    "ax.axhline(ls='--', c=\"black\", y=0.5)\n",
    "ax.set(ylim=(0, 1), xlim=(-1, 17), ylabel=\"Proportion A Chosen\", xlabel=\"Presentation Order\"),\n",
    "plt.savefig('../figures/supplement/Global Sample Comparison.svg', bbox_inches=\"tight\")"
   ]
  },
  {
   "cell_type": "code",
   "execution_count": 98,
   "metadata": {},
   "outputs": [
    {
     "name": "stdout",
     "output_type": "stream",
     "text": [
      "Generalized linear mixed model fit by maximum likelihood (Laplace\n",
      "  Approximation) [glmerMod]\n",
      " Family: binomial  ( logit )\n",
      "Formula: \n",
      "Response ~ Sample + Question + Sample:Question + (1 | Country/ResponseID)\n",
      "   Data: order_data\n",
      "Control: \n",
      "glmerControl(optimizer = \"optimx\", optCtrl = list(method = \"L-BFGS-B\"))\n",
      "\n",
      "     AIC      BIC   logLik deviance df.resid \n",
      " 79406.3  79735.6 -39667.2  79334.3    69360 \n",
      "\n",
      "Scaled residuals: \n",
      "    Min      1Q  Median      3Q     Max \n",
      "-3.6027 -0.7174 -0.3215  0.7485  5.3219 \n",
      "\n",
      "Random effects:\n",
      " Groups             Name        Variance Std.Dev.\n",
      " ResponseID:Country (Intercept) 0.2772   0.5265  \n",
      " Country            (Intercept) 0.0126   0.1122  \n",
      "Number of obs: 69396, groups:  ResponseID:Country, 4098; Country, 19\n",
      "\n",
      "Fixed effects:\n",
      "                      Estimate Std. Error z value Pr(>|z|)    \n",
      "(Intercept)           -1.11980    0.05120 -21.872  < 2e-16 ***\n",
      "SamplePaid            -0.10397    0.08995  -1.156  0.24775    \n",
      "Question2              1.68051    0.05796  28.992  < 2e-16 ***\n",
      "Question3             -0.84142    0.06874 -12.241  < 2e-16 ***\n",
      "Question4              1.26496    0.05710  22.155  < 2e-16 ***\n",
      "Question5             -0.98385    0.07089 -13.878  < 2e-16 ***\n",
      "Question6              1.81588    0.05847  31.057  < 2e-16 ***\n",
      "Question7              2.48283    0.06268  39.610  < 2e-16 ***\n",
      "Question8              1.06530    0.05700  18.690  < 2e-16 ***\n",
      "Question9              2.48282    0.06267  39.617  < 2e-16 ***\n",
      "Question10             0.77270    0.05725  13.497  < 2e-16 ***\n",
      "Question11            -0.53523    0.06486  -8.252  < 2e-16 ***\n",
      "Question12             0.03415    0.06003   0.569  0.56942    \n",
      "Question13             1.62192    0.05780  28.059  < 2e-16 ***\n",
      "Question14            -0.41149    0.06496  -6.334 2.38e-10 ***\n",
      "Question15             1.61513    0.05796  27.867  < 2e-16 ***\n",
      "Question16             1.54922    0.05758  26.904  < 2e-16 ***\n",
      "Question17             0.75097    0.05727  13.114  < 2e-16 ***\n",
      "SamplePaid:Question2  -0.08788    0.11419  -0.770  0.44156    \n",
      "SamplePaid:Question3  -0.16843    0.14375  -1.172  0.24133    \n",
      "SamplePaid:Question4  -0.27401    0.11345  -2.415  0.01572 *  \n",
      "SamplePaid:Question5  -0.43593    0.15762  -2.766  0.00568 ** \n",
      "SamplePaid:Question6   0.04842    0.11540   0.420  0.67479    \n",
      "SamplePaid:Question7   0.34685    0.12681   2.735  0.00624 ** \n",
      "SamplePaid:Question8   0.35341    0.11336   3.118  0.00182 ** \n",
      "SamplePaid:Question9   0.37308    0.12703   2.937  0.00331 ** \n",
      "SamplePaid:Question10  0.23017    0.11364   2.025  0.04282 *  \n",
      "SamplePaid:Question11 -0.32874    0.13815  -2.380  0.01733 *  \n",
      "SamplePaid:Question12 -0.16541    0.12255  -1.350  0.17709    \n",
      "SamplePaid:Question13  0.02809    0.11430   0.246  0.80590    \n",
      "SamplePaid:Question14 -0.27865    0.13408  -2.078  0.03768 *  \n",
      "SamplePaid:Question15  0.11781    0.11461   1.028  0.30400    \n",
      "SamplePaid:Question16 -0.32586    0.11349  -2.871  0.00409 ** \n",
      "SamplePaid:Question17  0.30824    0.11341   2.718  0.00657 ** \n",
      "---\n",
      "Signif. codes:  0 '***' 0.001 '**' 0.01 '*' 0.05 '.' 0.1 ' ' 1\n",
      "convergence code: 0\n",
      "Model failed to converge with max|grad| = 0.0286861 (tol = 0.001, component 1)\n",
      "\n"
     ]
    }
   ],
   "source": [
    "%%R\n",
    "fit = glmer(Response ~ Sample + Question + Sample:Question + (1|Country/ResponseID), data = order_data, family=\"binomial\", control = glmerControl(\n",
    "                 optimizer ='optimx', optCtrl=list(method='L-BFGS-B')))\n",
    "summary(fit)"
   ]
  },
  {
   "cell_type": "markdown",
   "metadata": {},
   "source": [
    "# Preparing the demographics table"
   ]
  },
  {
   "cell_type": "code",
   "execution_count": 99,
   "metadata": {},
   "outputs": [],
   "source": [
    "data[\"Female\"] = (data[\"Gender\"]==\"Female\").astype(int)\n",
    "demo_table = pd.DataFrame(((data.groupby(\"Country\")[\"Female\"].sum()/data.groupby(\"Country\")[\"Female\"].count()) * 100).round(2))\n",
    "demo_table.columns = [\"% Female\"]"
   ]
  },
  {
   "cell_type": "code",
   "execution_count": 100,
   "metadata": {},
   "outputs": [],
   "source": [
    "demo_table[\"Age Median\"] = data.groupby(\"Country\")[\"Age\"].median()\n",
    "demo_table[\"Age 2nd Quartile\"] = data.groupby(\"Country\")[\"Age\"].quantile(0.25)\n",
    "demo_table[\"Age 3rd Quartile\"] = data.groupby(\"Country\")[\"Age\"].quantile(0.75)"
   ]
  },
  {
   "cell_type": "code",
   "execution_count": 102,
   "metadata": {},
   "outputs": [],
   "source": [
    "demo_table[\"Income Median\"] = data.groupby(\"Country\")[\"Personal_Income\"].median()\n",
    "demo_table[\"Income 2nd Quartile\"] = data.groupby(\"Country\")[\"Personal_Income\"].quantile(0.25)\n",
    "demo_table[\"Income 3rd Quartile\"] = data.groupby(\"Country\")[\"Personal_Income\"].quantile(0.75)"
   ]
  },
  {
   "cell_type": "code",
   "execution_count": 103,
   "metadata": {},
   "outputs": [
    {
     "data": {
      "text/plain": [
       "[University Undergraduate, University Masters, University PhD, Secondary school, Vocational school, University MBA, Primary school, NaN]\n",
       "Categories (7, object): [Primary school < Secondary school < Vocational school < University Undergraduate < University Masters < University MBA < University PhD]"
      ]
     },
     "execution_count": 103,
     "metadata": {},
     "output_type": "execute_result"
    }
   ],
   "source": [
    "data[\"Education\"].unique()"
   ]
  },
  {
   "cell_type": "code",
   "execution_count": 104,
   "metadata": {},
   "outputs": [],
   "source": [
    "data[\"University\"] = data[\"Education\"].isin([\"University Undergraduate\", \"University Masters\", \"University MBA\", \"University PhD\"]).astype(int)\n",
    "demo_table[\"% University Educated\"] = pd.DataFrame(((data.groupby(\"Country\")[\"University\"].sum()/data.groupby(\"Country\")[\"University\"].count()) * 100).round(2))"
   ]
  },
  {
   "cell_type": "code",
   "execution_count": 105,
   "metadata": {},
   "outputs": [],
   "source": [
    "demo_table[\"N\"] = data[\"Country\"].value_counts()"
   ]
  },
  {
   "cell_type": "code",
   "execution_count": 106,
   "metadata": {},
   "outputs": [],
   "source": [
    "data[\"Paid\"] = (data[\"Sample\"]==\"Paid\").astype(int)\n",
    "demo_table[\"% Paid\"] = pd.DataFrame(((data.groupby(\"Country\")[\"Paid\"].sum()/data.groupby(\"Country\")[\"Paid\"].count()) * 100).round(2))"
   ]
  },
  {
   "cell_type": "code",
   "execution_count": 107,
   "metadata": {},
   "outputs": [
    {
     "data": {
      "text/html": [
       "<div>\n",
       "<style scoped>\n",
       "    .dataframe tbody tr th:only-of-type {\n",
       "        vertical-align: middle;\n",
       "    }\n",
       "\n",
       "    .dataframe tbody tr th {\n",
       "        vertical-align: top;\n",
       "    }\n",
       "\n",
       "    .dataframe thead th {\n",
       "        text-align: right;\n",
       "    }\n",
       "</style>\n",
       "<table border=\"1\" class=\"dataframe\">\n",
       "  <thead>\n",
       "    <tr style=\"text-align: right;\">\n",
       "      <th></th>\n",
       "      <th>% Female</th>\n",
       "      <th>Age Median</th>\n",
       "      <th>Age 2nd Quartile</th>\n",
       "      <th>Age 3rd Quartile</th>\n",
       "      <th>Income Median</th>\n",
       "      <th>Income 2nd Quartile</th>\n",
       "      <th>Income 3rd Quartile</th>\n",
       "      <th>% University Educated</th>\n",
       "      <th>N</th>\n",
       "      <th>% Paid</th>\n",
       "    </tr>\n",
       "    <tr>\n",
       "      <th>Country</th>\n",
       "      <th></th>\n",
       "      <th></th>\n",
       "      <th></th>\n",
       "      <th></th>\n",
       "      <th></th>\n",
       "      <th></th>\n",
       "      <th></th>\n",
       "      <th></th>\n",
       "      <th></th>\n",
       "      <th></th>\n",
       "    </tr>\n",
       "  </thead>\n",
       "  <tbody>\n",
       "    <tr>\n",
       "      <th>Australia</th>\n",
       "      <td>35.11</td>\n",
       "      <td>31.0</td>\n",
       "      <td>26.25</td>\n",
       "      <td>37.00</td>\n",
       "      <td>60000.0</td>\n",
       "      <td>33000.00</td>\n",
       "      <td>90000.0</td>\n",
       "      <td>77.30</td>\n",
       "      <td>282</td>\n",
       "      <td>0.00</td>\n",
       "    </tr>\n",
       "    <tr>\n",
       "      <th>Austria</th>\n",
       "      <td>45.95</td>\n",
       "      <td>28.0</td>\n",
       "      <td>23.50</td>\n",
       "      <td>36.00</td>\n",
       "      <td>18000.0</td>\n",
       "      <td>7150.00</td>\n",
       "      <td>30000.0</td>\n",
       "      <td>53.15</td>\n",
       "      <td>111</td>\n",
       "      <td>36.94</td>\n",
       "    </tr>\n",
       "    <tr>\n",
       "      <th>Belgium</th>\n",
       "      <td>47.40</td>\n",
       "      <td>27.0</td>\n",
       "      <td>23.00</td>\n",
       "      <td>38.25</td>\n",
       "      <td>15000.0</td>\n",
       "      <td>1970.00</td>\n",
       "      <td>25000.0</td>\n",
       "      <td>64.58</td>\n",
       "      <td>192</td>\n",
       "      <td>33.85</td>\n",
       "    </tr>\n",
       "    <tr>\n",
       "      <th>Bulgaria</th>\n",
       "      <td>61.42</td>\n",
       "      <td>33.0</td>\n",
       "      <td>26.00</td>\n",
       "      <td>41.50</td>\n",
       "      <td>15000.0</td>\n",
       "      <td>7000.00</td>\n",
       "      <td>25100.0</td>\n",
       "      <td>81.89</td>\n",
       "      <td>127</td>\n",
       "      <td>22.83</td>\n",
       "    </tr>\n",
       "    <tr>\n",
       "      <th>Chile</th>\n",
       "      <td>51.03</td>\n",
       "      <td>27.0</td>\n",
       "      <td>24.00</td>\n",
       "      <td>36.00</td>\n",
       "      <td>2700000.0</td>\n",
       "      <td>260000.00</td>\n",
       "      <td>12000000.0</td>\n",
       "      <td>64.14</td>\n",
       "      <td>145</td>\n",
       "      <td>38.62</td>\n",
       "    </tr>\n",
       "    <tr>\n",
       "      <th>Denmark</th>\n",
       "      <td>33.33</td>\n",
       "      <td>32.0</td>\n",
       "      <td>26.00</td>\n",
       "      <td>40.00</td>\n",
       "      <td>250000.0</td>\n",
       "      <td>126750.00</td>\n",
       "      <td>320000.0</td>\n",
       "      <td>72.67</td>\n",
       "      <td>150</td>\n",
       "      <td>19.33</td>\n",
       "    </tr>\n",
       "    <tr>\n",
       "      <th>Germany</th>\n",
       "      <td>39.14</td>\n",
       "      <td>27.0</td>\n",
       "      <td>24.00</td>\n",
       "      <td>33.00</td>\n",
       "      <td>16000.0</td>\n",
       "      <td>5400.00</td>\n",
       "      <td>33000.0</td>\n",
       "      <td>66.67</td>\n",
       "      <td>327</td>\n",
       "      <td>43.12</td>\n",
       "    </tr>\n",
       "    <tr>\n",
       "      <th>Hong Kong</th>\n",
       "      <td>63.75</td>\n",
       "      <td>30.0</td>\n",
       "      <td>24.00</td>\n",
       "      <td>43.00</td>\n",
       "      <td>200000.0</td>\n",
       "      <td>30000.00</td>\n",
       "      <td>425000.0</td>\n",
       "      <td>70.62</td>\n",
       "      <td>160</td>\n",
       "      <td>0.00</td>\n",
       "    </tr>\n",
       "    <tr>\n",
       "      <th>Hungary</th>\n",
       "      <td>43.21</td>\n",
       "      <td>29.0</td>\n",
       "      <td>24.00</td>\n",
       "      <td>34.50</td>\n",
       "      <td>2000000.0</td>\n",
       "      <td>405000.00</td>\n",
       "      <td>3922536.0</td>\n",
       "      <td>60.08</td>\n",
       "      <td>243</td>\n",
       "      <td>58.44</td>\n",
       "    </tr>\n",
       "    <tr>\n",
       "      <th>Ireland</th>\n",
       "      <td>58.20</td>\n",
       "      <td>32.0</td>\n",
       "      <td>24.00</td>\n",
       "      <td>41.00</td>\n",
       "      <td>23500.0</td>\n",
       "      <td>10000.00</td>\n",
       "      <td>35000.0</td>\n",
       "      <td>70.31</td>\n",
       "      <td>256</td>\n",
       "      <td>55.86</td>\n",
       "    </tr>\n",
       "    <tr>\n",
       "      <th>Italy</th>\n",
       "      <td>55.81</td>\n",
       "      <td>29.0</td>\n",
       "      <td>23.00</td>\n",
       "      <td>43.00</td>\n",
       "      <td>7000.0</td>\n",
       "      <td>18.00</td>\n",
       "      <td>20000.0</td>\n",
       "      <td>44.85</td>\n",
       "      <td>301</td>\n",
       "      <td>47.84</td>\n",
       "    </tr>\n",
       "    <tr>\n",
       "      <th>Mainland China</th>\n",
       "      <td>55.98</td>\n",
       "      <td>33.0</td>\n",
       "      <td>26.50</td>\n",
       "      <td>41.00</td>\n",
       "      <td>100000.0</td>\n",
       "      <td>60000.00</td>\n",
       "      <td>200000.0</td>\n",
       "      <td>86.10</td>\n",
       "      <td>259</td>\n",
       "      <td>0.00</td>\n",
       "    </tr>\n",
       "    <tr>\n",
       "      <th>Norway</th>\n",
       "      <td>58.85</td>\n",
       "      <td>29.5</td>\n",
       "      <td>25.00</td>\n",
       "      <td>38.00</td>\n",
       "      <td>327500.0</td>\n",
       "      <td>131500.00</td>\n",
       "      <td>469250.0</td>\n",
       "      <td>76.55</td>\n",
       "      <td>226</td>\n",
       "      <td>16.37</td>\n",
       "    </tr>\n",
       "    <tr>\n",
       "      <th>Serbia</th>\n",
       "      <td>71.54</td>\n",
       "      <td>25.0</td>\n",
       "      <td>23.00</td>\n",
       "      <td>35.00</td>\n",
       "      <td>160000.0</td>\n",
       "      <td>23000.00</td>\n",
       "      <td>600000.0</td>\n",
       "      <td>63.41</td>\n",
       "      <td>246</td>\n",
       "      <td>0.00</td>\n",
       "    </tr>\n",
       "    <tr>\n",
       "      <th>Slovenia</th>\n",
       "      <td>51.49</td>\n",
       "      <td>25.5</td>\n",
       "      <td>23.00</td>\n",
       "      <td>34.75</td>\n",
       "      <td>9000.0</td>\n",
       "      <td>3000.00</td>\n",
       "      <td>16000.0</td>\n",
       "      <td>61.39</td>\n",
       "      <td>202</td>\n",
       "      <td>0.00</td>\n",
       "    </tr>\n",
       "    <tr>\n",
       "      <th>Spain</th>\n",
       "      <td>57.29</td>\n",
       "      <td>27.0</td>\n",
       "      <td>25.00</td>\n",
       "      <td>46.50</td>\n",
       "      <td>8000.0</td>\n",
       "      <td>800.00</td>\n",
       "      <td>24000.0</td>\n",
       "      <td>77.39</td>\n",
       "      <td>199</td>\n",
       "      <td>0.00</td>\n",
       "    </tr>\n",
       "    <tr>\n",
       "      <th>Sweden</th>\n",
       "      <td>27.34</td>\n",
       "      <td>28.0</td>\n",
       "      <td>23.50</td>\n",
       "      <td>33.00</td>\n",
       "      <td>250000.0</td>\n",
       "      <td>72500.00</td>\n",
       "      <td>360000.0</td>\n",
       "      <td>41.73</td>\n",
       "      <td>139</td>\n",
       "      <td>23.74</td>\n",
       "    </tr>\n",
       "    <tr>\n",
       "      <th>UK</th>\n",
       "      <td>48.28</td>\n",
       "      <td>29.0</td>\n",
       "      <td>24.00</td>\n",
       "      <td>38.00</td>\n",
       "      <td>20000.0</td>\n",
       "      <td>9068.75</td>\n",
       "      <td>32375.0</td>\n",
       "      <td>70.69</td>\n",
       "      <td>290</td>\n",
       "      <td>0.00</td>\n",
       "    </tr>\n",
       "    <tr>\n",
       "      <th>USA</th>\n",
       "      <td>54.32</td>\n",
       "      <td>30.0</td>\n",
       "      <td>25.00</td>\n",
       "      <td>41.00</td>\n",
       "      <td>26000.0</td>\n",
       "      <td>10000.00</td>\n",
       "      <td>47700.0</td>\n",
       "      <td>62.14</td>\n",
       "      <td>243</td>\n",
       "      <td>86.42</td>\n",
       "    </tr>\n",
       "  </tbody>\n",
       "</table>\n",
       "</div>"
      ],
      "text/plain": [
       "                % Female  Age Median  Age 2nd Quartile  Age 3rd Quartile  \\\n",
       "Country                                                                    \n",
       "Australia          35.11        31.0             26.25             37.00   \n",
       "Austria            45.95        28.0             23.50             36.00   \n",
       "Belgium            47.40        27.0             23.00             38.25   \n",
       "Bulgaria           61.42        33.0             26.00             41.50   \n",
       "Chile              51.03        27.0             24.00             36.00   \n",
       "Denmark            33.33        32.0             26.00             40.00   \n",
       "Germany            39.14        27.0             24.00             33.00   \n",
       "Hong Kong          63.75        30.0             24.00             43.00   \n",
       "Hungary            43.21        29.0             24.00             34.50   \n",
       "Ireland            58.20        32.0             24.00             41.00   \n",
       "Italy              55.81        29.0             23.00             43.00   \n",
       "Mainland China     55.98        33.0             26.50             41.00   \n",
       "Norway             58.85        29.5             25.00             38.00   \n",
       "Serbia             71.54        25.0             23.00             35.00   \n",
       "Slovenia           51.49        25.5             23.00             34.75   \n",
       "Spain              57.29        27.0             25.00             46.50   \n",
       "Sweden             27.34        28.0             23.50             33.00   \n",
       "UK                 48.28        29.0             24.00             38.00   \n",
       "USA                54.32        30.0             25.00             41.00   \n",
       "\n",
       "                Income Median  Income 2nd Quartile  Income 3rd Quartile  \\\n",
       "Country                                                                   \n",
       "Australia             60000.0             33000.00              90000.0   \n",
       "Austria               18000.0              7150.00              30000.0   \n",
       "Belgium               15000.0              1970.00              25000.0   \n",
       "Bulgaria              15000.0              7000.00              25100.0   \n",
       "Chile               2700000.0            260000.00           12000000.0   \n",
       "Denmark              250000.0            126750.00             320000.0   \n",
       "Germany               16000.0              5400.00              33000.0   \n",
       "Hong Kong            200000.0             30000.00             425000.0   \n",
       "Hungary             2000000.0            405000.00            3922536.0   \n",
       "Ireland               23500.0             10000.00              35000.0   \n",
       "Italy                  7000.0                18.00              20000.0   \n",
       "Mainland China       100000.0             60000.00             200000.0   \n",
       "Norway               327500.0            131500.00             469250.0   \n",
       "Serbia               160000.0             23000.00             600000.0   \n",
       "Slovenia               9000.0              3000.00              16000.0   \n",
       "Spain                  8000.0               800.00              24000.0   \n",
       "Sweden               250000.0             72500.00             360000.0   \n",
       "UK                    20000.0              9068.75              32375.0   \n",
       "USA                   26000.0             10000.00              47700.0   \n",
       "\n",
       "                % University Educated    N  % Paid  \n",
       "Country                                             \n",
       "Australia                       77.30  282    0.00  \n",
       "Austria                         53.15  111   36.94  \n",
       "Belgium                         64.58  192   33.85  \n",
       "Bulgaria                        81.89  127   22.83  \n",
       "Chile                           64.14  145   38.62  \n",
       "Denmark                         72.67  150   19.33  \n",
       "Germany                         66.67  327   43.12  \n",
       "Hong Kong                       70.62  160    0.00  \n",
       "Hungary                         60.08  243   58.44  \n",
       "Ireland                         70.31  256   55.86  \n",
       "Italy                           44.85  301   47.84  \n",
       "Mainland China                  86.10  259    0.00  \n",
       "Norway                          76.55  226   16.37  \n",
       "Serbia                          63.41  246    0.00  \n",
       "Slovenia                        61.39  202    0.00  \n",
       "Spain                           77.39  199    0.00  \n",
       "Sweden                          41.73  139   23.74  \n",
       "UK                              70.69  290    0.00  \n",
       "USA                             62.14  243   86.42  "
      ]
     },
     "execution_count": 107,
     "metadata": {},
     "output_type": "execute_result"
    }
   ],
   "source": [
    "demo_table"
   ]
  },
  {
   "cell_type": "code",
   "execution_count": 109,
   "metadata": {},
   "outputs": [],
   "source": [
    "demo_table.to_excel(\"../output/demographic_table.xlsx\")\n",
    "demo_table.to_csv(\"../output/demographic_table.csv\")"
   ]
  },
  {
   "cell_type": "code",
   "execution_count": 110,
   "metadata": {},
   "outputs": [
    {
     "data": {
      "text/plain": [
       "0    73.89\n",
       "1    26.11\n",
       "Name: Paid, dtype: float64"
      ]
     },
     "execution_count": 110,
     "metadata": {},
     "output_type": "execute_result"
    }
   ],
   "source": [
    "data[\"Paid\"].value_counts(normalize=True).round(4)*100"
   ]
  },
  {
   "cell_type": "code",
   "execution_count": 111,
   "metadata": {},
   "outputs": [
    {
     "data": {
      "text/plain": [
       "1    50.68\n",
       "0    49.32\n",
       "Name: Female, dtype: float64"
      ]
     },
     "execution_count": 111,
     "metadata": {},
     "output_type": "execute_result"
    }
   ],
   "source": [
    "data[\"Female\"].value_counts(normalize=True).round(4)*100"
   ]
  },
  {
   "cell_type": "code",
   "execution_count": 112,
   "metadata": {},
   "outputs": [
    {
     "data": {
      "text/plain": [
       "29.0"
      ]
     },
     "execution_count": 112,
     "metadata": {},
     "output_type": "execute_result"
    }
   ],
   "source": [
    "data[\"Age\"].median()"
   ]
  },
  {
   "cell_type": "code",
   "execution_count": 113,
   "metadata": {},
   "outputs": [
    {
     "data": {
      "text/plain": [
       "24.0"
      ]
     },
     "execution_count": 113,
     "metadata": {},
     "output_type": "execute_result"
    }
   ],
   "source": [
    "data[\"Age\"].quantile(0.25)"
   ]
  },
  {
   "cell_type": "code",
   "execution_count": 114,
   "metadata": {},
   "outputs": [
    {
     "data": {
      "text/plain": [
       "38.0"
      ]
     },
     "execution_count": 114,
     "metadata": {},
     "output_type": "execute_result"
    }
   ],
   "source": [
    "data[\"Age\"].quantile(0.75)"
   ]
  },
  {
   "cell_type": "code",
   "execution_count": 115,
   "metadata": {},
   "outputs": [
    {
     "data": {
      "text/plain": [
       "1    66.94\n",
       "0    33.06\n",
       "Name: University, dtype: float64"
      ]
     },
     "execution_count": 115,
     "metadata": {},
     "output_type": "execute_result"
    }
   ],
   "source": [
    "data[\"University\"].value_counts(normalize=True).round(4)*100"
   ]
  }
 ],
 "metadata": {
  "kernelspec": {
   "display_name": "Python 3",
   "language": "python",
   "name": "python3"
  },
  "language_info": {
   "codemirror_mode": {
    "name": "ipython",
    "version": 3
   },
   "file_extension": ".py",
   "mimetype": "text/x-python",
   "name": "python",
   "nbconvert_exporter": "python",
   "pygments_lexer": "ipython3",
   "version": "3.7.3"
  }
 },
 "nbformat": 4,
 "nbformat_minor": 4
}
