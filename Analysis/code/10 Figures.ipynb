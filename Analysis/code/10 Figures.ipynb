{
 "cells": [
  {
   "cell_type": "markdown",
   "metadata": {},
   "source": [
    "# Loading packages"
   ]
  },
  {
   "cell_type": "code",
   "execution_count": 2,
   "metadata": {},
   "outputs": [],
   "source": [
    "import numpy as np\n",
    "import pandas as pd\n",
    "import glob"
   ]
  },
  {
   "cell_type": "code",
   "execution_count": 3,
   "metadata": {},
   "outputs": [],
   "source": [
    "import matplotlib.pyplot as plt\n",
    "import seaborn as sns\n",
    "%matplotlib inline"
   ]
  },
  {
   "cell_type": "code",
   "execution_count": 4,
   "metadata": {},
   "outputs": [],
   "source": [
    "from pandas.api.types import CategoricalDtype"
   ]
  },
  {
   "cell_type": "markdown",
   "metadata": {},
   "source": [
    "# Plotting raw response proportions"
   ]
  },
  {
   "cell_type": "markdown",
   "metadata": {},
   "source": [
    "### Loading the necessary data"
   ]
  },
  {
   "cell_type": "markdown",
   "metadata": {},
   "source": [
    "### Unpooled effects by country"
   ]
  },
  {
   "cell_type": "code",
   "execution_count": 5,
   "metadata": {},
   "outputs": [],
   "source": [
    "long_data = pd.read_csv(\"../output/proportions_by_country.csv\")"
   ]
  },
  {
   "cell_type": "code",
   "execution_count": 6,
   "metadata": {},
   "outputs": [
    {
     "data": {
      "text/html": [
       "<div>\n",
       "<style scoped>\n",
       "    .dataframe tbody tr th:only-of-type {\n",
       "        vertical-align: middle;\n",
       "    }\n",
       "\n",
       "    .dataframe tbody tr th {\n",
       "        vertical-align: top;\n",
       "    }\n",
       "\n",
       "    .dataframe thead th {\n",
       "        text-align: right;\n",
       "    }\n",
       "</style>\n",
       "<table border=\"1\" class=\"dataframe\">\n",
       "  <thead>\n",
       "    <tr style=\"text-align: right;\">\n",
       "      <th></th>\n",
       "      <th>Country</th>\n",
       "      <th>Item</th>\n",
       "      <th>Proportion</th>\n",
       "      <th>Succesful Replication</th>\n",
       "      <th>Sample Size</th>\n",
       "    </tr>\n",
       "  </thead>\n",
       "  <tbody>\n",
       "    <tr>\n",
       "      <th>0</th>\n",
       "      <td>Australia</td>\n",
       "      <td>1</td>\n",
       "      <td>0.446809</td>\n",
       "      <td>No</td>\n",
       "      <td>282</td>\n",
       "    </tr>\n",
       "    <tr>\n",
       "      <th>1</th>\n",
       "      <td>Austria</td>\n",
       "      <td>1</td>\n",
       "      <td>0.198198</td>\n",
       "      <td>Yes</td>\n",
       "      <td>111</td>\n",
       "    </tr>\n",
       "    <tr>\n",
       "      <th>2</th>\n",
       "      <td>Belgium</td>\n",
       "      <td>1</td>\n",
       "      <td>0.192708</td>\n",
       "      <td>Yes</td>\n",
       "      <td>192</td>\n",
       "    </tr>\n",
       "    <tr>\n",
       "      <th>3</th>\n",
       "      <td>Bulgaria</td>\n",
       "      <td>1</td>\n",
       "      <td>0.181102</td>\n",
       "      <td>Yes</td>\n",
       "      <td>127</td>\n",
       "    </tr>\n",
       "    <tr>\n",
       "      <th>4</th>\n",
       "      <td>Chile</td>\n",
       "      <td>1</td>\n",
       "      <td>0.186207</td>\n",
       "      <td>Yes</td>\n",
       "      <td>145</td>\n",
       "    </tr>\n",
       "  </tbody>\n",
       "</table>\n",
       "</div>"
      ],
      "text/plain": [
       "     Country  Item  Proportion Succesful Replication  Sample Size\n",
       "0  Australia     1    0.446809                    No          282\n",
       "1    Austria     1    0.198198                   Yes          111\n",
       "2    Belgium     1    0.192708                   Yes          192\n",
       "3   Bulgaria     1    0.181102                   Yes          127\n",
       "4      Chile     1    0.186207                   Yes          145"
      ]
     },
     "execution_count": 6,
     "metadata": {},
     "output_type": "execute_result"
    }
   ],
   "source": [
    "long_data.head()"
   ]
  },
  {
   "cell_type": "markdown",
   "metadata": {},
   "source": [
    "### Coding missing data as a string for the figure (If coded as np.nan Seaborn will ignore values)"
   ]
  },
  {
   "cell_type": "code",
   "execution_count": 7,
   "metadata": {},
   "outputs": [],
   "source": [
    "long_data.loc[long_data[\"Succesful Replication\"].isna(),\"Succesful Replication\"] = \"NA\""
   ]
  },
  {
   "cell_type": "markdown",
   "metadata": {},
   "source": [
    "### Hack to make the scatterplot align with the pointplots"
   ]
  },
  {
   "cell_type": "code",
   "execution_count": 8,
   "metadata": {},
   "outputs": [],
   "source": [
    "long_data[\"Item2\"] = long_data[\"Item\"] - 1"
   ]
  },
  {
   "cell_type": "markdown",
   "metadata": {},
   "source": [
    "### Meta-analytic effects"
   ]
  },
  {
   "cell_type": "code",
   "execution_count": 9,
   "metadata": {},
   "outputs": [],
   "source": [
    "prop_df = pd.read_excel(\"../output/Meta analysis proportions.xlsx\", index=False)"
   ]
  },
  {
   "cell_type": "code",
   "execution_count": 10,
   "metadata": {},
   "outputs": [],
   "source": [
    "prop_df.loc[7, \"Succesful Replication\"] = \"NA\""
   ]
  },
  {
   "cell_type": "code",
   "execution_count": 11,
   "metadata": {},
   "outputs": [
    {
     "data": {
      "text/html": [
       "<div>\n",
       "<style scoped>\n",
       "    .dataframe tbody tr th:only-of-type {\n",
       "        vertical-align: middle;\n",
       "    }\n",
       "\n",
       "    .dataframe tbody tr th {\n",
       "        vertical-align: top;\n",
       "    }\n",
       "\n",
       "    .dataframe thead th {\n",
       "        text-align: right;\n",
       "    }\n",
       "</style>\n",
       "<table border=\"1\" class=\"dataframe\">\n",
       "  <thead>\n",
       "    <tr style=\"text-align: right;\">\n",
       "      <th></th>\n",
       "      <th>prop</th>\n",
       "      <th>lb</th>\n",
       "      <th>ub</th>\n",
       "      <th>p-value</th>\n",
       "      <th>Item</th>\n",
       "      <th>Succesful Replication</th>\n",
       "    </tr>\n",
       "  </thead>\n",
       "  <tbody>\n",
       "    <tr>\n",
       "      <th>0</th>\n",
       "      <td>0.241358</td>\n",
       "      <td>0.211271</td>\n",
       "      <td>0.274240</td>\n",
       "      <td>6.539007e-39</td>\n",
       "      <td>1</td>\n",
       "      <td>Yes</td>\n",
       "    </tr>\n",
       "    <tr>\n",
       "      <th>1</th>\n",
       "      <td>0.614820</td>\n",
       "      <td>0.586543</td>\n",
       "      <td>0.642342</td>\n",
       "      <td>7.730740e-15</td>\n",
       "      <td>2</td>\n",
       "      <td>Yes</td>\n",
       "    </tr>\n",
       "    <tr>\n",
       "      <th>2</th>\n",
       "      <td>0.123918</td>\n",
       "      <td>0.106135</td>\n",
       "      <td>0.144201</td>\n",
       "      <td>2.377183e-106</td>\n",
       "      <td>3</td>\n",
       "      <td>Yes</td>\n",
       "    </tr>\n",
       "    <tr>\n",
       "      <th>3</th>\n",
       "      <td>0.509695</td>\n",
       "      <td>0.478994</td>\n",
       "      <td>0.540324</td>\n",
       "      <td>5.360876e-01</td>\n",
       "      <td>4</td>\n",
       "      <td>No</td>\n",
       "    </tr>\n",
       "    <tr>\n",
       "      <th>4</th>\n",
       "      <td>0.102886</td>\n",
       "      <td>0.082922</td>\n",
       "      <td>0.126991</td>\n",
       "      <td>2.691424e-71</td>\n",
       "      <td>5</td>\n",
       "      <td>Yes</td>\n",
       "    </tr>\n",
       "  </tbody>\n",
       "</table>\n",
       "</div>"
      ],
      "text/plain": [
       "       prop        lb        ub        p-value  Item Succesful Replication\n",
       "0  0.241358  0.211271  0.274240   6.539007e-39     1                   Yes\n",
       "1  0.614820  0.586543  0.642342   7.730740e-15     2                   Yes\n",
       "2  0.123918  0.106135  0.144201  2.377183e-106     3                   Yes\n",
       "3  0.509695  0.478994  0.540324   5.360876e-01     4                    No\n",
       "4  0.102886  0.082922  0.126991   2.691424e-71     5                   Yes"
      ]
     },
     "execution_count": 11,
     "metadata": {},
     "output_type": "execute_result"
    }
   ],
   "source": [
    "prop_df.head()"
   ]
  },
  {
   "cell_type": "markdown",
   "metadata": {},
   "source": [
    "### Original effects"
   ]
  },
  {
   "cell_type": "code",
   "execution_count": 12,
   "metadata": {},
   "outputs": [],
   "source": [
    "original_pt_proportions_df = pd.read_csv(\"../output/original_proportions.csv\")"
   ]
  },
  {
   "cell_type": "code",
   "execution_count": 13,
   "metadata": {},
   "outputs": [
    {
     "data": {
      "text/html": [
       "<div>\n",
       "<style scoped>\n",
       "    .dataframe tbody tr th:only-of-type {\n",
       "        vertical-align: middle;\n",
       "    }\n",
       "\n",
       "    .dataframe tbody tr th {\n",
       "        vertical-align: top;\n",
       "    }\n",
       "\n",
       "    .dataframe thead th {\n",
       "        text-align: right;\n",
       "    }\n",
       "</style>\n",
       "<table border=\"1\" class=\"dataframe\">\n",
       "  <thead>\n",
       "    <tr style=\"text-align: right;\">\n",
       "      <th></th>\n",
       "      <th>Item</th>\n",
       "      <th>Proportion</th>\n",
       "      <th>Country</th>\n",
       "    </tr>\n",
       "  </thead>\n",
       "  <tbody>\n",
       "    <tr>\n",
       "      <th>0</th>\n",
       "      <td>1</td>\n",
       "      <td>0.18</td>\n",
       "      <td>Original</td>\n",
       "    </tr>\n",
       "    <tr>\n",
       "      <th>1</th>\n",
       "      <td>2</td>\n",
       "      <td>0.83</td>\n",
       "      <td>Original</td>\n",
       "    </tr>\n",
       "    <tr>\n",
       "      <th>2</th>\n",
       "      <td>3</td>\n",
       "      <td>0.20</td>\n",
       "      <td>Original</td>\n",
       "    </tr>\n",
       "    <tr>\n",
       "      <th>3</th>\n",
       "      <td>4</td>\n",
       "      <td>0.65</td>\n",
       "      <td>Original</td>\n",
       "    </tr>\n",
       "    <tr>\n",
       "      <th>4</th>\n",
       "      <td>5</td>\n",
       "      <td>0.14</td>\n",
       "      <td>Original</td>\n",
       "    </tr>\n",
       "  </tbody>\n",
       "</table>\n",
       "</div>"
      ],
      "text/plain": [
       "   Item  Proportion   Country\n",
       "0     1        0.18  Original\n",
       "1     2        0.83  Original\n",
       "2     3        0.20  Original\n",
       "3     4        0.65  Original\n",
       "4     5        0.14  Original"
      ]
     },
     "execution_count": 13,
     "metadata": {},
     "output_type": "execute_result"
    }
   ],
   "source": [
    "original_pt_proportions_df.head()"
   ]
  },
  {
   "cell_type": "markdown",
   "metadata": {},
   "source": [
    "### Plotting the figure"
   ]
  },
  {
   "cell_type": "code",
   "execution_count": 14,
   "metadata": {},
   "outputs": [
    {
     "data": {
      "image/png": "[encoded data removed]",
      "text/plain": [
       "<Figure size 288x72 with 1 Axes>"
      ]
     },
     "metadata": {
      "needs_background": "light"
     },
     "output_type": "display_data"
    }
   ],
   "source": [
    "sns.palplot(['#cb4335', '#2e86c1', \"#e67e22\", \"#0E6251\"])"
   ]
  },
  {
   "cell_type": "code",
   "execution_count": 15,
   "metadata": {},
   "outputs": [
    {
     "data": {
      "image/png": "[encoded data removed]",
      "text/plain": [
       "<Figure size 576x216 with 1 Axes>"
      ]
     },
     "metadata": {},
     "output_type": "display_data"
    }
   ],
   "source": [
    "sns.set(font_scale=1, style=\"ticks\")\n",
    "fig, ax = plt.subplots(figsize=(8, 3))\n",
    "\n",
    "# Country-level data\n",
    "sns.scatterplot(x=\"Item2\", y=\"Proportion\", data=long_data, hue=\"Succesful Replication\", hue_order=[\"Yes\", \"No\", \"NA\"],\n",
    "                    style=\"Succesful Replication\", size=\"Sample Size\", linewidth=0, alpha=0.2, palette=['#2e86c1', '#cb4335', \"#e67e22\"],\n",
    "               markers={\"Yes\": \"o\", \"No\": \"X\", \"NA\":\"d\"}, ax=ax, zorder=-1000)\n",
    "\n",
    "# Original Proportions\n",
    "sns.pointplot(data=original_pt_proportions_df, x=\"Item\", y=\"Proportion\", join=False, markers=\"_\", order=np.arange(1, 18),\n",
    "             color='black', scale=2.5, zorder=-1000)\n",
    "\n",
    "# Meta-analysis\n",
    "sns.pointplot(data=prop_df, x=\"Item\", y=\"prop\", join=False, markers=\"_\",\n",
    "              scale=2, ax = ax, palette=['#2e86c1', '#cb4335', \"#e67e22\"], hue=\"Succesful Replication\",\n",
    "                  label=None,\n",
    "                 order=prop_df[\"Item\"].values, zorder=3000)\n",
    "\n",
    "# Meta-analysis error bars\n",
    "plt.errorbar(\n",
    "    np.arange(17),\n",
    "    prop_df[\"prop\"],\n",
    "    yerr=[prop_df[\"prop\"] - prop_df[\"lb\"], prop_df[\"ub\"] - prop_df[\"prop\"]],\n",
    "    linestyle='',\n",
    "    linewidth=3, color=['#2e86c1', '#2e86c1', '#2e86c1', '#cb4335', '#2e86c1', '#2e86c1', '#2e86c1', \"#e67e22\",\n",
    "                       '#2e86c1', '#2e86c1', '#2e86c1', '#2e86c1', '#2e86c1', '#2e86c1', '#2e86c1', '#2e86c1',\n",
    "                       '#2e86c1'])\n",
    "# Indifference line\n",
    "ax.axhline(ls='--', c=\"black\", y=0.5, zorder=-3000)\n",
    "\n",
    "# Aesthetic edits\n",
    "lgd = plt.legend(handles=ax.get_legend_handles_labels()[0][:-3], bbox_to_anchor=(1.05, 1), loc=2, borderaxespad=0.)\n",
    "ax.set(ylabel=\"Proportion A Chosen\")\n",
    "sns.despine()\n",
    "\n",
    "# Saving figure\n",
    "plt.savefig(\"../figures/Figure 1a.svg\", bbox_extra_artists=(lgd,),\n",
    "           bbox_inches=\"tight\")"
   ]
  },
  {
   "cell_type": "markdown",
   "metadata": {},
   "source": [
    "# Plotting attenuation effects"
   ]
  },
  {
   "cell_type": "markdown",
   "metadata": {},
   "source": [
    "### Loading the deviations in effect size from the original study by country"
   ]
  },
  {
   "cell_type": "code",
   "execution_count": 16,
   "metadata": {},
   "outputs": [],
   "source": [
    "country_deviations_signed_long = pd.read_csv(\"../output/deviations_from_original_by_country.csv\")"
   ]
  },
  {
   "cell_type": "markdown",
   "metadata": {},
   "source": [
    "### Relabelling the \"Succesful replication\" variable for the figure"
   ]
  },
  {
   "cell_type": "code",
   "execution_count": 17,
   "metadata": {},
   "outputs": [],
   "source": [
    "country_deviations_signed_long.loc[country_deviations_signed_long[\"Succesful Replication\"] == 1,\n",
    "                                   \"Successful Replication\"] = \"Yes\"\n",
    "country_deviations_signed_long.loc[country_deviations_signed_long[\"Succesful Replication\"] == 0,\n",
    "                                   \"Successful Replication\"] = \"No\""
   ]
  },
  {
   "cell_type": "code",
   "execution_count": 18,
   "metadata": {},
   "outputs": [
    {
     "data": {
      "text/plain": [
       "Yes    247\n",
       "No      57\n",
       "Name: Successful Replication, dtype: int64"
      ]
     },
     "execution_count": 18,
     "metadata": {},
     "output_type": "execute_result"
    }
   ],
   "source": [
    "country_deviations_signed_long[\"Successful Replication\"].value_counts()"
   ]
  },
  {
   "cell_type": "code",
   "execution_count": 19,
   "metadata": {},
   "outputs": [],
   "source": [
    "country_deviations_signed_long = country_deviations_signed_long.loc[country_deviations_signed_long[\"Item\"]!=8, :]"
   ]
  },
  {
   "cell_type": "code",
   "execution_count": 20,
   "metadata": {},
   "outputs": [],
   "source": [
    "country_deviations_signed_long[\"Item2\"] =country_deviations_signed_long[\"Item\"]\n",
    "country_deviations_signed_long.loc[country_deviations_signed_long[\"Item2\"] > 8, \"Item2\"] = country_deviations_signed_long.loc[country_deviations_signed_long[\"Item2\"] > 8, \"Item2\"] - 1\n",
    "country_deviations_signed_long[\"Item2\"] = country_deviations_signed_long[\"Item2\"] - 1"
   ]
  },
  {
   "cell_type": "code",
   "execution_count": 21,
   "metadata": {},
   "outputs": [
    {
     "data": {
      "text/plain": [
       "15    19\n",
       "14    19\n",
       "13    19\n",
       "12    19\n",
       "11    19\n",
       "10    19\n",
       "9     19\n",
       "8     19\n",
       "7     19\n",
       "6     19\n",
       "5     19\n",
       "4     19\n",
       "3     19\n",
       "2     19\n",
       "1     19\n",
       "0     19\n",
       "Name: Item2, dtype: int64"
      ]
     },
     "execution_count": 21,
     "metadata": {},
     "output_type": "execute_result"
    }
   ],
   "source": [
    "country_deviations_signed_long[\"Item2\"].value_counts()"
   ]
  },
  {
   "cell_type": "markdown",
   "metadata": {},
   "source": [
    "### Computing deviations from the original study for the meta-analytic coefficients"
   ]
  },
  {
   "cell_type": "code",
   "execution_count": 22,
   "metadata": {},
   "outputs": [],
   "source": [
    "original_pt_proportions = original_pt_proportions_df[\"Proportion\"].values"
   ]
  },
  {
   "cell_type": "code",
   "execution_count": 23,
   "metadata": {},
   "outputs": [],
   "source": [
    "original_pt_distance_from_indifference = original_pt_proportions - 0.5"
   ]
  },
  {
   "cell_type": "code",
   "execution_count": 24,
   "metadata": {},
   "outputs": [
    {
     "data": {
      "text/plain": [
       "array([-0.32,  0.33, -0.3 ,  0.15, -0.36,  0.23,  0.42, -0.08,  0.42,\n",
       "       -0.2 , -0.28, -0.34,  0.19, -0.32,  0.2 ,  0.22, -0.33])"
      ]
     },
     "execution_count": 24,
     "metadata": {},
     "output_type": "execute_result"
    }
   ],
   "source": [
    "original_pt_distance_from_indifference"
   ]
  },
  {
   "cell_type": "code",
   "execution_count": 25,
   "metadata": {},
   "outputs": [],
   "source": [
    "prop_df_dev = prop_df.copy()\n",
    "prop_df_dev = prop_df_dev.set_index(pd.Index([str(x) for x in np.arange(1, 18)]))\n",
    "prop_df_dev[\"prop\"] = prop_df_dev[\"prop\"] - original_pt_proportions\n",
    "prop_df_dev[\"lb\"] = prop_df_dev[\"lb\"] - original_pt_proportions\n",
    "prop_df_dev[\"ub\"] = prop_df_dev[\"ub\"] - original_pt_proportions\n",
    "prop_df_dev = prop_df_dev.reset_index(drop=True)"
   ]
  },
  {
   "cell_type": "code",
   "execution_count": 26,
   "metadata": {},
   "outputs": [],
   "source": [
    "for ix in prop_df_dev.index:\n",
    "    if original_pt_distance_from_indifference[ix] < 0:\n",
    "        prop_df_dev.loc[ix, \"prop\"] = prop_df_dev.loc[ix, \"prop\"]*-1\n",
    "        prop_df_dev.loc[ix, \"ub\"] = prop_df_dev.loc[ix, \"ub\"]*-1\n",
    "        prop_df_dev.loc[ix, \"lb\"] = prop_df_dev.loc[ix, \"lb\"]*-1"
   ]
  },
  {
   "cell_type": "code",
   "execution_count": 27,
   "metadata": {},
   "outputs": [],
   "source": [
    "prop_df_dev = prop_df_dev.loc[prop_df_dev[\"Item\"]!=8, :]"
   ]
  },
  {
   "cell_type": "code",
   "execution_count": 30,
   "metadata": {},
   "outputs": [
    {
     "data": {
      "image/png": "[encoded data removed]",
      "text/plain": [
       "<Figure size 576x216 with 1 Axes>"
      ]
     },
     "metadata": {},
     "output_type": "display_data"
    }
   ],
   "source": [
    "sns.set(font_scale=1, style=\"ticks\")\n",
    "fig, ax = plt.subplots(figsize=(8, 3)) \n",
    "\n",
    "# Plotting the unpooled country effects\n",
    "sns.scatterplot(x=\"Item2\", y=\"Deviation\", data=country_deviations_signed_long,\n",
    "                zorder=-1000, size=\"Sample Size\",\n",
    "                    hue=\"Successful Replication\", linewidth=0, alpha=0.2,\n",
    "                     palette=['#2e86c1', '#cb4335'],\n",
    "                    style=\"Successful Replication\", markers={\"Yes\": \"o\", \"No\": \"X\"}, ax=ax,\n",
    "               hue_order=(\"Yes\", \"No\"))\n",
    "\n",
    "# Plotting the meta-analytic effects\n",
    "sns.pointplot(data=prop_df_dev, x=\"Item\", y=\"prop\", join=False, markers=\"_\",\n",
    "              scale=2, ax = ax, palette=['#2e86c1', '#cb4335', \"#e67e22\"], hue=\"Succesful Replication\",\n",
    "                  label=None, zorder=3000)\n",
    "\n",
    "\n",
    "# Plotting the meta-analytic error bars\n",
    "plt.errorbar(\n",
    "    np.arange(16),\n",
    "    prop_df_dev[\"prop\"],\n",
    "    yerr=[prop_df_dev[\"prop\"] - prop_df_dev[\"lb\"], prop_df_dev[\"ub\"] - prop_df_dev[\"prop\"]],\n",
    "    linestyle='',\n",
    "    linewidth=3, color=['#2e86c1', '#2e86c1', '#2e86c1', '#cb4335', '#2e86c1', '#2e86c1', '#2e86c1',\n",
    "                       '#2e86c1', '#2e86c1', '#2e86c1', '#2e86c1', '#2e86c1', '#2e86c1', '#2e86c1', '#2e86c1',\n",
    "                       '#2e86c1'])\n",
    "\n",
    "# Line signifying the original effect sizes \n",
    "ax.axhline(ls='--', c=\"black\")\n",
    "\n",
    "# Aesthetic edits\n",
    "ax.set(ylabel=\"Difference in effect size\", xlabel=\"Item\")\n",
    "ax.get_legend().remove()\n",
    "sns.despine()\n",
    "\n",
    "# Saving figure\n",
    "plt.savefig(\"../figures/Figure 1b.svg\",\n",
    "           bbox_inches=\"tight\")"
   ]
  },
  {
   "cell_type": "markdown",
   "metadata": {},
   "source": [
    "# Plot replication rates by country"
   ]
  },
  {
   "cell_type": "code",
   "execution_count": 31,
   "metadata": {},
   "outputs": [
    {
     "data": {
      "text/html": [
       "<div>\n",
       "<style scoped>\n",
       "    .dataframe tbody tr th:only-of-type {\n",
       "        vertical-align: middle;\n",
       "    }\n",
       "\n",
       "    .dataframe tbody tr th {\n",
       "        vertical-align: top;\n",
       "    }\n",
       "\n",
       "    .dataframe thead th {\n",
       "        text-align: right;\n",
       "    }\n",
       "</style>\n",
       "<table border=\"1\" class=\"dataframe\">\n",
       "  <thead>\n",
       "    <tr style=\"text-align: right;\">\n",
       "      <th></th>\n",
       "      <th>Country</th>\n",
       "      <th>Succesful Replication</th>\n",
       "      <th>Continent</th>\n",
       "      <th>Colour</th>\n",
       "    </tr>\n",
       "  </thead>\n",
       "  <tbody>\n",
       "    <tr>\n",
       "      <th>15</th>\n",
       "      <td>Australia</td>\n",
       "      <td>0.7500</td>\n",
       "      <td>Oceania</td>\n",
       "      <td>(0.33999999999999997, 0.86, 0.6683428571428571)</td>\n",
       "    </tr>\n",
       "    <tr>\n",
       "      <th>16</th>\n",
       "      <td>Austria</td>\n",
       "      <td>0.7500</td>\n",
       "      <td>Europe</td>\n",
       "      <td>(0.86, 0.3712, 0.33999999999999997)</td>\n",
       "    </tr>\n",
       "    <tr>\n",
       "      <th>17</th>\n",
       "      <td>Bulgaria</td>\n",
       "      <td>0.7500</td>\n",
       "      <td>Europe</td>\n",
       "      <td>(0.86, 0.3712, 0.33999999999999997)</td>\n",
       "    </tr>\n",
       "    <tr>\n",
       "      <th>18</th>\n",
       "      <td>Ireland</td>\n",
       "      <td>0.7500</td>\n",
       "      <td>Europe</td>\n",
       "      <td>(0.86, 0.3712, 0.33999999999999997)</td>\n",
       "    </tr>\n",
       "    <tr>\n",
       "      <th>19</th>\n",
       "      <td>Chile</td>\n",
       "      <td>0.6875</td>\n",
       "      <td>South America</td>\n",
       "      <td>(0.33999999999999997, 0.6059428571428571, 0.86)</td>\n",
       "    </tr>\n",
       "  </tbody>\n",
       "</table>\n",
       "</div>"
      ],
      "text/plain": [
       "      Country  Succesful Replication      Continent  \\\n",
       "15  Australia                 0.7500        Oceania   \n",
       "16    Austria                 0.7500         Europe   \n",
       "17   Bulgaria                 0.7500         Europe   \n",
       "18    Ireland                 0.7500         Europe   \n",
       "19      Chile                 0.6875  South America   \n",
       "\n",
       "                                             Colour  \n",
       "15  (0.33999999999999997, 0.86, 0.6683428571428571)  \n",
       "16              (0.86, 0.3712, 0.33999999999999997)  \n",
       "17              (0.86, 0.3712, 0.33999999999999997)  \n",
       "18              (0.86, 0.3712, 0.33999999999999997)  \n",
       "19  (0.33999999999999997, 0.6059428571428571, 0.86)  "
      ]
     },
     "execution_count": 31,
     "metadata": {},
     "output_type": "execute_result"
    }
   ],
   "source": [
    "replication_rate_by_country = pd.read_csv(\"../output/replication_rate_by_country.csv\")\n",
    "replication_rate_by_country.tail()"
   ]
  },
  {
   "cell_type": "code",
   "execution_count": 32,
   "metadata": {},
   "outputs": [],
   "source": [
    "import matplotlib.colors as colors"
   ]
  },
  {
   "cell_type": "code",
   "execution_count": 33,
   "metadata": {},
   "outputs": [
    {
     "data": {
      "image/png": "[encoded data removed]",
      "text/plain": [
       "<Figure size 576x360 with 1 Axes>"
      ]
     },
     "metadata": {},
     "output_type": "display_data"
    }
   ],
   "source": [
    "import matplotlib.patches as mpatches\n",
    "\n",
    "bar_colours = replication_rate_by_country[\"Colour\"].str.lstrip('(').str.rstrip(')').str.split(\", \").values\n",
    "for i in range(len(bar_colours)):\n",
    "    for j in range(len(bar_colours[1])):\n",
    "        bar_colours[i][j] = float(bar_colours[i][j])\n",
    "cont_col_dict = dict(zip(replication_rate_by_country[\"Continent\"][1:].unique(), sns.color_palette(\"hls\", 7)[:5]))\n",
    "\n",
    "sns.set(font_scale=1, style=\"ticks\")\n",
    "fig, ax= plt.subplots(figsize=(8, 5))\n",
    "sns.barplot(y=\"Country\", x=\"Succesful Replication\", data=replication_rate_by_country, ax=ax, palette=bar_colours)\n",
    "ax.set(xlim=(0, 1), xlabel=\"Replication Rate\",\n",
    "      xticklabels=[str(x) + \"%\" for x in np.arange(0, 120, 20)], ylabel=\"\")\n",
    "sns.despine()\n",
    "\n",
    "pooled = mpatches.Patch(color=sns.color_palette(\"hls\", 7)[6], label='Pooled')\n",
    "asia = mpatches.Patch(color=cont_col_dict[\"Asia\"], label='Asia')\n",
    "europe = mpatches.Patch(color=cont_col_dict[\"Europe\"], label='Europe')\n",
    "north_america = mpatches.Patch(color=cont_col_dict[\"North America\"], label='North America')\n",
    "oceania = mpatches.Patch(color=cont_col_dict[\"Oceania\"], label='Oceania')\n",
    "south_america = mpatches.Patch(color=cont_col_dict[\"South America\"], label='South America')\n",
    "\n",
    "for i in ax.patches:\n",
    "    #get_width pulls left or right; get_y pushes up or down\n",
    "    ax.text(i.get_width()-.01, i.get_y()+.1, \\\n",
    "            str(int(np.round(i.get_width()*100)))+'%', fontsize=10,\n",
    "    color='white', verticalalignment='top', horizontalalignment=\"right\",\n",
    "           weight=\"heavy\")\n",
    "lgd = plt.legend(handles=[pooled, asia, europe, north_america, oceania, south_america], bbox_to_anchor=(1.05, 1), loc=2, borderaxespad=0.)\n",
    "plt.savefig(\"../figures/Figure 2.svg\", bbox_inches=\"tight\", bbox_extra_artists=(lgd,))"
   ]
  },
  {
   "cell_type": "markdown",
   "metadata": {},
   "source": [
    "# Gender Figure"
   ]
  },
  {
   "cell_type": "markdown",
   "metadata": {},
   "source": [
    "### Load and prepare data"
   ]
  },
  {
   "cell_type": "code",
   "execution_count": 34,
   "metadata": {},
   "outputs": [],
   "source": [
    "data= pd.read_pickle(\"../data/modified_exclusions/pt_replication_modified_exclusions_data.pkl\")"
   ]
  },
  {
   "cell_type": "code",
   "execution_count": 35,
   "metadata": {},
   "outputs": [
    {
     "data": {
      "text/html": [
       "<div>\n",
       "<style scoped>\n",
       "    .dataframe tbody tr th:only-of-type {\n",
       "        vertical-align: middle;\n",
       "    }\n",
       "\n",
       "    .dataframe tbody tr th {\n",
       "        vertical-align: top;\n",
       "    }\n",
       "\n",
       "    .dataframe thead th {\n",
       "        text-align: right;\n",
       "    }\n",
       "</style>\n",
       "<table border=\"1\" class=\"dataframe\">\n",
       "  <thead>\n",
       "    <tr style=\"text-align: right;\">\n",
       "      <th></th>\n",
       "      <th>1</th>\n",
       "      <th>2</th>\n",
       "      <th>3</th>\n",
       "      <th>4</th>\n",
       "      <th>5</th>\n",
       "      <th>6</th>\n",
       "      <th>7</th>\n",
       "      <th>8</th>\n",
       "      <th>9</th>\n",
       "      <th>10</th>\n",
       "      <th>...</th>\n",
       "      <th>Loss_Intuition</th>\n",
       "      <th>Country</th>\n",
       "      <th>Duration_in_seconds</th>\n",
       "      <th>Language</th>\n",
       "      <th>Sample</th>\n",
       "      <th>Duration_Minutes</th>\n",
       "      <th>YoB</th>\n",
       "      <th>Awareness_of_Loss_Aversion</th>\n",
       "      <th>Financial_Stress</th>\n",
       "      <th>Presentation_Order</th>\n",
       "    </tr>\n",
       "  </thead>\n",
       "  <tbody>\n",
       "    <tr>\n",
       "      <th>0</th>\n",
       "      <td>1.0</td>\n",
       "      <td>0.0</td>\n",
       "      <td>0.0</td>\n",
       "      <td>1.0</td>\n",
       "      <td>1.0</td>\n",
       "      <td>1.0</td>\n",
       "      <td>1.0</td>\n",
       "      <td>0.0</td>\n",
       "      <td>1.0</td>\n",
       "      <td>1.0</td>\n",
       "      <td>...</td>\n",
       "      <td>1.0</td>\n",
       "      <td>Bulgaria</td>\n",
       "      <td>356</td>\n",
       "      <td>Bulgarian</td>\n",
       "      <td>Direct</td>\n",
       "      <td>5.933333</td>\n",
       "      <td>1992</td>\n",
       "      <td>3</td>\n",
       "      <td>NaN</td>\n",
       "      <td>4|6|2|3|17|18|14|8|7|15|1|12|11|5|13|16|9|10</td>\n",
       "    </tr>\n",
       "    <tr>\n",
       "      <th>1</th>\n",
       "      <td>0.0</td>\n",
       "      <td>0.0</td>\n",
       "      <td>0.0</td>\n",
       "      <td>0.0</td>\n",
       "      <td>0.0</td>\n",
       "      <td>0.0</td>\n",
       "      <td>0.0</td>\n",
       "      <td>0.0</td>\n",
       "      <td>1.0</td>\n",
       "      <td>0.0</td>\n",
       "      <td>...</td>\n",
       "      <td>NaN</td>\n",
       "      <td>Bulgaria</td>\n",
       "      <td>931</td>\n",
       "      <td>Bulgarian</td>\n",
       "      <td>Direct</td>\n",
       "      <td>15.516667</td>\n",
       "      <td>1979</td>\n",
       "      <td>1</td>\n",
       "      <td>NaN</td>\n",
       "      <td>7|17|16|11|15|18|4|9|1|13|2|10|6|14|5|12|8|3</td>\n",
       "    </tr>\n",
       "    <tr>\n",
       "      <th>2</th>\n",
       "      <td>0.0</td>\n",
       "      <td>0.0</td>\n",
       "      <td>0.0</td>\n",
       "      <td>0.0</td>\n",
       "      <td>0.0</td>\n",
       "      <td>0.0</td>\n",
       "      <td>1.0</td>\n",
       "      <td>0.0</td>\n",
       "      <td>0.0</td>\n",
       "      <td>0.0</td>\n",
       "      <td>...</td>\n",
       "      <td>1.0</td>\n",
       "      <td>Bulgaria</td>\n",
       "      <td>462</td>\n",
       "      <td>Bulgarian</td>\n",
       "      <td>Direct</td>\n",
       "      <td>7.700000</td>\n",
       "      <td>1975</td>\n",
       "      <td>3</td>\n",
       "      <td>NaN</td>\n",
       "      <td>11|8|4|7|12|18|3|14|6|16|17|1|2|13|5|15|9|10</td>\n",
       "    </tr>\n",
       "    <tr>\n",
       "      <th>3</th>\n",
       "      <td>0.0</td>\n",
       "      <td>0.0</td>\n",
       "      <td>0.0</td>\n",
       "      <td>0.0</td>\n",
       "      <td>0.0</td>\n",
       "      <td>0.0</td>\n",
       "      <td>1.0</td>\n",
       "      <td>0.0</td>\n",
       "      <td>1.0</td>\n",
       "      <td>0.0</td>\n",
       "      <td>...</td>\n",
       "      <td>NaN</td>\n",
       "      <td>Bulgaria</td>\n",
       "      <td>412</td>\n",
       "      <td>Bulgarian</td>\n",
       "      <td>Direct</td>\n",
       "      <td>6.866667</td>\n",
       "      <td>1977</td>\n",
       "      <td>1</td>\n",
       "      <td>NaN</td>\n",
       "      <td>16|7|6|9|12|18|10|8|5|15|2|3|4|14|11|1|17|13</td>\n",
       "    </tr>\n",
       "    <tr>\n",
       "      <th>4</th>\n",
       "      <td>0.0</td>\n",
       "      <td>0.0</td>\n",
       "      <td>0.0</td>\n",
       "      <td>0.0</td>\n",
       "      <td>0.0</td>\n",
       "      <td>1.0</td>\n",
       "      <td>1.0</td>\n",
       "      <td>1.0</td>\n",
       "      <td>1.0</td>\n",
       "      <td>1.0</td>\n",
       "      <td>...</td>\n",
       "      <td>NaN</td>\n",
       "      <td>Bulgaria</td>\n",
       "      <td>490</td>\n",
       "      <td>Bulgarian</td>\n",
       "      <td>Direct</td>\n",
       "      <td>8.166667</td>\n",
       "      <td>1970</td>\n",
       "      <td>1</td>\n",
       "      <td>NaN</td>\n",
       "      <td>13|4|3|7|9|18|16|8|14|1|6|12|17|10|5|2|11|15</td>\n",
       "    </tr>\n",
       "  </tbody>\n",
       "</table>\n",
       "<p>5 rows × 39 columns</p>\n",
       "</div>"
      ],
      "text/plain": [
       "     1    2    3    4    5    6    7    8    9   10  ...  Loss_Intuition  \\\n",
       "0  1.0  0.0  0.0  1.0  1.0  1.0  1.0  0.0  1.0  1.0  ...             1.0   \n",
       "1  0.0  0.0  0.0  0.0  0.0  0.0  0.0  0.0  1.0  0.0  ...             NaN   \n",
       "2  0.0  0.0  0.0  0.0  0.0  0.0  1.0  0.0  0.0  0.0  ...             1.0   \n",
       "3  0.0  0.0  0.0  0.0  0.0  0.0  1.0  0.0  1.0  0.0  ...             NaN   \n",
       "4  0.0  0.0  0.0  0.0  0.0  1.0  1.0  1.0  1.0  1.0  ...             NaN   \n",
       "\n",
       "    Country  Duration_in_seconds   Language  Sample  Duration_Minutes   YoB  \\\n",
       "0  Bulgaria                  356  Bulgarian  Direct          5.933333  1992   \n",
       "1  Bulgaria                  931  Bulgarian  Direct         15.516667  1979   \n",
       "2  Bulgaria                  462  Bulgarian  Direct          7.700000  1975   \n",
       "3  Bulgaria                  412  Bulgarian  Direct          6.866667  1977   \n",
       "4  Bulgaria                  490  Bulgarian  Direct          8.166667  1970   \n",
       "\n",
       "  Awareness_of_Loss_Aversion  Financial_Stress  \\\n",
       "0                          3               NaN   \n",
       "1                          1               NaN   \n",
       "2                          3               NaN   \n",
       "3                          1               NaN   \n",
       "4                          1               NaN   \n",
       "\n",
       "                             Presentation_Order  \n",
       "0  4|6|2|3|17|18|14|8|7|15|1|12|11|5|13|16|9|10  \n",
       "1  7|17|16|11|15|18|4|9|1|13|2|10|6|14|5|12|8|3  \n",
       "2  11|8|4|7|12|18|3|14|6|16|17|1|2|13|5|15|9|10  \n",
       "3  16|7|6|9|12|18|10|8|5|15|2|3|4|14|11|1|17|13  \n",
       "4  13|4|3|7|9|18|16|8|14|1|6|12|17|10|5|2|11|15  \n",
       "\n",
       "[5 rows x 39 columns]"
      ]
     },
     "execution_count": 35,
     "metadata": {},
     "output_type": "execute_result"
    }
   ],
   "source": [
    "data.head()"
   ]
  },
  {
   "cell_type": "code",
   "execution_count": 36,
   "metadata": {},
   "outputs": [],
   "source": [
    "long_data_gender = data.melt(value_vars=[str(x) for x in np.arange(1, 18)], id_vars=[\"Country\", \"Gender\"], var_name=\"Item\", value_name=\"Proportion A\")"
   ]
  },
  {
   "cell_type": "code",
   "execution_count": 37,
   "metadata": {},
   "outputs": [],
   "source": [
    "long_data_gender.loc[long_data_gender[\"Gender\"]==\"Other\", \"Gender\"] = np.nan"
   ]
  },
  {
   "cell_type": "markdown",
   "metadata": {},
   "source": [
    "### Plot figure"
   ]
  },
  {
   "cell_type": "code",
   "execution_count": 38,
   "metadata": {},
   "outputs": [
    {
     "data": {
      "image/png": "[encoded data removed]",
      "text/plain": [
       "<Figure size 648x360 with 1 Axes>"
      ]
     },
     "metadata": {},
     "output_type": "display_data"
    }
   ],
   "source": [
    "sns.set(font_scale=1.25, style=\"ticks\")\n",
    "fig, ax = plt.subplots(figsize=(9, 5))\n",
    "sns.pointplot(data=long_data_gender, x=\"Item\", y=\"Proportion A\", join=False, ax=ax,\n",
    "              order=[str(x) for x in np.arange(1, 18)],\n",
    "              hue=\"Gender\", unit=\"Country\", inner=None, dodge=.25,\n",
    "             hue_order=[\"Female\", \"Male\"], zorder=2000,\n",
    "             palette=['#B9D9EB', '#a3c1ad'])\n",
    "ax.axhline(ls='--', c=\"black\", y=0.5, zorder=-1000)\n",
    "ax.set(ylim=(0,1), ylabel=\"Proportion A Chosen\")\n",
    "sns.despine()\n",
    "plt.savefig(\"../figures/Extended Data Figure 1.svg\")"
   ]
  },
  {
   "cell_type": "markdown",
   "metadata": {},
   "source": [
    "# Contrast Figure"
   ]
  },
  {
   "cell_type": "markdown",
   "metadata": {},
   "source": [
    "### Loading the data"
   ]
  },
  {
   "cell_type": "code",
   "execution_count": 39,
   "metadata": {},
   "outputs": [],
   "source": [
    "pt_contrasts_df2 = pd.read_excel(\"../output/contrasts_by_country.xlsx\")"
   ]
  },
  {
   "cell_type": "code",
   "execution_count": 40,
   "metadata": {},
   "outputs": [
    {
     "data": {
      "text/html": [
       "<div>\n",
       "<style scoped>\n",
       "    .dataframe tbody tr th:only-of-type {\n",
       "        vertical-align: middle;\n",
       "    }\n",
       "\n",
       "    .dataframe tbody tr th {\n",
       "        vertical-align: top;\n",
       "    }\n",
       "\n",
       "    .dataframe thead th {\n",
       "        text-align: right;\n",
       "    }\n",
       "</style>\n",
       "<table border=\"1\" class=\"dataframe\">\n",
       "  <thead>\n",
       "    <tr style=\"text-align: right;\">\n",
       "      <th></th>\n",
       "      <th>Country</th>\n",
       "      <th>Effect</th>\n",
       "      <th>Item 1</th>\n",
       "      <th>Item 2</th>\n",
       "      <th>A1</th>\n",
       "      <th>B1</th>\n",
       "      <th>A2</th>\n",
       "      <th>B2</th>\n",
       "      <th>OR</th>\n",
       "      <th>p-value</th>\n",
       "      <th>OR2</th>\n",
       "      <th>Significance</th>\n",
       "      <th>Contrast</th>\n",
       "      <th>Sample Size</th>\n",
       "      <th>Significant</th>\n",
       "      <th>LogOR</th>\n",
       "      <th>Significance2</th>\n",
       "      <th>LogOR_difference</th>\n",
       "      <th>Replicates</th>\n",
       "    </tr>\n",
       "  </thead>\n",
       "  <tbody>\n",
       "    <tr>\n",
       "      <th>0</th>\n",
       "      <td>Bulgaria</td>\n",
       "      <td>Certainty Effect</td>\n",
       "      <td>1</td>\n",
       "      <td>2</td>\n",
       "      <td>23</td>\n",
       "      <td>104</td>\n",
       "      <td>72</td>\n",
       "      <td>55</td>\n",
       "      <td>0.168937</td>\n",
       "      <td>2.425416e-10</td>\n",
       "      <td>5.919368</td>\n",
       "      <td>True</td>\n",
       "      <td>1 vs 2</td>\n",
       "      <td>127</td>\n",
       "      <td>Yes</td>\n",
       "      <td>-1.778230</td>\n",
       "      <td>1</td>\n",
       "      <td>-1.343796</td>\n",
       "      <td>Yes</td>\n",
       "    </tr>\n",
       "    <tr>\n",
       "      <th>1</th>\n",
       "      <td>Bulgaria</td>\n",
       "      <td>Certainty Effect</td>\n",
       "      <td>3</td>\n",
       "      <td>4</td>\n",
       "      <td>15</td>\n",
       "      <td>112</td>\n",
       "      <td>65</td>\n",
       "      <td>62</td>\n",
       "      <td>0.127747</td>\n",
       "      <td>1.080756e-11</td>\n",
       "      <td>7.827957</td>\n",
       "      <td>True</td>\n",
       "      <td>3 vs 4</td>\n",
       "      <td>127</td>\n",
       "      <td>Yes</td>\n",
       "      <td>-2.057702</td>\n",
       "      <td>1</td>\n",
       "      <td>0.040780</td>\n",
       "      <td>Yes</td>\n",
       "    </tr>\n",
       "    <tr>\n",
       "      <th>2</th>\n",
       "      <td>Bulgaria</td>\n",
       "      <td>Certainty Effect</td>\n",
       "      <td>7</td>\n",
       "      <td>8</td>\n",
       "      <td>109</td>\n",
       "      <td>18</td>\n",
       "      <td>76</td>\n",
       "      <td>51</td>\n",
       "      <td>4.063596</td>\n",
       "      <td>4.697618e-06</td>\n",
       "      <td>4.063596</td>\n",
       "      <td>True</td>\n",
       "      <td>7 vs 8</td>\n",
       "      <td>127</td>\n",
       "      <td>Yes</td>\n",
       "      <td>1.402068</td>\n",
       "      <td>1</td>\n",
       "      <td>-1.302852</td>\n",
       "      <td>Yes</td>\n",
       "    </tr>\n",
       "    <tr>\n",
       "      <th>3</th>\n",
       "      <td>Bulgaria</td>\n",
       "      <td>Reflection Effect</td>\n",
       "      <td>3</td>\n",
       "      <td>7</td>\n",
       "      <td>15</td>\n",
       "      <td>112</td>\n",
       "      <td>109</td>\n",
       "      <td>18</td>\n",
       "      <td>0.022117</td>\n",
       "      <td>5.761813e-35</td>\n",
       "      <td>45.214815</td>\n",
       "      <td>True</td>\n",
       "      <td>3 vs 7</td>\n",
       "      <td>127</td>\n",
       "      <td>Yes</td>\n",
       "      <td>-3.811425</td>\n",
       "      <td>1</td>\n",
       "      <td>0.038664</td>\n",
       "      <td>Yes</td>\n",
       "    </tr>\n",
       "    <tr>\n",
       "      <th>4</th>\n",
       "      <td>Bulgaria</td>\n",
       "      <td>Reflection Effect</td>\n",
       "      <td>4</td>\n",
       "      <td>8</td>\n",
       "      <td>65</td>\n",
       "      <td>62</td>\n",
       "      <td>76</td>\n",
       "      <td>51</td>\n",
       "      <td>0.703523</td>\n",
       "      <td>2.066420e-01</td>\n",
       "      <td>1.421418</td>\n",
       "      <td>False</td>\n",
       "      <td>4 vs 8</td>\n",
       "      <td>127</td>\n",
       "      <td>No</td>\n",
       "      <td>-0.351655</td>\n",
       "      <td>0</td>\n",
       "      <td>-1.300735</td>\n",
       "      <td>No</td>\n",
       "    </tr>\n",
       "  </tbody>\n",
       "</table>\n",
       "</div>"
      ],
      "text/plain": [
       "    Country             Effect  Item 1  Item 2   A1   B1   A2  B2        OR  \\\n",
       "0  Bulgaria   Certainty Effect       1       2   23  104   72  55  0.168937   \n",
       "1  Bulgaria   Certainty Effect       3       4   15  112   65  62  0.127747   \n",
       "2  Bulgaria   Certainty Effect       7       8  109   18   76  51  4.063596   \n",
       "3  Bulgaria  Reflection Effect       3       7   15  112  109  18  0.022117   \n",
       "4  Bulgaria  Reflection Effect       4       8   65   62   76  51  0.703523   \n",
       "\n",
       "        p-value        OR2  Significance Contrast  Sample Size Significant  \\\n",
       "0  2.425416e-10   5.919368          True   1 vs 2          127         Yes   \n",
       "1  1.080756e-11   7.827957          True   3 vs 4          127         Yes   \n",
       "2  4.697618e-06   4.063596          True   7 vs 8          127         Yes   \n",
       "3  5.761813e-35  45.214815          True   3 vs 7          127         Yes   \n",
       "4  2.066420e-01   1.421418         False   4 vs 8          127          No   \n",
       "\n",
       "      LogOR  Significance2  LogOR_difference Replicates  \n",
       "0 -1.778230              1         -1.343796        Yes  \n",
       "1 -2.057702              1          0.040780        Yes  \n",
       "2  1.402068              1         -1.302852        Yes  \n",
       "3 -3.811425              1          0.038664        Yes  \n",
       "4 -0.351655              0         -1.300735         No  "
      ]
     },
     "execution_count": 40,
     "metadata": {},
     "output_type": "execute_result"
    }
   ],
   "source": [
    "pt_contrasts_df2.head()"
   ]
  },
  {
   "cell_type": "code",
   "execution_count": 41,
   "metadata": {},
   "outputs": [
    {
     "data": {
      "text/html": [
       "<div>\n",
       "<style scoped>\n",
       "    .dataframe tbody tr th:only-of-type {\n",
       "        vertical-align: middle;\n",
       "    }\n",
       "\n",
       "    .dataframe tbody tr th {\n",
       "        vertical-align: top;\n",
       "    }\n",
       "\n",
       "    .dataframe thead th {\n",
       "        text-align: right;\n",
       "    }\n",
       "</style>\n",
       "<table border=\"1\" class=\"dataframe\">\n",
       "  <thead>\n",
       "    <tr style=\"text-align: right;\">\n",
       "      <th></th>\n",
       "      <th>Effect</th>\n",
       "      <th>Item 1</th>\n",
       "      <th>Item 2</th>\n",
       "      <th>A1</th>\n",
       "      <th>B1</th>\n",
       "      <th>A2</th>\n",
       "      <th>B2</th>\n",
       "      <th>OR</th>\n",
       "      <th>p-value</th>\n",
       "      <th>OR2</th>\n",
       "      <th>Significance</th>\n",
       "      <th>LogOR</th>\n",
       "    </tr>\n",
       "  </thead>\n",
       "  <tbody>\n",
       "    <tr>\n",
       "      <th>0</th>\n",
       "      <td>Certainty Effect</td>\n",
       "      <td>1</td>\n",
       "      <td>2</td>\n",
       "      <td>13</td>\n",
       "      <td>59</td>\n",
       "      <td>60</td>\n",
       "      <td>12</td>\n",
       "      <td>0.044068</td>\n",
       "      <td>1.558248e-15</td>\n",
       "      <td>22.692308</td>\n",
       "      <td>True</td>\n",
       "      <td>-3.122026</td>\n",
       "    </tr>\n",
       "    <tr>\n",
       "      <th>1</th>\n",
       "      <td>Certainty Effect</td>\n",
       "      <td>3</td>\n",
       "      <td>4</td>\n",
       "      <td>19</td>\n",
       "      <td>76</td>\n",
       "      <td>62</td>\n",
       "      <td>33</td>\n",
       "      <td>0.133065</td>\n",
       "      <td>3.373660e-10</td>\n",
       "      <td>7.515152</td>\n",
       "      <td>True</td>\n",
       "      <td>-2.016921</td>\n",
       "    </tr>\n",
       "    <tr>\n",
       "      <th>2</th>\n",
       "      <td>Certainty Effect</td>\n",
       "      <td>7</td>\n",
       "      <td>8</td>\n",
       "      <td>87</td>\n",
       "      <td>8</td>\n",
       "      <td>40</td>\n",
       "      <td>55</td>\n",
       "      <td>14.953125</td>\n",
       "      <td>1.598340e-13</td>\n",
       "      <td>14.953125</td>\n",
       "      <td>True</td>\n",
       "      <td>2.704920</td>\n",
       "    </tr>\n",
       "    <tr>\n",
       "      <th>3</th>\n",
       "      <td>Reflection Effect</td>\n",
       "      <td>3</td>\n",
       "      <td>7</td>\n",
       "      <td>19</td>\n",
       "      <td>76</td>\n",
       "      <td>87</td>\n",
       "      <td>8</td>\n",
       "      <td>0.022989</td>\n",
       "      <td>4.395039e-25</td>\n",
       "      <td>43.500000</td>\n",
       "      <td>True</td>\n",
       "      <td>-3.772761</td>\n",
       "    </tr>\n",
       "    <tr>\n",
       "      <th>4</th>\n",
       "      <td>Reflection Effect</td>\n",
       "      <td>4</td>\n",
       "      <td>8</td>\n",
       "      <td>62</td>\n",
       "      <td>33</td>\n",
       "      <td>40</td>\n",
       "      <td>55</td>\n",
       "      <td>2.583333</td>\n",
       "      <td>2.163003e-03</td>\n",
       "      <td>2.583333</td>\n",
       "      <td>True</td>\n",
       "      <td>0.949081</td>\n",
       "    </tr>\n",
       "  </tbody>\n",
       "</table>\n",
       "</div>"
      ],
      "text/plain": [
       "              Effect  Item 1  Item 2  A1  B1  A2  B2         OR       p-value  \\\n",
       "0   Certainty Effect       1       2  13  59  60  12   0.044068  1.558248e-15   \n",
       "1   Certainty Effect       3       4  19  76  62  33   0.133065  3.373660e-10   \n",
       "2   Certainty Effect       7       8  87   8  40  55  14.953125  1.598340e-13   \n",
       "3  Reflection Effect       3       7  19  76  87   8   0.022989  4.395039e-25   \n",
       "4  Reflection Effect       4       8  62  33  40  55   2.583333  2.163003e-03   \n",
       "\n",
       "         OR2  Significance     LogOR  \n",
       "0  22.692308          True -3.122026  \n",
       "1   7.515152          True -2.016921  \n",
       "2  14.953125          True  2.704920  \n",
       "3  43.500000          True -3.772761  \n",
       "4   2.583333          True  0.949081  "
      ]
     },
     "execution_count": 41,
     "metadata": {},
     "output_type": "execute_result"
    }
   ],
   "source": [
    "PT_contrasts_original_df = pd.read_excel(\"../output/original_contrasts.xlsx\")\n",
    "PT_contrasts_original_df.head()"
   ]
  },
  {
   "cell_type": "code",
   "execution_count": 42,
   "metadata": {},
   "outputs": [],
   "source": [
    "lor_df = pd.read_excel(\"../output/Meta analysis log odds.xlsx\")"
   ]
  },
  {
   "cell_type": "code",
   "execution_count": 43,
   "metadata": {},
   "outputs": [
    {
     "data": {
      "text/html": [
       "<div>\n",
       "<style scoped>\n",
       "    .dataframe tbody tr th:only-of-type {\n",
       "        vertical-align: middle;\n",
       "    }\n",
       "\n",
       "    .dataframe tbody tr th {\n",
       "        vertical-align: top;\n",
       "    }\n",
       "\n",
       "    .dataframe thead th {\n",
       "        text-align: right;\n",
       "    }\n",
       "</style>\n",
       "<table border=\"1\" class=\"dataframe\">\n",
       "  <thead>\n",
       "    <tr style=\"text-align: right;\">\n",
       "      <th></th>\n",
       "      <th>lodds</th>\n",
       "      <th>lb</th>\n",
       "      <th>ub</th>\n",
       "      <th>p-value</th>\n",
       "      <th>Contrasts</th>\n",
       "      <th>Succesful Replication</th>\n",
       "      <th>Item 1</th>\n",
       "      <th>Item 2</th>\n",
       "      <th>LogOR_difference</th>\n",
       "      <th>ub_difference</th>\n",
       "      <th>lb_difference</th>\n",
       "      <th>Effect</th>\n",
       "    </tr>\n",
       "  </thead>\n",
       "  <tbody>\n",
       "    <tr>\n",
       "      <th>0</th>\n",
       "      <td>-1.581017</td>\n",
       "      <td>-1.720487</td>\n",
       "      <td>-1.441547</td>\n",
       "      <td>2.305722e-109</td>\n",
       "      <td>1 vs 2</td>\n",
       "      <td>Yes</td>\n",
       "      <td>1</td>\n",
       "      <td>2</td>\n",
       "      <td>-1.541009</td>\n",
       "      <td>-1.680479</td>\n",
       "      <td>-1.401539</td>\n",
       "      <td>Certainty Effect</td>\n",
       "    </tr>\n",
       "    <tr>\n",
       "      <th>1</th>\n",
       "      <td>-1.969901</td>\n",
       "      <td>-2.081812</td>\n",
       "      <td>-1.857990</td>\n",
       "      <td>7.994243e-261</td>\n",
       "      <td>3 vs 4</td>\n",
       "      <td>Yes</td>\n",
       "      <td>3</td>\n",
       "      <td>4</td>\n",
       "      <td>-0.047020</td>\n",
       "      <td>-0.158931</td>\n",
       "      <td>0.064891</td>\n",
       "      <td>Certainty Effect</td>\n",
       "    </tr>\n",
       "    <tr>\n",
       "      <th>2</th>\n",
       "      <td>1.332841</td>\n",
       "      <td>1.235518</td>\n",
       "      <td>1.430164</td>\n",
       "      <td>1.052629e-158</td>\n",
       "      <td>7 vs 8</td>\n",
       "      <td>Yes</td>\n",
       "      <td>7</td>\n",
       "      <td>8</td>\n",
       "      <td>-1.372080</td>\n",
       "      <td>-1.274757</td>\n",
       "      <td>-1.469403</td>\n",
       "      <td>Certainty Effect</td>\n",
       "    </tr>\n",
       "    <tr>\n",
       "      <th>3</th>\n",
       "      <td>-3.332428</td>\n",
       "      <td>-3.565245</td>\n",
       "      <td>-3.099612</td>\n",
       "      <td>3.568163e-173</td>\n",
       "      <td>3 vs 7</td>\n",
       "      <td>Yes</td>\n",
       "      <td>3</td>\n",
       "      <td>7</td>\n",
       "      <td>-0.440333</td>\n",
       "      <td>-0.673149</td>\n",
       "      <td>-0.207516</td>\n",
       "      <td>Reflection Effect</td>\n",
       "    </tr>\n",
       "    <tr>\n",
       "      <th>4</th>\n",
       "      <td>0.026007</td>\n",
       "      <td>-0.143975</td>\n",
       "      <td>0.195989</td>\n",
       "      <td>7.642756e-01</td>\n",
       "      <td>4 vs 8</td>\n",
       "      <td>No</td>\n",
       "      <td>4</td>\n",
       "      <td>8</td>\n",
       "      <td>-0.923074</td>\n",
       "      <td>-0.753092</td>\n",
       "      <td>-1.093056</td>\n",
       "      <td>Reflection Effect</td>\n",
       "    </tr>\n",
       "  </tbody>\n",
       "</table>\n",
       "</div>"
      ],
      "text/plain": [
       "      lodds        lb        ub        p-value Contrasts  \\\n",
       "0 -1.581017 -1.720487 -1.441547  2.305722e-109    1 vs 2   \n",
       "1 -1.969901 -2.081812 -1.857990  7.994243e-261    3 vs 4   \n",
       "2  1.332841  1.235518  1.430164  1.052629e-158    7 vs 8   \n",
       "3 -3.332428 -3.565245 -3.099612  3.568163e-173    3 vs 7   \n",
       "4  0.026007 -0.143975  0.195989   7.642756e-01    4 vs 8   \n",
       "\n",
       "  Succesful Replication  Item 1  Item 2  LogOR_difference  ub_difference  \\\n",
       "0                   Yes       1       2         -1.541009      -1.680479   \n",
       "1                   Yes       3       4         -0.047020      -0.158931   \n",
       "2                   Yes       7       8         -1.372080      -1.274757   \n",
       "3                   Yes       3       7         -0.440333      -0.673149   \n",
       "4                    No       4       8         -0.923074      -0.753092   \n",
       "\n",
       "   lb_difference             Effect  \n",
       "0      -1.401539   Certainty Effect  \n",
       "1       0.064891   Certainty Effect  \n",
       "2      -1.469403   Certainty Effect  \n",
       "3      -0.207516  Reflection Effect  \n",
       "4      -1.093056  Reflection Effect  "
      ]
     },
     "execution_count": 43,
     "metadata": {},
     "output_type": "execute_result"
    }
   ],
   "source": [
    "lor_df.head()"
   ]
  },
  {
   "cell_type": "markdown",
   "metadata": {},
   "source": [
    "### Changing effect labels to match reviewer feedback"
   ]
  },
  {
   "cell_type": "code",
   "execution_count": 44,
   "metadata": {},
   "outputs": [],
   "source": [
    "pt_contrasts_df2[\"Effect\"] = pt_contrasts_df2[\"Effect\"].replace({\"Range Adaptation\":\"Magnitude perception\", \"Certainty Effect\":\"Certainty effect\",\n",
    "                                   \"Reflection Effect\":\"Reflection effect\", \"Isolation Effect\":\"Isolation effect\",\n",
    "                                   \"Framing Effect\":\"Framing effect\"})"
   ]
  },
  {
   "cell_type": "markdown",
   "metadata": {},
   "source": [
    "### Preparing colours"
   ]
  },
  {
   "cell_type": "code",
   "execution_count": 47,
   "metadata": {},
   "outputs": [],
   "source": [
    "effect_type = sns.color_palette(['#E69F00', '#56B4E9', \"#009E73\", \"#F0E442\", \"#0072B2\", \"#CC79A7\"])"
   ]
  },
  {
   "cell_type": "code",
   "execution_count": 48,
   "metadata": {},
   "outputs": [
    {
     "data": {
      "image/png": "[encoded data removed]",
      "text/plain": [
       "<Figure size 432x72 with 1 Axes>"
      ]
     },
     "metadata": {},
     "output_type": "display_data"
    }
   ],
   "source": [
    "sns.palplot(effect_type)"
   ]
  },
  {
   "cell_type": "markdown",
   "metadata": {},
   "source": [
    "### Drawing the figure"
   ]
  },
  {
   "cell_type": "code",
   "execution_count": 49,
   "metadata": {},
   "outputs": [
    {
     "name": "stdout",
     "output_type": "stream",
     "text": [
      "Wall time: 482 ms\n"
     ]
    },
    {
     "data": {
      "image/png": "[encoded data removed]",
      "text/plain": [
       "<Figure size 576x216 with 1 Axes>"
      ]
     },
     "metadata": {},
     "output_type": "display_data"
    }
   ],
   "source": [
    "%%time\n",
    "sns.set(font_scale=1, style=\"ticks\")\n",
    "fig, ax = plt.subplots(figsize=(8, 3))\n",
    "sns.scatterplot(data=pt_contrasts_df2, x=\"Contrast\", y=\"LogOR\", hue=\"Effect\", ax = ax,\n",
    "               alpha = 0.2, style=\"Significant\", markers={\"Yes\": \"o\", \"No\": \"X\"},\n",
    "               style_order=[\"Yes\", \"No\"], size=\"Sample Size\", linewidth=0,\n",
    "               palette=effect_type,  zorder=1000)\n",
    "\n",
    "g = sns.pointplot(data=PT_contrasts_original_df, x=np.arange(13), y=\"LogOR\", join=False, markers=\"_\",\n",
    "              scale=2.5, ax = ax, color=\"black\", label=None, zorder=1)\n",
    "e = sns.pointplot(data=lor_df, x=\"Contrasts\", y=\"lodds\", join=False, markers=\"_\",\n",
    "              scale=2, ax = ax, palette=effect_type, hue=\"Effect\",\n",
    "                  label=None,\n",
    "                 order=lor_df[\"Contrasts\"].values, zorder=3000)\n",
    "plt.errorbar(\n",
    "    lor_df[\"Contrasts\"],\n",
    "    lor_df[\"lodds\"],\n",
    "    yerr=[lor_df[\"lodds\"] - lor_df[\"lb\"], lor_df[\"ub\"] - lor_df[\"lodds\"]],\n",
    "    linestyle='',\n",
    "    linewidth=3, color=['#E69F00', '#E69F00','#E69F00', '#56B4E9', '#56B4E9', '#56B4E9', '#56B4E9',\n",
    "                       '#56B4E9', \"#009E73\", \"#F0E442\", \"#F0E442\", \"#0072B2\", \"#CC79A7\"],\n",
    "    zorder=100000)\n",
    "ax.axhline(ls='--', c=\"black\", y=0, zorder=-2000)\n",
    "lgd = plt.legend(handles=ax.get_legend_handles_labels()[0][:-6], bbox_to_anchor=(1.05, 1), loc=2, borderaxespad=0.)\n",
    "ax.set(xticks=np.arange(13), ylabel=\"Log(Odds Ratio)\", xlabel='',\n",
    "       xticklabels=[str(a) + \" vs \" + str(b) for a, b in zip(pt_contrasts_df2[\"Item 1\"], pt_contrasts_df2[\"Item 2\"])])\n",
    "plt.xticks(rotation=90)\n",
    "sns.despine()\n",
    "plt.savefig(\"../figures/Figure 3a.svg\", bbox_extra_artists=(lgd,),\n",
    "           bbox_inches=\"tight\")"
   ]
  },
  {
   "cell_type": "markdown",
   "metadata": {},
   "source": [
    "# Contrast Differences In effectsize from original"
   ]
  },
  {
   "cell_type": "markdown",
   "metadata": {},
   "source": [
    "### Drawing the figure"
   ]
  },
  {
   "cell_type": "code",
   "execution_count": 50,
   "metadata": {},
   "outputs": [
    {
     "name": "stdout",
     "output_type": "stream",
     "text": [
      "Wall time: 419 ms\n"
     ]
    },
    {
     "data": {
      "image/png": "[encoded data removed]",
      "text/plain": [
       "<Figure size 576x216 with 1 Axes>"
      ]
     },
     "metadata": {},
     "output_type": "display_data"
    }
   ],
   "source": [
    "%%time\n",
    "sns.set(font_scale=1, style=\"ticks\")\n",
    "fig, ax = plt.subplots(figsize=(8, 3))\n",
    "sns.scatterplot(data=pt_contrasts_df2, x=\"Contrast\", y=\"LogOR_difference\", hue=\"Effect\", ax = ax,\n",
    "               alpha = 0.2, style=\"Replicates\", markers={\"Yes\": \"o\", \"No\": \"X\"},\n",
    "               style_order=[\"Yes\", \"No\"], size=\"Sample Size\", linewidth=0,\n",
    "               palette=effect_type)\n",
    "g = sns.pointplot(data=lor_df, x=np.arange(13), y=\"LogOR_difference\", join=False, markers=\"_\",\n",
    "              scale=2, ax = ax, palette=effect_type, hue=\"Effect\", label=None,  zorder=2000)\n",
    "ax.axhline(ls='--', c=\"black\", y=0)\n",
    "plt.errorbar(\n",
    "    lor_df[\"Contrasts\"],\n",
    "    lor_df[\"LogOR_difference\"],\n",
    "    yerr=[lor_df[\"LogOR_difference\"] - lor_df[\"lb_difference\"], lor_df[\"ub_difference\"] - lor_df[\"LogOR_difference\"]],\n",
    "    linestyle='',\n",
    "    linewidth=3, color=['#E69F00', '#E69F00','#E69F00', '#56B4E9', '#56B4E9', '#56B4E9', '#56B4E9',\n",
    "                       '#56B4E9', \"#009E73\", \"#F0E442\", \"#F0E442\", \"#0072B2\", \"#CC79A7\"])\n",
    "ax.axhline(ls='--', c=\"black\", y=0, zorder=-2000)\n",
    "#lgd = plt.legend(handles=ax.get_legend_handles_labels()[0][:-6], bbox_to_anchor=(1.05, 1), loc=2, borderaxespad=0.)\n",
    "ax.set(xticks=np.arange(13), ylabel=\"Log(Odds Ratio) Difference\", xlabel='',\n",
    "       xticklabels=[str(a) + \" vs \" + str(b) for a, b in zip(pt_contrasts_df2[\"Item 1\"], pt_contrasts_df2[\"Item 2\"])])\n",
    "plt.xticks(rotation=90)\n",
    "ax.get_legend().remove()\n",
    "sns.despine()\n",
    "plt.savefig(\"../figures/Figure 3b.svg\",\n",
    "           bbox_inches=\"tight\")"
   ]
  },
  {
   "cell_type": "markdown",
   "metadata": {},
   "source": [
    "# Replication rate by country for the contrast effects"
   ]
  },
  {
   "cell_type": "markdown",
   "metadata": {},
   "source": [
    "### Preparing the dataframe"
   ]
  },
  {
   "cell_type": "code",
   "execution_count": 51,
   "metadata": {},
   "outputs": [],
   "source": [
    "continents = {\"Europe\":['Bulgaria', 'Denmark', 'Belgium', 'Ireland', 'UK','Austria', 'Germany',\n",
    "       'Hungary', 'Italy', 'Norway', 'Serbia', 'Slovenia', 'Spain', 'Sweden'],\n",
    "             \"Asia\":['Hong Kong', 'Mainland China'],\n",
    "             \"North America\": [\"USA\"],\n",
    "            \"Oceania\": [\"Australia\"],\n",
    "             \"South America\":[\"Chile\"]}"
   ]
  },
  {
   "cell_type": "code",
   "execution_count": 52,
   "metadata": {},
   "outputs": [],
   "source": [
    "replication_rate_by_country_contrasts = pd.DataFrame(pt_contrasts_df2.groupby(\"Country\")[\"Significance2\"].mean().sort_values(ascending=False)).reset_index()\n",
    "for continent in continents.keys():\n",
    "    replication_rate_by_country_contrasts.loc[replication_rate_by_country_contrasts[\"Country\"].isin(continents[continent]), \"Continent\"] = continent\n",
    "\n",
    "cont_col_dict = dict(zip(replication_rate_by_country[\"Continent\"].unique()[1:], sns.color_palette(\"hls\", 7)[:5]))\n",
    "replication_rate_by_country_contrasts[\"Colour\"] = replication_rate_by_country_contrasts[\"Continent\"].map(cont_col_dict)"
   ]
  },
  {
   "cell_type": "markdown",
   "metadata": {},
   "source": [
    "### Adding the global results"
   ]
  },
  {
   "cell_type": "code",
   "execution_count": 53,
   "metadata": {},
   "outputs": [],
   "source": [
    "poled_data_row = pd.Series([\"Pooled\", 12/13, \"Pooled\", sns.color_palette(\"hls\", 7)[6]], index=replication_rate_by_country_contrasts.columns)\n",
    "poled_data_row.name = 3"
   ]
  },
  {
   "cell_type": "code",
   "execution_count": 54,
   "metadata": {},
   "outputs": [],
   "source": [
    "# Function to insert row in the dataframe \n",
    "def Insert_row_(row_number, df, row_value): \n",
    "    # Slice the upper half of the dataframe \n",
    "    df1 = df.loc[0:row_number] \n",
    "   \n",
    "    # Store the result of lower half of the dataframe \n",
    "    df2 = df.loc[row_number:] \n",
    "   \n",
    "    # Inser the row in the upper half dataframe \n",
    "    df1.loc[row_number, :]=row_value \n",
    "   \n",
    "    # Concat the two dataframes \n",
    "    df_result = pd.concat([df1, df2]) \n",
    "   \n",
    "    # Reassign the index labels \n",
    "    df_result.index = [*range(df_result.shape[0])] \n",
    "   \n",
    "    # Return the updated dataframe \n",
    "    return df_result "
   ]
  },
  {
   "cell_type": "code",
   "execution_count": 55,
   "metadata": {},
   "outputs": [
    {
     "name": "stderr",
     "output_type": "stream",
     "text": [
      "C:\\ProgramData\\Anaconda3\\lib\\site-packages\\pandas\\core\\indexing.py:543: SettingWithCopyWarning: \n",
      "A value is trying to be set on a copy of a slice from a DataFrame.\n",
      "Try using .loc[row_indexer,col_indexer] = value instead\n",
      "\n",
      "See the caveats in the documentation: http://pandas.pydata.org/pandas-docs/stable/indexing.html#indexing-view-versus-copy\n",
      "  self.obj[item] = s\n"
     ]
    }
   ],
   "source": [
    "replication_rate_by_country_contrasts = Insert_row_(3, replication_rate_by_country_contrasts, poled_data_row.values)"
   ]
  },
  {
   "cell_type": "markdown",
   "metadata": {},
   "source": [
    "### Plotting the figure"
   ]
  },
  {
   "cell_type": "code",
   "execution_count": 56,
   "metadata": {},
   "outputs": [
    {
     "data": {
      "image/png": "[encoded data removed]",
      "text/plain": [
       "<Figure size 360x72 with 1 Axes>"
      ]
     },
     "metadata": {},
     "output_type": "display_data"
    }
   ],
   "source": [
    "sns.palplot(sns.color_palette(\"hls\", 7)[:5])"
   ]
  },
  {
   "cell_type": "code",
   "execution_count": 57,
   "metadata": {},
   "outputs": [
    {
     "data": {
      "image/png": "[encoded data removed]",
      "text/plain": [
       "<Figure size 576x360 with 1 Axes>"
      ]
     },
     "metadata": {},
     "output_type": "display_data"
    }
   ],
   "source": [
    "sns.set(font_scale=1, style=\"ticks\")\n",
    "fig, ax= plt.subplots(figsize=(8, 5))\n",
    "sns.barplot(y=\"Country\", x=\"Significance2\", data=replication_rate_by_country_contrasts, ax=ax, palette=replication_rate_by_country_contrasts[\"Colour\"])\n",
    "ax.set(xlim=(0, 1), xlabel=\"Replication Rate\",\n",
    "      xticklabels=[str(x) + \"%\" for x in np.arange(0, 120, 20)])\n",
    "sns.despine()\n",
    "\n",
    "pooled = mpatches.Patch(color=sns.color_palette(\"hls\", 7)[6], label='Pooled')\n",
    "asia = mpatches.Patch(color=cont_col_dict[\"Asia\"], label='Asia')\n",
    "europe = mpatches.Patch(color=cont_col_dict[\"Europe\"], label='Europe')\n",
    "north_america = mpatches.Patch(color=cont_col_dict[\"North America\"], label='North America')\n",
    "oceania = mpatches.Patch(color=cont_col_dict[\"Oceania\"], label='Oceania')\n",
    "south_america = mpatches.Patch(color=cont_col_dict[\"South America\"], label='South America')\n",
    "\n",
    "for i in ax.patches:\n",
    "    # get_width pulls left or right; get_y pushes up or down\n",
    "    ax.text(i.get_width()-.01, i.get_y()+.1, \\\n",
    "            str(int(np.round(i.get_width()*100)))+'%', fontsize=10,\n",
    "    color='white', verticalalignment='top', horizontalalignment=\"right\",\n",
    "           weight=\"heavy\")\n",
    "lgd = plt.legend(handles=[pooled, asia, europe, north_america, oceania, south_america], bbox_to_anchor=(1.05, 1), loc=2, borderaxespad=0.)\n",
    "plt.savefig(\"../figures/Figure 4.svg\", bbox_inches=\"tight\", bbox_extra_artists=(lgd,))"
   ]
  },
  {
   "cell_type": "markdown",
   "metadata": {},
   "source": [
    "# Prospect Theory Changes of mind"
   ]
  },
  {
   "cell_type": "markdown",
   "metadata": {},
   "source": [
    "### Loading the data"
   ]
  },
  {
   "cell_type": "code",
   "execution_count": 58,
   "metadata": {},
   "outputs": [],
   "source": [
    "contrast_table = pd.read_excel(\"../output/contrast_changes_of_mind.xlsx\")"
   ]
  },
  {
   "cell_type": "code",
   "execution_count": 59,
   "metadata": {},
   "outputs": [
    {
     "data": {
      "text/html": [
       "<div>\n",
       "<style scoped>\n",
       "    .dataframe tbody tr th:only-of-type {\n",
       "        vertical-align: middle;\n",
       "    }\n",
       "\n",
       "    .dataframe tbody tr th {\n",
       "        vertical-align: top;\n",
       "    }\n",
       "\n",
       "    .dataframe thead th {\n",
       "        text-align: right;\n",
       "    }\n",
       "</style>\n",
       "<table border=\"1\" class=\"dataframe\">\n",
       "  <thead>\n",
       "    <tr style=\"text-align: right;\">\n",
       "      <th></th>\n",
       "      <th>Effect</th>\n",
       "      <th>EUT + PT</th>\n",
       "      <th>Neither</th>\n",
       "      <th>PT</th>\n",
       "    </tr>\n",
       "  </thead>\n",
       "  <tbody>\n",
       "    <tr>\n",
       "      <th>0</th>\n",
       "      <td>Contrast_14_15</td>\n",
       "      <td>43.699871</td>\n",
       "      <td>7.089263</td>\n",
       "      <td>49.210867</td>\n",
       "    </tr>\n",
       "    <tr>\n",
       "      <th>1</th>\n",
       "      <td>Contrast_12_13</td>\n",
       "      <td>47.657394</td>\n",
       "      <td>8.272328</td>\n",
       "      <td>44.070278</td>\n",
       "    </tr>\n",
       "    <tr>\n",
       "      <th>2</th>\n",
       "      <td>Contrast_9_10</td>\n",
       "      <td>47.730600</td>\n",
       "      <td>7.808687</td>\n",
       "      <td>44.460713</td>\n",
       "    </tr>\n",
       "    <tr>\n",
       "      <th>3</th>\n",
       "      <td>Contrast_5_6</td>\n",
       "      <td>39.580283</td>\n",
       "      <td>2.879453</td>\n",
       "      <td>57.540264</td>\n",
       "    </tr>\n",
       "    <tr>\n",
       "      <th>4</th>\n",
       "      <td>Contrast_4_11</td>\n",
       "      <td>53.757931</td>\n",
       "      <td>5.563690</td>\n",
       "      <td>40.678380</td>\n",
       "    </tr>\n",
       "    <tr>\n",
       "      <th>5</th>\n",
       "      <td>Contrast_16_17</td>\n",
       "      <td>39.507077</td>\n",
       "      <td>22.938019</td>\n",
       "      <td>37.554905</td>\n",
       "    </tr>\n",
       "    <tr>\n",
       "      <th>6</th>\n",
       "      <td>Contrast_6_10</td>\n",
       "      <td>47.120547</td>\n",
       "      <td>15.080527</td>\n",
       "      <td>37.798926</td>\n",
       "    </tr>\n",
       "    <tr>\n",
       "      <th>7</th>\n",
       "      <td>Contrast_5_9</td>\n",
       "      <td>26.671547</td>\n",
       "      <td>2.367008</td>\n",
       "      <td>70.961445</td>\n",
       "    </tr>\n",
       "    <tr>\n",
       "      <th>8</th>\n",
       "      <td>Contrast_4_8</td>\n",
       "      <td>46.364080</td>\n",
       "      <td>26.403123</td>\n",
       "      <td>27.232796</td>\n",
       "    </tr>\n",
       "    <tr>\n",
       "      <th>9</th>\n",
       "      <td>Contrast_3_7</td>\n",
       "      <td>24.792582</td>\n",
       "      <td>4.343582</td>\n",
       "      <td>70.863836</td>\n",
       "    </tr>\n",
       "    <tr>\n",
       "      <th>10</th>\n",
       "      <td>Contrast_7_8</td>\n",
       "      <td>54.197169</td>\n",
       "      <td>8.394339</td>\n",
       "      <td>37.408492</td>\n",
       "    </tr>\n",
       "    <tr>\n",
       "      <th>11</th>\n",
       "      <td>Contrast_3_4</td>\n",
       "      <td>53.709126</td>\n",
       "      <td>3.977550</td>\n",
       "      <td>42.313324</td>\n",
       "    </tr>\n",
       "    <tr>\n",
       "      <th>12</th>\n",
       "      <td>Contrast_1_2</td>\n",
       "      <td>48.121035</td>\n",
       "      <td>7.784285</td>\n",
       "      <td>44.094680</td>\n",
       "    </tr>\n",
       "  </tbody>\n",
       "</table>\n",
       "</div>"
      ],
      "text/plain": [
       "            Effect   EUT + PT    Neither         PT\n",
       "0   Contrast_14_15  43.699871   7.089263  49.210867\n",
       "1   Contrast_12_13  47.657394   8.272328  44.070278\n",
       "2    Contrast_9_10  47.730600   7.808687  44.460713\n",
       "3     Contrast_5_6  39.580283   2.879453  57.540264\n",
       "4    Contrast_4_11  53.757931   5.563690  40.678380\n",
       "5   Contrast_16_17  39.507077  22.938019  37.554905\n",
       "6    Contrast_6_10  47.120547  15.080527  37.798926\n",
       "7     Contrast_5_9  26.671547   2.367008  70.961445\n",
       "8     Contrast_4_8  46.364080  26.403123  27.232796\n",
       "9     Contrast_3_7  24.792582   4.343582  70.863836\n",
       "10    Contrast_7_8  54.197169   8.394339  37.408492\n",
       "11    Contrast_3_4  53.709126   3.977550  42.313324\n",
       "12    Contrast_1_2  48.121035   7.784285  44.094680"
      ]
     },
     "execution_count": 59,
     "metadata": {},
     "output_type": "execute_result"
    }
   ],
   "source": [
    "contrast_table"
   ]
  },
  {
   "cell_type": "markdown",
   "metadata": {},
   "source": [
    "### Drawing the figure"
   ]
  },
  {
   "cell_type": "code",
   "execution_count": 60,
   "metadata": {},
   "outputs": [
    {
     "data": {
      "image/png": "[encoded data removed]",
      "text/plain": [
       "<Figure size 864x576 with 1 Axes>"
      ]
     },
     "metadata": {},
     "output_type": "display_data"
    }
   ],
   "source": [
    "sns.set(font_scale=1.4, style=\"ticks\")\n",
    "fig, ax = plt.subplots(figsize=(12, 8))\n",
    "contrast_table.loc[:, [\"EUT + PT\", \"PT\", \"Neither\"]].plot(\n",
    "    kind=\"barh\", stacked=True, ax=ax, linewidth=0, color=['#cb4335', '#2e86c1', \"#e67e22\"])\n",
    "lgd = plt.legend(bbox_to_anchor=(1.0, 0.98), loc=2, borderaxespad=0.)\n",
    "for p in ax.patches:\n",
    "    if p.get_width() >= 3:\n",
    "        ax.annotate(\"{0:.0f}\".format(p.get_width()) + \"%\",\n",
    "                (p.get_x() + p.get_width(), p.get_y() + p.get_height()/2), xytext=(0, -5),\n",
    "                    textcoords='offset points', weight='normal', size=14, ha='right',color = 'white')\n",
    "ax.set(ylabel='', xticks=[],\n",
    "      yticklabels=[str(a) + \" vs \" + str(b) for a, b in zip(pt_contrasts_df2[\"Item 1\"], pt_contrasts_df2[\"Item 2\"])][::-1])\n",
    "sns.despine(top=True, bottom=True, right=True)\n",
    "plt.savefig(\"../figures/Figure 5.svg\", bbox_extra_artists=(lgd,),\n",
    "           bbox_inches=\"tight\")"
   ]
  }
 ],
 "metadata": {
  "kernelspec": {
   "display_name": "Python 3",
   "language": "python",
   "name": "python3"
  },
  "language_info": {
   "codemirror_mode": {
    "name": "ipython",
    "version": 3
   },
   "file_extension": ".py",
   "mimetype": "text/x-python",
   "name": "python",
   "nbconvert_exporter": "python",
   "pygments_lexer": "ipython3",
   "version": "3.7.3"
  }
 },
 "nbformat": 4,
 "nbformat_minor": 4
}
