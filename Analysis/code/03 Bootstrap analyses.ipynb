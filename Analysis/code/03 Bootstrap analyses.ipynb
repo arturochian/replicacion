{
 "cells": [
  {
   "cell_type": "markdown",
   "metadata": {},
   "source": [
    "# Loading packages"
   ]
  },
  {
   "cell_type": "code",
   "execution_count": 1,
   "metadata": {},
   "outputs": [],
   "source": [
    "import numpy as np\n",
    "import pandas as pd\n",
    "import glob"
   ]
  },
  {
   "cell_type": "code",
   "execution_count": 2,
   "metadata": {},
   "outputs": [],
   "source": [
    "import matplotlib.pyplot as plt\n",
    "import seaborn as sns\n",
    "%matplotlib inline"
   ]
  },
  {
   "cell_type": "code",
   "execution_count": 3,
   "metadata": {},
   "outputs": [],
   "source": [
    "from pandas.api.types import CategoricalDtype"
   ]
  },
  {
   "cell_type": "markdown",
   "metadata": {},
   "source": [
    "# Loading data"
   ]
  },
  {
   "cell_type": "code",
   "execution_count": 4,
   "metadata": {},
   "outputs": [],
   "source": [
    "data= pd.read_pickle(\"../data/modified_exclusions/pt_replication_modified_exclusions_data.pkl\")"
   ]
  },
  {
   "cell_type": "code",
   "execution_count": 5,
   "metadata": {},
   "outputs": [
    {
     "data": {
      "text/html": [
       "<div>\n",
       "<style scoped>\n",
       "    .dataframe tbody tr th:only-of-type {\n",
       "        vertical-align: middle;\n",
       "    }\n",
       "\n",
       "    .dataframe tbody tr th {\n",
       "        vertical-align: top;\n",
       "    }\n",
       "\n",
       "    .dataframe thead th {\n",
       "        text-align: right;\n",
       "    }\n",
       "</style>\n",
       "<table border=\"1\" class=\"dataframe\">\n",
       "  <thead>\n",
       "    <tr style=\"text-align: right;\">\n",
       "      <th></th>\n",
       "      <th>1</th>\n",
       "      <th>2</th>\n",
       "      <th>3</th>\n",
       "      <th>4</th>\n",
       "      <th>5</th>\n",
       "      <th>6</th>\n",
       "      <th>7</th>\n",
       "      <th>8</th>\n",
       "      <th>9</th>\n",
       "      <th>10</th>\n",
       "      <th>...</th>\n",
       "      <th>Loss_Intuition</th>\n",
       "      <th>Country</th>\n",
       "      <th>Duration_in_seconds</th>\n",
       "      <th>Language</th>\n",
       "      <th>Sample</th>\n",
       "      <th>Duration_Minutes</th>\n",
       "      <th>YoB</th>\n",
       "      <th>Awareness_of_Loss_Aversion</th>\n",
       "      <th>Financial_Stress</th>\n",
       "      <th>Presentation_Order</th>\n",
       "    </tr>\n",
       "  </thead>\n",
       "  <tbody>\n",
       "    <tr>\n",
       "      <th>0</th>\n",
       "      <td>1.0</td>\n",
       "      <td>0.0</td>\n",
       "      <td>0.0</td>\n",
       "      <td>1.0</td>\n",
       "      <td>1.0</td>\n",
       "      <td>1.0</td>\n",
       "      <td>1.0</td>\n",
       "      <td>0.0</td>\n",
       "      <td>1.0</td>\n",
       "      <td>1.0</td>\n",
       "      <td>...</td>\n",
       "      <td>1.0</td>\n",
       "      <td>Bulgaria</td>\n",
       "      <td>356</td>\n",
       "      <td>Bulgarian</td>\n",
       "      <td>Direct</td>\n",
       "      <td>5.933333</td>\n",
       "      <td>1992</td>\n",
       "      <td>3</td>\n",
       "      <td>NaN</td>\n",
       "      <td>4|6|2|3|17|18|14|8|7|15|1|12|11|5|13|16|9|10</td>\n",
       "    </tr>\n",
       "    <tr>\n",
       "      <th>1</th>\n",
       "      <td>0.0</td>\n",
       "      <td>0.0</td>\n",
       "      <td>0.0</td>\n",
       "      <td>0.0</td>\n",
       "      <td>0.0</td>\n",
       "      <td>0.0</td>\n",
       "      <td>0.0</td>\n",
       "      <td>0.0</td>\n",
       "      <td>1.0</td>\n",
       "      <td>0.0</td>\n",
       "      <td>...</td>\n",
       "      <td>NaN</td>\n",
       "      <td>Bulgaria</td>\n",
       "      <td>931</td>\n",
       "      <td>Bulgarian</td>\n",
       "      <td>Direct</td>\n",
       "      <td>15.516667</td>\n",
       "      <td>1979</td>\n",
       "      <td>1</td>\n",
       "      <td>NaN</td>\n",
       "      <td>7|17|16|11|15|18|4|9|1|13|2|10|6|14|5|12|8|3</td>\n",
       "    </tr>\n",
       "    <tr>\n",
       "      <th>2</th>\n",
       "      <td>0.0</td>\n",
       "      <td>0.0</td>\n",
       "      <td>0.0</td>\n",
       "      <td>0.0</td>\n",
       "      <td>0.0</td>\n",
       "      <td>0.0</td>\n",
       "      <td>1.0</td>\n",
       "      <td>0.0</td>\n",
       "      <td>0.0</td>\n",
       "      <td>0.0</td>\n",
       "      <td>...</td>\n",
       "      <td>1.0</td>\n",
       "      <td>Bulgaria</td>\n",
       "      <td>462</td>\n",
       "      <td>Bulgarian</td>\n",
       "      <td>Direct</td>\n",
       "      <td>7.700000</td>\n",
       "      <td>1975</td>\n",
       "      <td>3</td>\n",
       "      <td>NaN</td>\n",
       "      <td>11|8|4|7|12|18|3|14|6|16|17|1|2|13|5|15|9|10</td>\n",
       "    </tr>\n",
       "    <tr>\n",
       "      <th>3</th>\n",
       "      <td>0.0</td>\n",
       "      <td>0.0</td>\n",
       "      <td>0.0</td>\n",
       "      <td>0.0</td>\n",
       "      <td>0.0</td>\n",
       "      <td>0.0</td>\n",
       "      <td>1.0</td>\n",
       "      <td>0.0</td>\n",
       "      <td>1.0</td>\n",
       "      <td>0.0</td>\n",
       "      <td>...</td>\n",
       "      <td>NaN</td>\n",
       "      <td>Bulgaria</td>\n",
       "      <td>412</td>\n",
       "      <td>Bulgarian</td>\n",
       "      <td>Direct</td>\n",
       "      <td>6.866667</td>\n",
       "      <td>1977</td>\n",
       "      <td>1</td>\n",
       "      <td>NaN</td>\n",
       "      <td>16|7|6|9|12|18|10|8|5|15|2|3|4|14|11|1|17|13</td>\n",
       "    </tr>\n",
       "    <tr>\n",
       "      <th>4</th>\n",
       "      <td>0.0</td>\n",
       "      <td>0.0</td>\n",
       "      <td>0.0</td>\n",
       "      <td>0.0</td>\n",
       "      <td>0.0</td>\n",
       "      <td>1.0</td>\n",
       "      <td>1.0</td>\n",
       "      <td>1.0</td>\n",
       "      <td>1.0</td>\n",
       "      <td>1.0</td>\n",
       "      <td>...</td>\n",
       "      <td>NaN</td>\n",
       "      <td>Bulgaria</td>\n",
       "      <td>490</td>\n",
       "      <td>Bulgarian</td>\n",
       "      <td>Direct</td>\n",
       "      <td>8.166667</td>\n",
       "      <td>1970</td>\n",
       "      <td>1</td>\n",
       "      <td>NaN</td>\n",
       "      <td>13|4|3|7|9|18|16|8|14|1|6|12|17|10|5|2|11|15</td>\n",
       "    </tr>\n",
       "  </tbody>\n",
       "</table>\n",
       "<p>5 rows × 39 columns</p>\n",
       "</div>"
      ],
      "text/plain": [
       "     1    2    3    4    5    6    7    8    9   10  ...  Loss_Intuition  \\\n",
       "0  1.0  0.0  0.0  1.0  1.0  1.0  1.0  0.0  1.0  1.0  ...             1.0   \n",
       "1  0.0  0.0  0.0  0.0  0.0  0.0  0.0  0.0  1.0  0.0  ...             NaN   \n",
       "2  0.0  0.0  0.0  0.0  0.0  0.0  1.0  0.0  0.0  0.0  ...             1.0   \n",
       "3  0.0  0.0  0.0  0.0  0.0  0.0  1.0  0.0  1.0  0.0  ...             NaN   \n",
       "4  0.0  0.0  0.0  0.0  0.0  1.0  1.0  1.0  1.0  1.0  ...             NaN   \n",
       "\n",
       "    Country  Duration_in_seconds   Language  Sample  Duration_Minutes   YoB  \\\n",
       "0  Bulgaria                  356  Bulgarian  Direct          5.933333  1992   \n",
       "1  Bulgaria                  931  Bulgarian  Direct         15.516667  1979   \n",
       "2  Bulgaria                  462  Bulgarian  Direct          7.700000  1975   \n",
       "3  Bulgaria                  412  Bulgarian  Direct          6.866667  1977   \n",
       "4  Bulgaria                  490  Bulgarian  Direct          8.166667  1970   \n",
       "\n",
       "  Awareness_of_Loss_Aversion  Financial_Stress  \\\n",
       "0                          3               NaN   \n",
       "1                          1               NaN   \n",
       "2                          3               NaN   \n",
       "3                          1               NaN   \n",
       "4                          1               NaN   \n",
       "\n",
       "                             Presentation_Order  \n",
       "0  4|6|2|3|17|18|14|8|7|15|1|12|11|5|13|16|9|10  \n",
       "1  7|17|16|11|15|18|4|9|1|13|2|10|6|14|5|12|8|3  \n",
       "2  11|8|4|7|12|18|3|14|6|16|17|1|2|13|5|15|9|10  \n",
       "3  16|7|6|9|12|18|10|8|5|15|2|3|4|14|11|1|17|13  \n",
       "4  13|4|3|7|9|18|16|8|14|1|6|12|17|10|5|2|11|15  \n",
       "\n",
       "[5 rows x 39 columns]"
      ]
     },
     "execution_count": 5,
     "metadata": {},
     "output_type": "execute_result"
    }
   ],
   "source": [
    "data.head()"
   ]
  },
  {
   "cell_type": "markdown",
   "metadata": {},
   "source": [
    "### Simulations"
   ]
  },
  {
   "cell_type": "code",
   "execution_count": 7,
   "metadata": {},
   "outputs": [],
   "source": [
    "from scipy.stats import chisquare"
   ]
  },
  {
   "cell_type": "code",
   "execution_count": 9,
   "metadata": {},
   "outputs": [
    {
     "name": "stdout",
     "output_type": "stream",
     "text": [
      "Wall time: 13min 13s\n"
     ]
    }
   ],
   "source": [
    "%%time\n",
    "np.random.seed(357) ### This is the seed specified in the prereg\n",
    "\n",
    "for col in [str(x) for x in np.arange(1, 18)]:\n",
    "    org_sample = data.loc[:, col]\n",
    "    org_n = org_sample.shape[0]\n",
    "    sims = pd.DataFrame(np.random.choice(org_sample, replace=True, size=(org_n, 100000)))\n",
    "    sim_means = sims.mean(0)\n",
    "    sim_a = sims.sum(0)\n",
    "    sim_b = org_n - sims.sum(0)\n",
    "    sim_contingencies = pd.DataFrame([sim_a, sim_b]).transpose()\n",
    "    sim_p_values = sim_contingencies.apply(lambda x: chisquare(x), axis=1).apply(pd.Series)[1]\n",
    "    sim_significance = (sim_p_values < 0.001)\n",
    "    if col == \"1\":\n",
    "        sim_data = pd.DataFrame([sim_means, sim_p_values, sim_significance]).transpose()\n",
    "        sim_data.columns = [\"Proportion A\", \"p-value\", \"significance\"]\n",
    "        sim_data[\"Item\"] = col\n",
    "    else:\n",
    "        sim_df = pd.DataFrame([sim_means, sim_p_values, sim_significance]).transpose()\n",
    "        sim_df.columns = [\"Proportion A\", \"p-value\", \"significance\"]\n",
    "        sim_df[\"Item\"] = col\n",
    "        sim_data = pd.concat([sim_data, sim_df], axis=0, ignore_index=True)"
   ]
  },
  {
   "cell_type": "code",
   "execution_count": 11,
   "metadata": {},
   "outputs": [],
   "source": [
    "long_data = data.groupby(\"Country\")[[str(i) for i in np.arange(1, 18)]].mean().reset_index().melt(id_vars=\"Country\", value_vars=[str(i) for i in np.arange(1, 18)],\n",
    "                                                                                     var_name=\"Item\", value_name=\"Proportion\")"
   ]
  },
  {
   "cell_type": "code",
   "execution_count": 16,
   "metadata": {},
   "outputs": [],
   "source": [
    "empirical_proportions = data[[str(i) for i in np.arange(1, 18)]].mean()"
   ]
  },
  {
   "cell_type": "code",
   "execution_count": 28,
   "metadata": {},
   "outputs": [
    {
     "name": "stdout",
     "output_type": "stream",
     "text": [
      "Wall time: 6.66 s\n"
     ]
    },
    {
     "data": {
      "image/png": "[encoded data removed]",
      "text/plain": [
       "<Figure size 432x288 with 1 Axes>"
      ]
     },
     "metadata": {
      "needs_background": "light"
     },
     "output_type": "display_data"
    }
   ],
   "source": [
    "%%time\n",
    "fig, ax = plt.subplots()\n",
    "sns.violinplot(data=sim_data, x=\"Item\", y=\"Proportion A\", ax=ax,\n",
    "              order=[str(x) for x in np.arange(1, 18)],\n",
    "              color='#95d0fc', inner=None)\n",
    "sns.scatterplot(x=empirical_proportions.index, y=empirical_proportions.values,\n",
    "                    color=\"Black\", s=30, marker=\"_\")\n",
    "ax.axhline(ls='--', c=\"black\", y=0.5)\n",
    "ax.set(ylim=(0, 1))\n",
    "plt.savefig(\"../figures/supplement/bootstrapped_effects.svg\")"
   ]
  },
  {
   "cell_type": "code",
   "execution_count": 29,
   "metadata": {},
   "outputs": [
    {
     "name": "stdout",
     "output_type": "stream",
     "text": [
      "Wall time: 14 ms\n"
     ]
    }
   ],
   "source": [
    "%%time\n",
    "sim_data[\"Sign\"] = (sim_data[\"Proportion A\"] - 0.5).apply(np.sign)"
   ]
  },
  {
   "cell_type": "code",
   "execution_count": 31,
   "metadata": {},
   "outputs": [
    {
     "data": {
      "text/plain": [
       "1     0.18\n",
       "2     0.83\n",
       "3     0.20\n",
       "4     0.65\n",
       "5     0.14\n",
       "6     0.73\n",
       "7     0.92\n",
       "8     0.42\n",
       "9     0.92\n",
       "10    0.30\n",
       "11    0.22\n",
       "12    0.16\n",
       "13    0.69\n",
       "14    0.18\n",
       "15    0.70\n",
       "16    0.72\n",
       "17    0.17\n",
       "dtype: float64"
      ]
     },
     "execution_count": 31,
     "metadata": {},
     "output_type": "execute_result"
    }
   ],
   "source": [
    "original_pt_proportions = pd.Series([0.18, 0.83, 0.20, 0.65, 0.14, 0.73, 0.92, 0.42, 0.92, 0.30, 0.22, 0.16, 0.69, 0.18, 0.70, 0.72, 0.17],\n",
    "                                   index=[str(i) for i in np.arange(1, 18)])\n",
    "original_pt_proportions"
   ]
  },
  {
   "cell_type": "code",
   "execution_count": 32,
   "metadata": {},
   "outputs": [],
   "source": [
    "original_pt_differences_from_chance = original_pt_proportions - 0.5"
   ]
  },
  {
   "cell_type": "code",
   "execution_count": 33,
   "metadata": {},
   "outputs": [],
   "source": [
    "original_pt_sign = original_pt_differences_from_chance.apply(np.sign)"
   ]
  },
  {
   "cell_type": "code",
   "execution_count": 37,
   "metadata": {},
   "outputs": [
    {
     "name": "stdout",
     "output_type": "stream",
     "text": [
      "Wall time: 3.96 s\n"
     ]
    }
   ],
   "source": [
    "%%time\n",
    "sim_data[\"Sign Difference\"] = np.nan\n",
    "for i in [str(x) for x in np.arange(1, 18)]:\n",
    "    sim_data.loc[sim_data[\"Item\"]==i, \"Sign Difference\"] = sim_data.loc[sim_data[\"Item\"]==i, \"Sign\"] != original_pt_sign[i]"
   ]
  },
  {
   "cell_type": "code",
   "execution_count": 38,
   "metadata": {},
   "outputs": [
    {
     "name": "stdout",
     "output_type": "stream",
     "text": [
      "Wall time: 532 ms\n"
     ]
    }
   ],
   "source": [
    "%%time\n",
    "sim_data[\"Succesful Replication\"] = np.nan\n",
    "sim_data.loc[(sim_data[\"Sign Difference\"] == False) & (sim_data[\"p-value\"]<0.001), \"Succesful Replication\"] = True\n",
    "sim_data.loc[(sim_data[\"Sign Difference\"] == False) & (sim_data[\"p-value\"]>0.001), \"Succesful Replication\"] = False\n",
    "sim_data.loc[(sim_data[\"Sign Difference\"] == True), \"Succesful Replication\"] = False\n",
    "sim_data.loc[(sim_data[\"Item\"]==\"8\"), \"Succesful Replication\"] = np.nan"
   ]
  },
  {
   "cell_type": "code",
   "execution_count": 39,
   "metadata": {},
   "outputs": [
    {
     "data": {
      "text/plain": [
       "0.9397675"
      ]
     },
     "execution_count": 39,
     "metadata": {},
     "output_type": "execute_result"
    }
   ],
   "source": [
    "sim_data[\"Succesful Replication\"].astype(float).mean()"
   ]
  },
  {
   "cell_type": "code",
   "execution_count": 40,
   "metadata": {},
   "outputs": [],
   "source": [
    "sim_data[\"Succesful Replication Number\"] = sim_data[\"Succesful Replication\"].astype(float)"
   ]
  },
  {
   "cell_type": "code",
   "execution_count": 41,
   "metadata": {},
   "outputs": [],
   "source": [
    "simulated_replication_rates = sim_data.groupby(\"Item\")[\"Succesful Replication Number\"].mean()[[str(x) for x in np.arange(1, 18)]]"
   ]
  },
  {
   "cell_type": "code",
   "execution_count": 42,
   "metadata": {},
   "outputs": [
    {
     "data": {
      "text/plain": [
       "Item\n",
       "1     1.00000\n",
       "2     1.00000\n",
       "3     1.00000\n",
       "4     0.03628\n",
       "5     1.00000\n",
       "6     1.00000\n",
       "7     1.00000\n",
       "8         NaN\n",
       "9     1.00000\n",
       "10    1.00000\n",
       "11    1.00000\n",
       "12    1.00000\n",
       "13    1.00000\n",
       "14    1.00000\n",
       "15    1.00000\n",
       "16    1.00000\n",
       "17    1.00000\n",
       "Name: Succesful Replication Number, dtype: float64"
      ]
     },
     "execution_count": 42,
     "metadata": {},
     "output_type": "execute_result"
    }
   ],
   "source": [
    "simulated_replication_rates"
   ]
  },
  {
   "cell_type": "markdown",
   "metadata": {},
   "source": [
    "### Assuming that our sample is somewhat representative of the population, all items are very likely to replicate in China, apart from Items 10 & 17, which is unlikely to replicate in China. This provides support for the idea that explicitly mentioning the 0s modify the effects of extreme probabilities"
   ]
  },
  {
   "cell_type": "code",
   "execution_count": 44,
   "metadata": {},
   "outputs": [],
   "source": [
    "simulated_replication_rates.to_excel(\"../Supplementary Tables/Simulated Replication Rates - Global.xlsx\")"
   ]
  },
  {
   "cell_type": "code",
   "execution_count": 45,
   "metadata": {},
   "outputs": [],
   "source": [
    "sim_data.to_pickle(\"../Simulations/Global.pkl\")"
   ]
  },
  {
   "cell_type": "code",
   "execution_count": 46,
   "metadata": {},
   "outputs": [],
   "source": [
    "del sim_data"
   ]
  }
 ],
 "metadata": {
  "kernelspec": {
   "display_name": "Python 3",
   "language": "python",
   "name": "python3"
  },
  "language_info": {
   "codemirror_mode": {
    "name": "ipython",
    "version": 3
   },
   "file_extension": ".py",
   "mimetype": "text/x-python",
   "name": "python",
   "nbconvert_exporter": "python",
   "pygments_lexer": "ipython3",
   "version": "3.7.3"
  }
 },
 "nbformat": 4,
 "nbformat_minor": 4
}
