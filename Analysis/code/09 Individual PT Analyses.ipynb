{
 "cells": [
  {
   "cell_type": "markdown",
   "metadata": {},
   "source": [
    "# Loading packages"
   ]
  },
  {
   "cell_type": "code",
   "execution_count": 1,
   "metadata": {},
   "outputs": [],
   "source": [
    "import numpy as np\n",
    "import pandas as pd\n",
    "import glob"
   ]
  },
  {
   "cell_type": "code",
   "execution_count": 2,
   "metadata": {},
   "outputs": [],
   "source": [
    "import matplotlib.pyplot as plt\n",
    "import seaborn as sns\n",
    "%matplotlib inline"
   ]
  },
  {
   "cell_type": "code",
   "execution_count": 3,
   "metadata": {},
   "outputs": [],
   "source": [
    "from pandas.api.types import CategoricalDtype"
   ]
  },
  {
   "cell_type": "markdown",
   "metadata": {},
   "source": [
    "# Loading data"
   ]
  },
  {
   "cell_type": "code",
   "execution_count": 4,
   "metadata": {},
   "outputs": [],
   "source": [
    "data= pd.read_pickle(\"../data/modified_exclusions/pt_replication_modified_exclusions_data.pkl\")"
   ]
  },
  {
   "cell_type": "code",
   "execution_count": 5,
   "metadata": {},
   "outputs": [
    {
     "data": {
      "text/html": [
       "<div>\n",
       "<style scoped>\n",
       "    .dataframe tbody tr th:only-of-type {\n",
       "        vertical-align: middle;\n",
       "    }\n",
       "\n",
       "    .dataframe tbody tr th {\n",
       "        vertical-align: top;\n",
       "    }\n",
       "\n",
       "    .dataframe thead th {\n",
       "        text-align: right;\n",
       "    }\n",
       "</style>\n",
       "<table border=\"1\" class=\"dataframe\">\n",
       "  <thead>\n",
       "    <tr style=\"text-align: right;\">\n",
       "      <th></th>\n",
       "      <th>1</th>\n",
       "      <th>2</th>\n",
       "      <th>3</th>\n",
       "      <th>4</th>\n",
       "      <th>5</th>\n",
       "      <th>6</th>\n",
       "      <th>7</th>\n",
       "      <th>8</th>\n",
       "      <th>9</th>\n",
       "      <th>10</th>\n",
       "      <th>...</th>\n",
       "      <th>Loss_Intuition</th>\n",
       "      <th>Country</th>\n",
       "      <th>Duration_in_seconds</th>\n",
       "      <th>Language</th>\n",
       "      <th>Sample</th>\n",
       "      <th>Duration_Minutes</th>\n",
       "      <th>YoB</th>\n",
       "      <th>Awareness_of_Loss_Aversion</th>\n",
       "      <th>Financial_Stress</th>\n",
       "      <th>Presentation_Order</th>\n",
       "    </tr>\n",
       "  </thead>\n",
       "  <tbody>\n",
       "    <tr>\n",
       "      <th>0</th>\n",
       "      <td>1.0</td>\n",
       "      <td>0.0</td>\n",
       "      <td>0.0</td>\n",
       "      <td>1.0</td>\n",
       "      <td>1.0</td>\n",
       "      <td>1.0</td>\n",
       "      <td>1.0</td>\n",
       "      <td>0.0</td>\n",
       "      <td>1.0</td>\n",
       "      <td>1.0</td>\n",
       "      <td>...</td>\n",
       "      <td>1.0</td>\n",
       "      <td>Bulgaria</td>\n",
       "      <td>356</td>\n",
       "      <td>Bulgarian</td>\n",
       "      <td>Direct</td>\n",
       "      <td>5.933333</td>\n",
       "      <td>1992</td>\n",
       "      <td>3</td>\n",
       "      <td>NaN</td>\n",
       "      <td>4|6|2|3|17|18|14|8|7|15|1|12|11|5|13|16|9|10</td>\n",
       "    </tr>\n",
       "    <tr>\n",
       "      <th>1</th>\n",
       "      <td>0.0</td>\n",
       "      <td>0.0</td>\n",
       "      <td>0.0</td>\n",
       "      <td>0.0</td>\n",
       "      <td>0.0</td>\n",
       "      <td>0.0</td>\n",
       "      <td>0.0</td>\n",
       "      <td>0.0</td>\n",
       "      <td>1.0</td>\n",
       "      <td>0.0</td>\n",
       "      <td>...</td>\n",
       "      <td>NaN</td>\n",
       "      <td>Bulgaria</td>\n",
       "      <td>931</td>\n",
       "      <td>Bulgarian</td>\n",
       "      <td>Direct</td>\n",
       "      <td>15.516667</td>\n",
       "      <td>1979</td>\n",
       "      <td>1</td>\n",
       "      <td>NaN</td>\n",
       "      <td>7|17|16|11|15|18|4|9|1|13|2|10|6|14|5|12|8|3</td>\n",
       "    </tr>\n",
       "    <tr>\n",
       "      <th>2</th>\n",
       "      <td>0.0</td>\n",
       "      <td>0.0</td>\n",
       "      <td>0.0</td>\n",
       "      <td>0.0</td>\n",
       "      <td>0.0</td>\n",
       "      <td>0.0</td>\n",
       "      <td>1.0</td>\n",
       "      <td>0.0</td>\n",
       "      <td>0.0</td>\n",
       "      <td>0.0</td>\n",
       "      <td>...</td>\n",
       "      <td>1.0</td>\n",
       "      <td>Bulgaria</td>\n",
       "      <td>462</td>\n",
       "      <td>Bulgarian</td>\n",
       "      <td>Direct</td>\n",
       "      <td>7.700000</td>\n",
       "      <td>1975</td>\n",
       "      <td>3</td>\n",
       "      <td>NaN</td>\n",
       "      <td>11|8|4|7|12|18|3|14|6|16|17|1|2|13|5|15|9|10</td>\n",
       "    </tr>\n",
       "    <tr>\n",
       "      <th>3</th>\n",
       "      <td>0.0</td>\n",
       "      <td>0.0</td>\n",
       "      <td>0.0</td>\n",
       "      <td>0.0</td>\n",
       "      <td>0.0</td>\n",
       "      <td>0.0</td>\n",
       "      <td>1.0</td>\n",
       "      <td>0.0</td>\n",
       "      <td>1.0</td>\n",
       "      <td>0.0</td>\n",
       "      <td>...</td>\n",
       "      <td>NaN</td>\n",
       "      <td>Bulgaria</td>\n",
       "      <td>412</td>\n",
       "      <td>Bulgarian</td>\n",
       "      <td>Direct</td>\n",
       "      <td>6.866667</td>\n",
       "      <td>1977</td>\n",
       "      <td>1</td>\n",
       "      <td>NaN</td>\n",
       "      <td>16|7|6|9|12|18|10|8|5|15|2|3|4|14|11|1|17|13</td>\n",
       "    </tr>\n",
       "    <tr>\n",
       "      <th>4</th>\n",
       "      <td>0.0</td>\n",
       "      <td>0.0</td>\n",
       "      <td>0.0</td>\n",
       "      <td>0.0</td>\n",
       "      <td>0.0</td>\n",
       "      <td>1.0</td>\n",
       "      <td>1.0</td>\n",
       "      <td>1.0</td>\n",
       "      <td>1.0</td>\n",
       "      <td>1.0</td>\n",
       "      <td>...</td>\n",
       "      <td>NaN</td>\n",
       "      <td>Bulgaria</td>\n",
       "      <td>490</td>\n",
       "      <td>Bulgarian</td>\n",
       "      <td>Direct</td>\n",
       "      <td>8.166667</td>\n",
       "      <td>1970</td>\n",
       "      <td>1</td>\n",
       "      <td>NaN</td>\n",
       "      <td>13|4|3|7|9|18|16|8|14|1|6|12|17|10|5|2|11|15</td>\n",
       "    </tr>\n",
       "  </tbody>\n",
       "</table>\n",
       "<p>5 rows × 39 columns</p>\n",
       "</div>"
      ],
      "text/plain": [
       "     1    2    3    4    5    6    7    8    9   10  ...  Loss_Intuition  \\\n",
       "0  1.0  0.0  0.0  1.0  1.0  1.0  1.0  0.0  1.0  1.0  ...             1.0   \n",
       "1  0.0  0.0  0.0  0.0  0.0  0.0  0.0  0.0  1.0  0.0  ...             NaN   \n",
       "2  0.0  0.0  0.0  0.0  0.0  0.0  1.0  0.0  0.0  0.0  ...             1.0   \n",
       "3  0.0  0.0  0.0  0.0  0.0  0.0  1.0  0.0  1.0  0.0  ...             NaN   \n",
       "4  0.0  0.0  0.0  0.0  0.0  1.0  1.0  1.0  1.0  1.0  ...             NaN   \n",
       "\n",
       "    Country  Duration_in_seconds   Language  Sample  Duration_Minutes   YoB  \\\n",
       "0  Bulgaria                  356  Bulgarian  Direct          5.933333  1992   \n",
       "1  Bulgaria                  931  Bulgarian  Direct         15.516667  1979   \n",
       "2  Bulgaria                  462  Bulgarian  Direct          7.700000  1975   \n",
       "3  Bulgaria                  412  Bulgarian  Direct          6.866667  1977   \n",
       "4  Bulgaria                  490  Bulgarian  Direct          8.166667  1970   \n",
       "\n",
       "  Awareness_of_Loss_Aversion  Financial_Stress  \\\n",
       "0                          3               NaN   \n",
       "1                          1               NaN   \n",
       "2                          3               NaN   \n",
       "3                          1               NaN   \n",
       "4                          1               NaN   \n",
       "\n",
       "                             Presentation_Order  \n",
       "0  4|6|2|3|17|18|14|8|7|15|1|12|11|5|13|16|9|10  \n",
       "1  7|17|16|11|15|18|4|9|1|13|2|10|6|14|5|12|8|3  \n",
       "2  11|8|4|7|12|18|3|14|6|16|17|1|2|13|5|15|9|10  \n",
       "3  16|7|6|9|12|18|10|8|5|15|2|3|4|14|11|1|17|13  \n",
       "4  13|4|3|7|9|18|16|8|14|1|6|12|17|10|5|2|11|15  \n",
       "\n",
       "[5 rows x 39 columns]"
      ]
     },
     "execution_count": 5,
     "metadata": {},
     "output_type": "execute_result"
    }
   ],
   "source": [
    "data.head()"
   ]
  },
  {
   "cell_type": "code",
   "execution_count": 6,
   "metadata": {},
   "outputs": [
    {
     "data": {
      "text/html": [
       "<div>\n",
       "<style scoped>\n",
       "    .dataframe tbody tr th:only-of-type {\n",
       "        vertical-align: middle;\n",
       "    }\n",
       "\n",
       "    .dataframe tbody tr th {\n",
       "        vertical-align: top;\n",
       "    }\n",
       "\n",
       "    .dataframe thead th {\n",
       "        text-align: right;\n",
       "    }\n",
       "</style>\n",
       "<table border=\"1\" class=\"dataframe\">\n",
       "  <thead>\n",
       "    <tr style=\"text-align: right;\">\n",
       "      <th></th>\n",
       "      <th>Effect</th>\n",
       "      <th>Item 1</th>\n",
       "      <th>Item 2</th>\n",
       "      <th>A1</th>\n",
       "      <th>B1</th>\n",
       "      <th>A2</th>\n",
       "      <th>B2</th>\n",
       "      <th>OR</th>\n",
       "      <th>p-value</th>\n",
       "      <th>OR2</th>\n",
       "      <th>Significance</th>\n",
       "      <th>LogOR</th>\n",
       "    </tr>\n",
       "  </thead>\n",
       "  <tbody>\n",
       "    <tr>\n",
       "      <th>0</th>\n",
       "      <td>Certainty Effect</td>\n",
       "      <td>1</td>\n",
       "      <td>2</td>\n",
       "      <td>13</td>\n",
       "      <td>59</td>\n",
       "      <td>60</td>\n",
       "      <td>12</td>\n",
       "      <td>0.044068</td>\n",
       "      <td>1.558248e-15</td>\n",
       "      <td>22.692308</td>\n",
       "      <td>True</td>\n",
       "      <td>-3.122026</td>\n",
       "    </tr>\n",
       "    <tr>\n",
       "      <th>1</th>\n",
       "      <td>Certainty Effect</td>\n",
       "      <td>3</td>\n",
       "      <td>4</td>\n",
       "      <td>19</td>\n",
       "      <td>76</td>\n",
       "      <td>62</td>\n",
       "      <td>33</td>\n",
       "      <td>0.133065</td>\n",
       "      <td>3.373660e-10</td>\n",
       "      <td>7.515152</td>\n",
       "      <td>True</td>\n",
       "      <td>-2.016921</td>\n",
       "    </tr>\n",
       "    <tr>\n",
       "      <th>2</th>\n",
       "      <td>Certainty Effect</td>\n",
       "      <td>7</td>\n",
       "      <td>8</td>\n",
       "      <td>87</td>\n",
       "      <td>8</td>\n",
       "      <td>40</td>\n",
       "      <td>55</td>\n",
       "      <td>14.953125</td>\n",
       "      <td>1.598340e-13</td>\n",
       "      <td>14.953125</td>\n",
       "      <td>True</td>\n",
       "      <td>2.704920</td>\n",
       "    </tr>\n",
       "    <tr>\n",
       "      <th>3</th>\n",
       "      <td>Reflection Effect</td>\n",
       "      <td>3</td>\n",
       "      <td>7</td>\n",
       "      <td>19</td>\n",
       "      <td>76</td>\n",
       "      <td>87</td>\n",
       "      <td>8</td>\n",
       "      <td>0.022989</td>\n",
       "      <td>4.395039e-25</td>\n",
       "      <td>43.500000</td>\n",
       "      <td>True</td>\n",
       "      <td>-3.772761</td>\n",
       "    </tr>\n",
       "    <tr>\n",
       "      <th>4</th>\n",
       "      <td>Reflection Effect</td>\n",
       "      <td>4</td>\n",
       "      <td>8</td>\n",
       "      <td>62</td>\n",
       "      <td>33</td>\n",
       "      <td>40</td>\n",
       "      <td>55</td>\n",
       "      <td>2.583333</td>\n",
       "      <td>2.163003e-03</td>\n",
       "      <td>2.583333</td>\n",
       "      <td>True</td>\n",
       "      <td>0.949081</td>\n",
       "    </tr>\n",
       "  </tbody>\n",
       "</table>\n",
       "</div>"
      ],
      "text/plain": [
       "              Effect  Item 1  Item 2  A1  B1  A2  B2         OR       p-value  \\\n",
       "0   Certainty Effect       1       2  13  59  60  12   0.044068  1.558248e-15   \n",
       "1   Certainty Effect       3       4  19  76  62  33   0.133065  3.373660e-10   \n",
       "2   Certainty Effect       7       8  87   8  40  55  14.953125  1.598340e-13   \n",
       "3  Reflection Effect       3       7  19  76  87   8   0.022989  4.395039e-25   \n",
       "4  Reflection Effect       4       8  62  33  40  55   2.583333  2.163003e-03   \n",
       "\n",
       "         OR2  Significance     LogOR  \n",
       "0  22.692308          True -3.122026  \n",
       "1   7.515152          True -2.016921  \n",
       "2  14.953125          True  2.704920  \n",
       "3  43.500000          True -3.772761  \n",
       "4   2.583333          True  0.949081  "
      ]
     },
     "execution_count": 6,
     "metadata": {},
     "output_type": "execute_result"
    }
   ],
   "source": [
    "PT_contrasts_original_df = pd.read_excel(\"../output/original_contrasts.xlsx\")\n",
    "PT_contrasts_original_df.head()"
   ]
  },
  {
   "cell_type": "markdown",
   "metadata": {},
   "source": [
    "### Quantifying how many people changed their mind in the original experiment"
   ]
  },
  {
   "cell_type": "code",
   "execution_count": 7,
   "metadata": {},
   "outputs": [],
   "source": [
    "PT_contrasts_original_df[\"A_difference\"] = PT_contrasts_original_df[\"A1\"] - PT_contrasts_original_df[\"A2\"]"
   ]
  },
  {
   "cell_type": "code",
   "execution_count": 8,
   "metadata": {},
   "outputs": [
    {
     "data": {
      "text/html": [
       "<div>\n",
       "<style scoped>\n",
       "    .dataframe tbody tr th:only-of-type {\n",
       "        vertical-align: middle;\n",
       "    }\n",
       "\n",
       "    .dataframe tbody tr th {\n",
       "        vertical-align: top;\n",
       "    }\n",
       "\n",
       "    .dataframe thead th {\n",
       "        text-align: right;\n",
       "    }\n",
       "</style>\n",
       "<table border=\"1\" class=\"dataframe\">\n",
       "  <thead>\n",
       "    <tr style=\"text-align: right;\">\n",
       "      <th></th>\n",
       "      <th>Item 1</th>\n",
       "      <th>Item 2</th>\n",
       "      <th>A_difference</th>\n",
       "    </tr>\n",
       "  </thead>\n",
       "  <tbody>\n",
       "    <tr>\n",
       "      <th>0</th>\n",
       "      <td>1</td>\n",
       "      <td>2</td>\n",
       "      <td>-47</td>\n",
       "    </tr>\n",
       "    <tr>\n",
       "      <th>1</th>\n",
       "      <td>3</td>\n",
       "      <td>4</td>\n",
       "      <td>-43</td>\n",
       "    </tr>\n",
       "    <tr>\n",
       "      <th>2</th>\n",
       "      <td>7</td>\n",
       "      <td>8</td>\n",
       "      <td>47</td>\n",
       "    </tr>\n",
       "    <tr>\n",
       "      <th>3</th>\n",
       "      <td>3</td>\n",
       "      <td>7</td>\n",
       "      <td>-68</td>\n",
       "    </tr>\n",
       "    <tr>\n",
       "      <th>4</th>\n",
       "      <td>4</td>\n",
       "      <td>8</td>\n",
       "      <td>22</td>\n",
       "    </tr>\n",
       "    <tr>\n",
       "      <th>5</th>\n",
       "      <td>5</td>\n",
       "      <td>9</td>\n",
       "      <td>-52</td>\n",
       "    </tr>\n",
       "    <tr>\n",
       "      <th>6</th>\n",
       "      <td>6</td>\n",
       "      <td>10</td>\n",
       "      <td>28</td>\n",
       "    </tr>\n",
       "    <tr>\n",
       "      <th>7</th>\n",
       "      <td>16</td>\n",
       "      <td>17</td>\n",
       "      <td>40</td>\n",
       "    </tr>\n",
       "    <tr>\n",
       "      <th>8</th>\n",
       "      <td>4</td>\n",
       "      <td>11</td>\n",
       "      <td>31</td>\n",
       "    </tr>\n",
       "    <tr>\n",
       "      <th>9</th>\n",
       "      <td>5</td>\n",
       "      <td>6</td>\n",
       "      <td>-39</td>\n",
       "    </tr>\n",
       "    <tr>\n",
       "      <th>10</th>\n",
       "      <td>9</td>\n",
       "      <td>10</td>\n",
       "      <td>41</td>\n",
       "    </tr>\n",
       "    <tr>\n",
       "      <th>11</th>\n",
       "      <td>12</td>\n",
       "      <td>13</td>\n",
       "      <td>-36</td>\n",
       "    </tr>\n",
       "    <tr>\n",
       "      <th>12</th>\n",
       "      <td>14</td>\n",
       "      <td>15</td>\n",
       "      <td>-33</td>\n",
       "    </tr>\n",
       "  </tbody>\n",
       "</table>\n",
       "</div>"
      ],
      "text/plain": [
       "    Item 1  Item 2  A_difference\n",
       "0        1       2           -47\n",
       "1        3       4           -43\n",
       "2        7       8            47\n",
       "3        3       7           -68\n",
       "4        4       8            22\n",
       "5        5       9           -52\n",
       "6        6      10            28\n",
       "7       16      17            40\n",
       "8        4      11            31\n",
       "9        5       6           -39\n",
       "10       9      10            41\n",
       "11      12      13           -36\n",
       "12      14      15           -33"
      ]
     },
     "execution_count": 8,
     "metadata": {},
     "output_type": "execute_result"
    }
   ],
   "source": [
    "PT_contrasts_original_df[[\"Item 1\", \"Item 2\", \"A_difference\"]]"
   ]
  },
  {
   "cell_type": "markdown",
   "metadata": {},
   "source": [
    "### Quantifying how many people changed their minds in the direction of Prospect Theory in the current study"
   ]
  },
  {
   "cell_type": "code",
   "execution_count": 11,
   "metadata": {},
   "outputs": [],
   "source": [
    "contrast_cat = CategoricalDtype(categories=[\"EUT + PT\", \"PT\",\n",
    "                                            \"Neither\"],\n",
    "                               ordered=True)\n",
    "contrast_columns = []\n",
    "for ix in PT_contrasts_original_df.index:\n",
    "    i1 = PT_contrasts_original_df.loc[ix, \"Item 1\"]\n",
    "    i2 = PT_contrasts_original_df.loc[ix, \"Item 2\"]\n",
    "    i1 = str(i1)\n",
    "    i2 = str(i2)\n",
    "    diff = PT_contrasts_original_df.loc[ix, \"A_difference\"]\n",
    "    column_title = \"Contrast_\" + i1 + '_' + i2\n",
    "    data[column_title] = np.nan\n",
    "    data.loc[(data[i1]==0) & (data[i2]==0), column_title] = \"EUT + PT\"\n",
    "    data.loc[(data[i1]==1) & (data[i2]==1), column_title] = \"EUT + PT\"\n",
    "    if diff > 0:\n",
    "        data.loc[(data[i1]==1) & (data[i2]==0), column_title] = \"PT\"\n",
    "        data.loc[(data[i1]==0) & (data[i2]==1), column_title] = \"Neither\"\n",
    "    if diff < 0:\n",
    "        data.loc[(data[i1]==0) & (data[i2]==1), column_title] = \"PT\"\n",
    "        data.loc[(data[i1]==1) & (data[i2]==0), column_title] = \"Neither\"\n",
    "    data[column_title] = data[column_title].astype(contrast_cat)\n",
    "    contrast_columns.append(column_title)"
   ]
  },
  {
   "cell_type": "code",
   "execution_count": 13,
   "metadata": {},
   "outputs": [
    {
     "data": {
      "text/plain": [
       "Index(['1', '2', '3', '4', '5', '6', '7', '8', '9', '10', '11', '12', '13',\n",
       "       '14', '15', '16', '17', 'Gender', 'Age', 'Personal_Income',\n",
       "       'Financial_Situation', 'Bill_Payments', 'Education', 'Credit_Debt',\n",
       "       'Additional_Income_Private_Investment', 'Additional_Income_Property',\n",
       "       'Additional_Income_Business_Ownership',\n",
       "       'Additional_Income_Retirement_Plan', 'Loss_Awareness', 'Loss_Intuition',\n",
       "       'Country', 'Duration_in_seconds', 'Language', 'Sample',\n",
       "       'Duration_Minutes', 'YoB', 'Awareness_of_Loss_Aversion',\n",
       "       'Financial_Stress', 'Presentation_Order', 'Contrast_1_2',\n",
       "       'Contrast_3_4', 'Contrast_7_8', 'Contrast_3_7', 'Contrast_4_8',\n",
       "       'Contrast_5_9', 'Contrast_6_10', 'Contrast_16_17', 'Contrast_4_11',\n",
       "       'Contrast_5_6', 'Contrast_9_10', 'Contrast_12_13', 'Contrast_14_15'],\n",
       "      dtype='object')"
      ]
     },
     "execution_count": 13,
     "metadata": {},
     "output_type": "execute_result"
    }
   ],
   "source": [
    "data.columns"
   ]
  },
  {
   "cell_type": "markdown",
   "metadata": {},
   "source": [
    "### Saving choice contrast data"
   ]
  },
  {
   "cell_type": "code",
   "execution_count": 35,
   "metadata": {},
   "outputs": [],
   "source": [
    "data.to_excel(\"../output/pt_replication_modified_exclusions_data_CoM.xlsx\", index=False)\n",
    "data.to_pickle(\"../output/pt_replication_modified_exclusions_data_CoM.pkl\")\n",
    "data.to_csv(\"../output/pt_replication_modified_exclusions_data_CoM.csv\", index=False)"
   ]
  },
  {
   "cell_type": "markdown",
   "metadata": {},
   "source": [
    "### Displaying choice proportions per contrast"
   ]
  },
  {
   "cell_type": "code",
   "execution_count": 15,
   "metadata": {},
   "outputs": [
    {
     "data": {
      "text/plain": [
       "EUT + PT    0.48\n",
       "PT          0.44\n",
       "Neither     0.08\n",
       "Name: Contrast_1_2, dtype: float64"
      ]
     },
     "metadata": {},
     "output_type": "display_data"
    },
    {
     "data": {
      "text/plain": [
       "EUT + PT    0.54\n",
       "PT          0.42\n",
       "Neither     0.04\n",
       "Name: Contrast_3_4, dtype: float64"
      ]
     },
     "metadata": {},
     "output_type": "display_data"
    },
    {
     "data": {
      "text/plain": [
       "EUT + PT    0.54\n",
       "PT          0.37\n",
       "Neither     0.08\n",
       "Name: Contrast_7_8, dtype: float64"
      ]
     },
     "metadata": {},
     "output_type": "display_data"
    },
    {
     "data": {
      "text/plain": [
       "EUT + PT    0.25\n",
       "PT          0.71\n",
       "Neither     0.04\n",
       "Name: Contrast_3_7, dtype: float64"
      ]
     },
     "metadata": {},
     "output_type": "display_data"
    },
    {
     "data": {
      "text/plain": [
       "EUT + PT    0.46\n",
       "PT          0.27\n",
       "Neither     0.26\n",
       "Name: Contrast_4_8, dtype: float64"
      ]
     },
     "metadata": {},
     "output_type": "display_data"
    },
    {
     "data": {
      "text/plain": [
       "EUT + PT    0.27\n",
       "PT          0.71\n",
       "Neither     0.02\n",
       "Name: Contrast_5_9, dtype: float64"
      ]
     },
     "metadata": {},
     "output_type": "display_data"
    },
    {
     "data": {
      "text/plain": [
       "EUT + PT    0.47\n",
       "PT          0.38\n",
       "Neither     0.15\n",
       "Name: Contrast_6_10, dtype: float64"
      ]
     },
     "metadata": {},
     "output_type": "display_data"
    },
    {
     "data": {
      "text/plain": [
       "EUT + PT    0.40\n",
       "PT          0.38\n",
       "Neither     0.23\n",
       "Name: Contrast_16_17, dtype: float64"
      ]
     },
     "metadata": {},
     "output_type": "display_data"
    },
    {
     "data": {
      "text/plain": [
       "EUT + PT    0.54\n",
       "PT          0.41\n",
       "Neither     0.06\n",
       "Name: Contrast_4_11, dtype: float64"
      ]
     },
     "metadata": {},
     "output_type": "display_data"
    },
    {
     "data": {
      "text/plain": [
       "EUT + PT    0.40\n",
       "PT          0.58\n",
       "Neither     0.03\n",
       "Name: Contrast_5_6, dtype: float64"
      ]
     },
     "metadata": {},
     "output_type": "display_data"
    },
    {
     "data": {
      "text/plain": [
       "EUT + PT    0.48\n",
       "PT          0.44\n",
       "Neither     0.08\n",
       "Name: Contrast_9_10, dtype: float64"
      ]
     },
     "metadata": {},
     "output_type": "display_data"
    },
    {
     "data": {
      "text/plain": [
       "EUT + PT    0.48\n",
       "PT          0.44\n",
       "Neither     0.08\n",
       "Name: Contrast_12_13, dtype: float64"
      ]
     },
     "metadata": {},
     "output_type": "display_data"
    },
    {
     "data": {
      "text/plain": [
       "EUT + PT    0.44\n",
       "PT          0.49\n",
       "Neither     0.07\n",
       "Name: Contrast_14_15, dtype: float64"
      ]
     },
     "metadata": {},
     "output_type": "display_data"
    }
   ],
   "source": [
    "for column in contrast_columns:\n",
    "    display(round(data[column].value_counts(sort=False, normalize=True), 2))"
   ]
  },
  {
   "cell_type": "markdown",
   "metadata": {},
   "source": [
    "### Preparing a table for the figure"
   ]
  },
  {
   "cell_type": "code",
   "execution_count": 29,
   "metadata": {},
   "outputs": [],
   "source": [
    "contrast_effect_df = data[contrast_columns].melt(var_name=\"Effect\", value_name=\"Direction\")\n",
    "contrast_table = contrast_effect_df.pivot_table(index=\"Effect\", columns=\"Direction\", values=\"Direction\", aggfunc=len)\n",
    "contrast_table = (contrast_table.transpose()/contrast_table.sum(1)).transpose()*100\n",
    "contrast_table = contrast_table.loc[contrast_columns[::-1], :]"
   ]
  },
  {
   "cell_type": "markdown",
   "metadata": {},
   "source": [
    "### Contrast table summary statistics"
   ]
  },
  {
   "cell_type": "code",
   "execution_count": 23,
   "metadata": {},
   "outputs": [
    {
     "data": {
      "text/plain": [
       "Direction\n",
       "EUT + PT    44.069942\n",
       "Neither      9.453989\n",
       "PT          46.476070\n",
       "dtype: float64"
      ]
     },
     "execution_count": 23,
     "metadata": {},
     "output_type": "execute_result"
    }
   ],
   "source": [
    "contrast_table.mean()"
   ]
  },
  {
   "cell_type": "code",
   "execution_count": 24,
   "metadata": {},
   "outputs": [
    {
     "data": {
      "text/plain": [
       "71.0"
      ]
     },
     "execution_count": 24,
     "metadata": {},
     "output_type": "execute_result"
    }
   ],
   "source": [
    "contrast_table[\"PT\"].max().round()"
   ]
  },
  {
   "cell_type": "code",
   "execution_count": 25,
   "metadata": {},
   "outputs": [
    {
     "data": {
      "text/plain": [
       "27.0"
      ]
     },
     "execution_count": 25,
     "metadata": {},
     "output_type": "execute_result"
    }
   ],
   "source": [
    "contrast_table[\"PT\"].min().round()"
   ]
  },
  {
   "cell_type": "code",
   "execution_count": 26,
   "metadata": {},
   "outputs": [
    {
     "data": {
      "text/plain": [
       "7.5224556580294015"
      ]
     },
     "execution_count": 26,
     "metadata": {},
     "output_type": "execute_result"
    }
   ],
   "source": [
    "contrast_table[\"Neither\"].std()"
   ]
  },
  {
   "cell_type": "code",
   "execution_count": 27,
   "metadata": {},
   "outputs": [
    {
     "data": {
      "text/plain": [
       "12.903678216906268"
      ]
     },
     "execution_count": 27,
     "metadata": {},
     "output_type": "execute_result"
    }
   ],
   "source": [
    "contrast_table[\"PT\"].std()"
   ]
  },
  {
   "cell_type": "markdown",
   "metadata": {},
   "source": [
    "### Saving the contrast table"
   ]
  },
  {
   "cell_type": "code",
   "execution_count": 31,
   "metadata": {},
   "outputs": [],
   "source": [
    "contrast_table.to_excel(\"../output/contrast_changes_of_mind.xlsx\")\n",
    "contrast_table.to_csv(\"../output/contrast_changes_of_mind.csv\")"
   ]
  }
 ],
 "metadata": {
  "kernelspec": {
   "display_name": "Python 3",
   "language": "python",
   "name": "python3"
  },
  "language_info": {
   "codemirror_mode": {
    "name": "ipython",
    "version": 3
   },
   "file_extension": ".py",
   "mimetype": "text/x-python",
   "name": "python",
   "nbconvert_exporter": "python",
   "pygments_lexer": "ipython3",
   "version": "3.7.3"
  }
 },
 "nbformat": 4,
 "nbformat_minor": 4
}
