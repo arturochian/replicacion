{
 "cells": [
  {
   "cell_type": "markdown",
   "metadata": {},
   "source": [
    "# Loading packages"
   ]
  },
  {
   "cell_type": "code",
   "execution_count": 1,
   "metadata": {},
   "outputs": [],
   "source": [
    "import numpy as np\n",
    "import pandas as pd\n",
    "import glob"
   ]
  },
  {
   "cell_type": "code",
   "execution_count": 2,
   "metadata": {},
   "outputs": [],
   "source": [
    "import matplotlib.pyplot as plt\n",
    "import seaborn as sns\n",
    "%matplotlib inline"
   ]
  },
  {
   "cell_type": "code",
   "execution_count": 3,
   "metadata": {},
   "outputs": [],
   "source": [
    "from pandas.api.types import CategoricalDtype"
   ]
  },
  {
   "cell_type": "markdown",
   "metadata": {},
   "source": [
    "# Loading data"
   ]
  },
  {
   "cell_type": "code",
   "execution_count": 4,
   "metadata": {},
   "outputs": [],
   "source": [
    "data= pd.read_pickle(\"../data/modified_exclusions/pt_replication_modified_exclusions_data.pkl\")"
   ]
  },
  {
   "cell_type": "code",
   "execution_count": 5,
   "metadata": {},
   "outputs": [
    {
     "data": {
      "text/html": [
       "<div>\n",
       "<style scoped>\n",
       "    .dataframe tbody tr th:only-of-type {\n",
       "        vertical-align: middle;\n",
       "    }\n",
       "\n",
       "    .dataframe tbody tr th {\n",
       "        vertical-align: top;\n",
       "    }\n",
       "\n",
       "    .dataframe thead th {\n",
       "        text-align: right;\n",
       "    }\n",
       "</style>\n",
       "<table border=\"1\" class=\"dataframe\">\n",
       "  <thead>\n",
       "    <tr style=\"text-align: right;\">\n",
       "      <th></th>\n",
       "      <th>1</th>\n",
       "      <th>2</th>\n",
       "      <th>3</th>\n",
       "      <th>4</th>\n",
       "      <th>5</th>\n",
       "      <th>6</th>\n",
       "      <th>7</th>\n",
       "      <th>8</th>\n",
       "      <th>9</th>\n",
       "      <th>10</th>\n",
       "      <th>...</th>\n",
       "      <th>Loss_Intuition</th>\n",
       "      <th>Country</th>\n",
       "      <th>Duration_in_seconds</th>\n",
       "      <th>Language</th>\n",
       "      <th>Sample</th>\n",
       "      <th>Duration_Minutes</th>\n",
       "      <th>YoB</th>\n",
       "      <th>Awareness_of_Loss_Aversion</th>\n",
       "      <th>Financial_Stress</th>\n",
       "      <th>Presentation_Order</th>\n",
       "    </tr>\n",
       "  </thead>\n",
       "  <tbody>\n",
       "    <tr>\n",
       "      <th>0</th>\n",
       "      <td>1.0</td>\n",
       "      <td>0.0</td>\n",
       "      <td>0.0</td>\n",
       "      <td>1.0</td>\n",
       "      <td>1.0</td>\n",
       "      <td>1.0</td>\n",
       "      <td>1.0</td>\n",
       "      <td>0.0</td>\n",
       "      <td>1.0</td>\n",
       "      <td>1.0</td>\n",
       "      <td>...</td>\n",
       "      <td>1.0</td>\n",
       "      <td>Bulgaria</td>\n",
       "      <td>356</td>\n",
       "      <td>Bulgarian</td>\n",
       "      <td>Direct</td>\n",
       "      <td>5.933333</td>\n",
       "      <td>1992</td>\n",
       "      <td>3</td>\n",
       "      <td>NaN</td>\n",
       "      <td>4|6|2|3|17|18|14|8|7|15|1|12|11|5|13|16|9|10</td>\n",
       "    </tr>\n",
       "    <tr>\n",
       "      <th>1</th>\n",
       "      <td>0.0</td>\n",
       "      <td>0.0</td>\n",
       "      <td>0.0</td>\n",
       "      <td>0.0</td>\n",
       "      <td>0.0</td>\n",
       "      <td>0.0</td>\n",
       "      <td>0.0</td>\n",
       "      <td>0.0</td>\n",
       "      <td>1.0</td>\n",
       "      <td>0.0</td>\n",
       "      <td>...</td>\n",
       "      <td>NaN</td>\n",
       "      <td>Bulgaria</td>\n",
       "      <td>931</td>\n",
       "      <td>Bulgarian</td>\n",
       "      <td>Direct</td>\n",
       "      <td>15.516667</td>\n",
       "      <td>1979</td>\n",
       "      <td>1</td>\n",
       "      <td>NaN</td>\n",
       "      <td>7|17|16|11|15|18|4|9|1|13|2|10|6|14|5|12|8|3</td>\n",
       "    </tr>\n",
       "    <tr>\n",
       "      <th>2</th>\n",
       "      <td>0.0</td>\n",
       "      <td>0.0</td>\n",
       "      <td>0.0</td>\n",
       "      <td>0.0</td>\n",
       "      <td>0.0</td>\n",
       "      <td>0.0</td>\n",
       "      <td>1.0</td>\n",
       "      <td>0.0</td>\n",
       "      <td>0.0</td>\n",
       "      <td>0.0</td>\n",
       "      <td>...</td>\n",
       "      <td>1.0</td>\n",
       "      <td>Bulgaria</td>\n",
       "      <td>462</td>\n",
       "      <td>Bulgarian</td>\n",
       "      <td>Direct</td>\n",
       "      <td>7.700000</td>\n",
       "      <td>1975</td>\n",
       "      <td>3</td>\n",
       "      <td>NaN</td>\n",
       "      <td>11|8|4|7|12|18|3|14|6|16|17|1|2|13|5|15|9|10</td>\n",
       "    </tr>\n",
       "    <tr>\n",
       "      <th>3</th>\n",
       "      <td>0.0</td>\n",
       "      <td>0.0</td>\n",
       "      <td>0.0</td>\n",
       "      <td>0.0</td>\n",
       "      <td>0.0</td>\n",
       "      <td>0.0</td>\n",
       "      <td>1.0</td>\n",
       "      <td>0.0</td>\n",
       "      <td>1.0</td>\n",
       "      <td>0.0</td>\n",
       "      <td>...</td>\n",
       "      <td>NaN</td>\n",
       "      <td>Bulgaria</td>\n",
       "      <td>412</td>\n",
       "      <td>Bulgarian</td>\n",
       "      <td>Direct</td>\n",
       "      <td>6.866667</td>\n",
       "      <td>1977</td>\n",
       "      <td>1</td>\n",
       "      <td>NaN</td>\n",
       "      <td>16|7|6|9|12|18|10|8|5|15|2|3|4|14|11|1|17|13</td>\n",
       "    </tr>\n",
       "    <tr>\n",
       "      <th>4</th>\n",
       "      <td>0.0</td>\n",
       "      <td>0.0</td>\n",
       "      <td>0.0</td>\n",
       "      <td>0.0</td>\n",
       "      <td>0.0</td>\n",
       "      <td>1.0</td>\n",
       "      <td>1.0</td>\n",
       "      <td>1.0</td>\n",
       "      <td>1.0</td>\n",
       "      <td>1.0</td>\n",
       "      <td>...</td>\n",
       "      <td>NaN</td>\n",
       "      <td>Bulgaria</td>\n",
       "      <td>490</td>\n",
       "      <td>Bulgarian</td>\n",
       "      <td>Direct</td>\n",
       "      <td>8.166667</td>\n",
       "      <td>1970</td>\n",
       "      <td>1</td>\n",
       "      <td>NaN</td>\n",
       "      <td>13|4|3|7|9|18|16|8|14|1|6|12|17|10|5|2|11|15</td>\n",
       "    </tr>\n",
       "  </tbody>\n",
       "</table>\n",
       "<p>5 rows × 39 columns</p>\n",
       "</div>"
      ],
      "text/plain": [
       "     1    2    3    4    5    6    7    8    9   10  ...  Loss_Intuition  \\\n",
       "0  1.0  0.0  0.0  1.0  1.0  1.0  1.0  0.0  1.0  1.0  ...             1.0   \n",
       "1  0.0  0.0  0.0  0.0  0.0  0.0  0.0  0.0  1.0  0.0  ...             NaN   \n",
       "2  0.0  0.0  0.0  0.0  0.0  0.0  1.0  0.0  0.0  0.0  ...             1.0   \n",
       "3  0.0  0.0  0.0  0.0  0.0  0.0  1.0  0.0  1.0  0.0  ...             NaN   \n",
       "4  0.0  0.0  0.0  0.0  0.0  1.0  1.0  1.0  1.0  1.0  ...             NaN   \n",
       "\n",
       "    Country  Duration_in_seconds   Language  Sample  Duration_Minutes   YoB  \\\n",
       "0  Bulgaria                  356  Bulgarian  Direct          5.933333  1992   \n",
       "1  Bulgaria                  931  Bulgarian  Direct         15.516667  1979   \n",
       "2  Bulgaria                  462  Bulgarian  Direct          7.700000  1975   \n",
       "3  Bulgaria                  412  Bulgarian  Direct          6.866667  1977   \n",
       "4  Bulgaria                  490  Bulgarian  Direct          8.166667  1970   \n",
       "\n",
       "  Awareness_of_Loss_Aversion  Financial_Stress  \\\n",
       "0                          3               NaN   \n",
       "1                          1               NaN   \n",
       "2                          3               NaN   \n",
       "3                          1               NaN   \n",
       "4                          1               NaN   \n",
       "\n",
       "                             Presentation_Order  \n",
       "0  4|6|2|3|17|18|14|8|7|15|1|12|11|5|13|16|9|10  \n",
       "1  7|17|16|11|15|18|4|9|1|13|2|10|6|14|5|12|8|3  \n",
       "2  11|8|4|7|12|18|3|14|6|16|17|1|2|13|5|15|9|10  \n",
       "3  16|7|6|9|12|18|10|8|5|15|2|3|4|14|11|1|17|13  \n",
       "4  13|4|3|7|9|18|16|8|14|1|6|12|17|10|5|2|11|15  \n",
       "\n",
       "[5 rows x 39 columns]"
      ]
     },
     "execution_count": 5,
     "metadata": {},
     "output_type": "execute_result"
    }
   ],
   "source": [
    "data.head()"
   ]
  },
  {
   "cell_type": "markdown",
   "metadata": {},
   "source": [
    "# Sample overview"
   ]
  },
  {
   "cell_type": "code",
   "execution_count": 6,
   "metadata": {},
   "outputs": [],
   "source": [
    "sample_size_df = pd.DataFrame(data[\"Country\"].value_counts())\n",
    "sample_size_df.columns = [\"Total n\"]"
   ]
  },
  {
   "cell_type": "code",
   "execution_count": 7,
   "metadata": {},
   "outputs": [],
   "source": [
    "sample_size_df[\"Direct n\"] = data.loc[data[\"Sample\"]==\"Direct\", \"Country\"].value_counts()\n",
    "sample_size_df[\"Paid n\"] = data.loc[data[\"Sample\"]==\"Paid\", \"Country\"].value_counts()"
   ]
  },
  {
   "cell_type": "code",
   "execution_count": 8,
   "metadata": {},
   "outputs": [],
   "source": [
    "sample_size_df.loc[sample_size_df[\"Paid n\"].notna(), \"Paid n\"] = sample_size_df.loc[\n",
    "    sample_size_df[\"Paid n\"].notna(), \"Paid n\"].round()\n",
    "sample_size_df = sample_size_df.loc[:, [\"Direct n\", \"Paid n\", \"Total n\"]]\n",
    "sample_size_df.to_excel(\"../output/Sample Size.xlsx\")\n",
    "sample_size_df.to_csv(\"../output/Sample Size.csv\")"
   ]
  },
  {
   "cell_type": "markdown",
   "metadata": {},
   "source": [
    "# Creating long format data frames"
   ]
  },
  {
   "cell_type": "markdown",
   "metadata": {},
   "source": [
    "### Create a vector of original PT proportions"
   ]
  },
  {
   "cell_type": "code",
   "execution_count": 9,
   "metadata": {},
   "outputs": [
    {
     "data": {
      "text/plain": [
       "1     0.18\n",
       "2     0.83\n",
       "3     0.20\n",
       "4     0.65\n",
       "5     0.14\n",
       "6     0.73\n",
       "7     0.92\n",
       "8     0.42\n",
       "9     0.92\n",
       "10    0.30\n",
       "11    0.22\n",
       "12    0.16\n",
       "13    0.69\n",
       "14    0.18\n",
       "15    0.70\n",
       "16    0.72\n",
       "17    0.17\n",
       "dtype: float64"
      ]
     },
     "execution_count": 9,
     "metadata": {},
     "output_type": "execute_result"
    }
   ],
   "source": [
    "original_pt_proportions = pd.Series([0.18, 0.83, 0.20, 0.65, 0.14, 0.73, 0.92, 0.42, 0.92, 0.30, 0.22, 0.16, 0.69, 0.18, 0.70, 0.72, 0.17],\n",
    "                                   index=[str(i) for i in np.arange(1, 18)])\n",
    "original_pt_proportions"
   ]
  },
  {
   "cell_type": "markdown",
   "metadata": {},
   "source": [
    "# Create a dataframe for original PT Proportions"
   ]
  },
  {
   "cell_type": "code",
   "execution_count": 64,
   "metadata": {},
   "outputs": [],
   "source": [
    "original_pt_proportions_df = pd.DataFrame(original_pt_proportions)\n",
    "original_pt_proportions_df = original_pt_proportions_df.reset_index()\n",
    "original_pt_proportions_df.columns = [\"Item\", \"Proportion\"]\n",
    "original_pt_proportions_df[\"Item\"] = original_pt_proportions_df[\"Item\"].astype(str)\n",
    "original_pt_proportions_df[\"Country\"] = \"Original\"\n",
    "original_pt_proportions_df.to_csv(\"../output/original_proportions.csv\", index=False)"
   ]
  },
  {
   "cell_type": "markdown",
   "metadata": {},
   "source": [
    "### Pivoting the replication data to a long format with response proportions per item per country"
   ]
  },
  {
   "cell_type": "code",
   "execution_count": 11,
   "metadata": {},
   "outputs": [],
   "source": [
    "long_data = data.groupby(\"Country\")[[str(i) for i in np.arange(1, 18)]].mean().reset_index().melt(id_vars=\"Country\", value_vars=[str(i) for i in np.arange(1, 18)],\n",
    "                                                                                   var_name=\"Item\", value_name=\"Proportion\")"
   ]
  },
  {
   "cell_type": "markdown",
   "metadata": {},
   "source": [
    "### Creating dataframe combining proportions from the replication and the original"
   ]
  },
  {
   "cell_type": "code",
   "execution_count": 12,
   "metadata": {},
   "outputs": [],
   "source": [
    "long_data_combinded = pd.concat([long_data, original_pt_proportions_df], ignore_index=True, sort=True)"
   ]
  },
  {
   "cell_type": "code",
   "execution_count": 13,
   "metadata": {},
   "outputs": [
    {
     "data": {
      "text/html": [
       "<div>\n",
       "<style scoped>\n",
       "    .dataframe tbody tr th:only-of-type {\n",
       "        vertical-align: middle;\n",
       "    }\n",
       "\n",
       "    .dataframe tbody tr th {\n",
       "        vertical-align: top;\n",
       "    }\n",
       "\n",
       "    .dataframe thead th {\n",
       "        text-align: right;\n",
       "    }\n",
       "</style>\n",
       "<table border=\"1\" class=\"dataframe\">\n",
       "  <thead>\n",
       "    <tr style=\"text-align: right;\">\n",
       "      <th></th>\n",
       "      <th>Country</th>\n",
       "      <th>Item</th>\n",
       "      <th>Proportion</th>\n",
       "    </tr>\n",
       "  </thead>\n",
       "  <tbody>\n",
       "    <tr>\n",
       "      <th>335</th>\n",
       "      <td>Original</td>\n",
       "      <td>13</td>\n",
       "      <td>0.69</td>\n",
       "    </tr>\n",
       "    <tr>\n",
       "      <th>336</th>\n",
       "      <td>Original</td>\n",
       "      <td>14</td>\n",
       "      <td>0.18</td>\n",
       "    </tr>\n",
       "    <tr>\n",
       "      <th>337</th>\n",
       "      <td>Original</td>\n",
       "      <td>15</td>\n",
       "      <td>0.70</td>\n",
       "    </tr>\n",
       "    <tr>\n",
       "      <th>338</th>\n",
       "      <td>Original</td>\n",
       "      <td>16</td>\n",
       "      <td>0.72</td>\n",
       "    </tr>\n",
       "    <tr>\n",
       "      <th>339</th>\n",
       "      <td>Original</td>\n",
       "      <td>17</td>\n",
       "      <td>0.17</td>\n",
       "    </tr>\n",
       "  </tbody>\n",
       "</table>\n",
       "</div>"
      ],
      "text/plain": [
       "      Country Item  Proportion\n",
       "335  Original   13        0.69\n",
       "336  Original   14        0.18\n",
       "337  Original   15        0.70\n",
       "338  Original   16        0.72\n",
       "339  Original   17        0.17"
      ]
     },
     "execution_count": 13,
     "metadata": {},
     "output_type": "execute_result"
    }
   ],
   "source": [
    "long_data_combinded.tail()"
   ]
  },
  {
   "cell_type": "markdown",
   "metadata": {},
   "source": [
    "# Data wrangling with the proportions"
   ]
  },
  {
   "cell_type": "markdown",
   "metadata": {},
   "source": [
    "### Create wide dataframe with response proportion per item per country"
   ]
  },
  {
   "cell_type": "code",
   "execution_count": 14,
   "metadata": {},
   "outputs": [
    {
     "data": {
      "text/html": [
       "<div>\n",
       "<style scoped>\n",
       "    .dataframe tbody tr th:only-of-type {\n",
       "        vertical-align: middle;\n",
       "    }\n",
       "\n",
       "    .dataframe tbody tr th {\n",
       "        vertical-align: top;\n",
       "    }\n",
       "\n",
       "    .dataframe thead th {\n",
       "        text-align: right;\n",
       "    }\n",
       "</style>\n",
       "<table border=\"1\" class=\"dataframe\">\n",
       "  <thead>\n",
       "    <tr style=\"text-align: right;\">\n",
       "      <th></th>\n",
       "      <th>1</th>\n",
       "      <th>2</th>\n",
       "      <th>3</th>\n",
       "      <th>4</th>\n",
       "      <th>5</th>\n",
       "      <th>6</th>\n",
       "      <th>7</th>\n",
       "      <th>8</th>\n",
       "      <th>9</th>\n",
       "      <th>10</th>\n",
       "      <th>11</th>\n",
       "      <th>12</th>\n",
       "      <th>13</th>\n",
       "      <th>14</th>\n",
       "      <th>15</th>\n",
       "      <th>16</th>\n",
       "      <th>17</th>\n",
       "    </tr>\n",
       "    <tr>\n",
       "      <th>Country</th>\n",
       "      <th></th>\n",
       "      <th></th>\n",
       "      <th></th>\n",
       "      <th></th>\n",
       "      <th></th>\n",
       "      <th></th>\n",
       "      <th></th>\n",
       "      <th></th>\n",
       "      <th></th>\n",
       "      <th></th>\n",
       "      <th></th>\n",
       "      <th></th>\n",
       "      <th></th>\n",
       "      <th></th>\n",
       "      <th></th>\n",
       "      <th></th>\n",
       "      <th></th>\n",
       "    </tr>\n",
       "  </thead>\n",
       "  <tbody>\n",
       "    <tr>\n",
       "      <th>Australia</th>\n",
       "      <td>0.446809</td>\n",
       "      <td>0.705674</td>\n",
       "      <td>0.152482</td>\n",
       "      <td>0.524823</td>\n",
       "      <td>0.095745</td>\n",
       "      <td>0.673759</td>\n",
       "      <td>0.695035</td>\n",
       "      <td>0.432624</td>\n",
       "      <td>0.815603</td>\n",
       "      <td>0.340426</td>\n",
       "      <td>0.145390</td>\n",
       "      <td>0.262411</td>\n",
       "      <td>0.528369</td>\n",
       "      <td>0.158915</td>\n",
       "      <td>0.557554</td>\n",
       "      <td>0.634752</td>\n",
       "      <td>0.365248</td>\n",
       "    </tr>\n",
       "    <tr>\n",
       "      <th>Austria</th>\n",
       "      <td>0.198198</td>\n",
       "      <td>0.549550</td>\n",
       "      <td>0.090090</td>\n",
       "      <td>0.414414</td>\n",
       "      <td>0.126126</td>\n",
       "      <td>0.657658</td>\n",
       "      <td>0.828829</td>\n",
       "      <td>0.459459</td>\n",
       "      <td>0.810811</td>\n",
       "      <td>0.378378</td>\n",
       "      <td>0.081081</td>\n",
       "      <td>0.189189</td>\n",
       "      <td>0.621622</td>\n",
       "      <td>0.144144</td>\n",
       "      <td>0.648649</td>\n",
       "      <td>0.558559</td>\n",
       "      <td>0.441441</td>\n",
       "    </tr>\n",
       "    <tr>\n",
       "      <th>Belgium</th>\n",
       "      <td>0.192708</td>\n",
       "      <td>0.645833</td>\n",
       "      <td>0.125000</td>\n",
       "      <td>0.489583</td>\n",
       "      <td>0.072917</td>\n",
       "      <td>0.656250</td>\n",
       "      <td>0.833333</td>\n",
       "      <td>0.510417</td>\n",
       "      <td>0.828125</td>\n",
       "      <td>0.380208</td>\n",
       "      <td>0.135417</td>\n",
       "      <td>0.276042</td>\n",
       "      <td>0.651042</td>\n",
       "      <td>0.267016</td>\n",
       "      <td>0.638743</td>\n",
       "      <td>0.463542</td>\n",
       "      <td>0.442708</td>\n",
       "    </tr>\n",
       "    <tr>\n",
       "      <th>Bulgaria</th>\n",
       "      <td>0.181102</td>\n",
       "      <td>0.566929</td>\n",
       "      <td>0.118110</td>\n",
       "      <td>0.511811</td>\n",
       "      <td>0.125984</td>\n",
       "      <td>0.645669</td>\n",
       "      <td>0.858268</td>\n",
       "      <td>0.598425</td>\n",
       "      <td>0.811024</td>\n",
       "      <td>0.559055</td>\n",
       "      <td>0.165354</td>\n",
       "      <td>0.267717</td>\n",
       "      <td>0.653543</td>\n",
       "      <td>0.204724</td>\n",
       "      <td>0.645669</td>\n",
       "      <td>0.622047</td>\n",
       "      <td>0.606299</td>\n",
       "    </tr>\n",
       "    <tr>\n",
       "      <th>Chile</th>\n",
       "      <td>0.186207</td>\n",
       "      <td>0.565517</td>\n",
       "      <td>0.103448</td>\n",
       "      <td>0.475862</td>\n",
       "      <td>0.096552</td>\n",
       "      <td>0.606897</td>\n",
       "      <td>0.827586</td>\n",
       "      <td>0.558621</td>\n",
       "      <td>0.772414</td>\n",
       "      <td>0.503448</td>\n",
       "      <td>0.165517</td>\n",
       "      <td>0.165517</td>\n",
       "      <td>0.703448</td>\n",
       "      <td>0.103448</td>\n",
       "      <td>0.648276</td>\n",
       "      <td>0.448276</td>\n",
       "      <td>0.537931</td>\n",
       "    </tr>\n",
       "  </tbody>\n",
       "</table>\n",
       "</div>"
      ],
      "text/plain": [
       "                  1         2         3         4         5         6  \\\n",
       "Country                                                                 \n",
       "Australia  0.446809  0.705674  0.152482  0.524823  0.095745  0.673759   \n",
       "Austria    0.198198  0.549550  0.090090  0.414414  0.126126  0.657658   \n",
       "Belgium    0.192708  0.645833  0.125000  0.489583  0.072917  0.656250   \n",
       "Bulgaria   0.181102  0.566929  0.118110  0.511811  0.125984  0.645669   \n",
       "Chile      0.186207  0.565517  0.103448  0.475862  0.096552  0.606897   \n",
       "\n",
       "                  7         8         9        10        11        12  \\\n",
       "Country                                                                 \n",
       "Australia  0.695035  0.432624  0.815603  0.340426  0.145390  0.262411   \n",
       "Austria    0.828829  0.459459  0.810811  0.378378  0.081081  0.189189   \n",
       "Belgium    0.833333  0.510417  0.828125  0.380208  0.135417  0.276042   \n",
       "Bulgaria   0.858268  0.598425  0.811024  0.559055  0.165354  0.267717   \n",
       "Chile      0.827586  0.558621  0.772414  0.503448  0.165517  0.165517   \n",
       "\n",
       "                 13        14        15        16        17  \n",
       "Country                                                      \n",
       "Australia  0.528369  0.158915  0.557554  0.634752  0.365248  \n",
       "Austria    0.621622  0.144144  0.648649  0.558559  0.441441  \n",
       "Belgium    0.651042  0.267016  0.638743  0.463542  0.442708  \n",
       "Bulgaria   0.653543  0.204724  0.645669  0.622047  0.606299  \n",
       "Chile      0.703448  0.103448  0.648276  0.448276  0.537931  "
      ]
     },
     "execution_count": 14,
     "metadata": {},
     "output_type": "execute_result"
    }
   ],
   "source": [
    "country_proportions = data.groupby(\"Country\")[[str(i) for i in np.arange(1, 18)]].mean()\n",
    "country_proportions.head()"
   ]
  },
  {
   "cell_type": "markdown",
   "metadata": {},
   "source": [
    "### check the extent to which the current proportion of A choices deviate from the original study"
   ]
  },
  {
   "cell_type": "code",
   "execution_count": 15,
   "metadata": {},
   "outputs": [
    {
     "data": {
      "text/html": [
       "<div>\n",
       "<style scoped>\n",
       "    .dataframe tbody tr th:only-of-type {\n",
       "        vertical-align: middle;\n",
       "    }\n",
       "\n",
       "    .dataframe tbody tr th {\n",
       "        vertical-align: top;\n",
       "    }\n",
       "\n",
       "    .dataframe thead th {\n",
       "        text-align: right;\n",
       "    }\n",
       "</style>\n",
       "<table border=\"1\" class=\"dataframe\">\n",
       "  <thead>\n",
       "    <tr style=\"text-align: right;\">\n",
       "      <th></th>\n",
       "      <th>1</th>\n",
       "      <th>2</th>\n",
       "      <th>3</th>\n",
       "      <th>4</th>\n",
       "      <th>5</th>\n",
       "      <th>6</th>\n",
       "      <th>7</th>\n",
       "      <th>8</th>\n",
       "      <th>9</th>\n",
       "      <th>10</th>\n",
       "      <th>11</th>\n",
       "      <th>12</th>\n",
       "      <th>13</th>\n",
       "      <th>14</th>\n",
       "      <th>15</th>\n",
       "      <th>16</th>\n",
       "      <th>17</th>\n",
       "    </tr>\n",
       "    <tr>\n",
       "      <th>Country</th>\n",
       "      <th></th>\n",
       "      <th></th>\n",
       "      <th></th>\n",
       "      <th></th>\n",
       "      <th></th>\n",
       "      <th></th>\n",
       "      <th></th>\n",
       "      <th></th>\n",
       "      <th></th>\n",
       "      <th></th>\n",
       "      <th></th>\n",
       "      <th></th>\n",
       "      <th></th>\n",
       "      <th></th>\n",
       "      <th></th>\n",
       "      <th></th>\n",
       "      <th></th>\n",
       "    </tr>\n",
       "  </thead>\n",
       "  <tbody>\n",
       "    <tr>\n",
       "      <th>Australia</th>\n",
       "      <td>0.266809</td>\n",
       "      <td>-0.124326</td>\n",
       "      <td>-0.047518</td>\n",
       "      <td>-0.125177</td>\n",
       "      <td>-0.044255</td>\n",
       "      <td>-0.056241</td>\n",
       "      <td>-0.224965</td>\n",
       "      <td>0.012624</td>\n",
       "      <td>-0.104397</td>\n",
       "      <td>0.040426</td>\n",
       "      <td>-0.074610</td>\n",
       "      <td>0.102411</td>\n",
       "      <td>-0.161631</td>\n",
       "      <td>-0.021085</td>\n",
       "      <td>-0.142446</td>\n",
       "      <td>-0.085248</td>\n",
       "      <td>0.195248</td>\n",
       "    </tr>\n",
       "    <tr>\n",
       "      <th>Austria</th>\n",
       "      <td>0.018198</td>\n",
       "      <td>-0.280450</td>\n",
       "      <td>-0.109910</td>\n",
       "      <td>-0.235586</td>\n",
       "      <td>-0.013874</td>\n",
       "      <td>-0.072342</td>\n",
       "      <td>-0.091171</td>\n",
       "      <td>0.039459</td>\n",
       "      <td>-0.109189</td>\n",
       "      <td>0.078378</td>\n",
       "      <td>-0.138919</td>\n",
       "      <td>0.029189</td>\n",
       "      <td>-0.068378</td>\n",
       "      <td>-0.035856</td>\n",
       "      <td>-0.051351</td>\n",
       "      <td>-0.161441</td>\n",
       "      <td>0.271441</td>\n",
       "    </tr>\n",
       "    <tr>\n",
       "      <th>Belgium</th>\n",
       "      <td>0.012708</td>\n",
       "      <td>-0.184167</td>\n",
       "      <td>-0.075000</td>\n",
       "      <td>-0.160417</td>\n",
       "      <td>-0.067083</td>\n",
       "      <td>-0.073750</td>\n",
       "      <td>-0.086667</td>\n",
       "      <td>0.090417</td>\n",
       "      <td>-0.091875</td>\n",
       "      <td>0.080208</td>\n",
       "      <td>-0.084583</td>\n",
       "      <td>0.116042</td>\n",
       "      <td>-0.038958</td>\n",
       "      <td>0.087016</td>\n",
       "      <td>-0.061257</td>\n",
       "      <td>-0.256458</td>\n",
       "      <td>0.272708</td>\n",
       "    </tr>\n",
       "    <tr>\n",
       "      <th>Bulgaria</th>\n",
       "      <td>0.001102</td>\n",
       "      <td>-0.263071</td>\n",
       "      <td>-0.081890</td>\n",
       "      <td>-0.138189</td>\n",
       "      <td>-0.014016</td>\n",
       "      <td>-0.084331</td>\n",
       "      <td>-0.061732</td>\n",
       "      <td>0.178425</td>\n",
       "      <td>-0.108976</td>\n",
       "      <td>0.259055</td>\n",
       "      <td>-0.054646</td>\n",
       "      <td>0.107717</td>\n",
       "      <td>-0.036457</td>\n",
       "      <td>0.024724</td>\n",
       "      <td>-0.054331</td>\n",
       "      <td>-0.097953</td>\n",
       "      <td>0.436299</td>\n",
       "    </tr>\n",
       "    <tr>\n",
       "      <th>Chile</th>\n",
       "      <td>0.006207</td>\n",
       "      <td>-0.264483</td>\n",
       "      <td>-0.096552</td>\n",
       "      <td>-0.174138</td>\n",
       "      <td>-0.043448</td>\n",
       "      <td>-0.123103</td>\n",
       "      <td>-0.092414</td>\n",
       "      <td>0.138621</td>\n",
       "      <td>-0.147586</td>\n",
       "      <td>0.203448</td>\n",
       "      <td>-0.054483</td>\n",
       "      <td>0.005517</td>\n",
       "      <td>0.013448</td>\n",
       "      <td>-0.076552</td>\n",
       "      <td>-0.051724</td>\n",
       "      <td>-0.271724</td>\n",
       "      <td>0.367931</td>\n",
       "    </tr>\n",
       "  </tbody>\n",
       "</table>\n",
       "</div>"
      ],
      "text/plain": [
       "                  1         2         3         4         5         6  \\\n",
       "Country                                                                 \n",
       "Australia  0.266809 -0.124326 -0.047518 -0.125177 -0.044255 -0.056241   \n",
       "Austria    0.018198 -0.280450 -0.109910 -0.235586 -0.013874 -0.072342   \n",
       "Belgium    0.012708 -0.184167 -0.075000 -0.160417 -0.067083 -0.073750   \n",
       "Bulgaria   0.001102 -0.263071 -0.081890 -0.138189 -0.014016 -0.084331   \n",
       "Chile      0.006207 -0.264483 -0.096552 -0.174138 -0.043448 -0.123103   \n",
       "\n",
       "                  7         8         9        10        11        12  \\\n",
       "Country                                                                 \n",
       "Australia -0.224965  0.012624 -0.104397  0.040426 -0.074610  0.102411   \n",
       "Austria   -0.091171  0.039459 -0.109189  0.078378 -0.138919  0.029189   \n",
       "Belgium   -0.086667  0.090417 -0.091875  0.080208 -0.084583  0.116042   \n",
       "Bulgaria  -0.061732  0.178425 -0.108976  0.259055 -0.054646  0.107717   \n",
       "Chile     -0.092414  0.138621 -0.147586  0.203448 -0.054483  0.005517   \n",
       "\n",
       "                 13        14        15        16        17  \n",
       "Country                                                      \n",
       "Australia -0.161631 -0.021085 -0.142446 -0.085248  0.195248  \n",
       "Austria   -0.068378 -0.035856 -0.051351 -0.161441  0.271441  \n",
       "Belgium   -0.038958  0.087016 -0.061257 -0.256458  0.272708  \n",
       "Bulgaria  -0.036457  0.024724 -0.054331 -0.097953  0.436299  \n",
       "Chile      0.013448 -0.076552 -0.051724 -0.271724  0.367931  "
      ]
     },
     "execution_count": 15,
     "metadata": {},
     "output_type": "execute_result"
    }
   ],
   "source": [
    "country_deviations = country_proportions - original_pt_proportions\n",
    "country_deviations.head()"
   ]
  },
  {
   "cell_type": "markdown",
   "metadata": {},
   "source": [
    "### Quantify how far the original PT proportions were from a 50-50 split"
   ]
  },
  {
   "cell_type": "code",
   "execution_count": 16,
   "metadata": {},
   "outputs": [],
   "source": [
    "original_pt_distance_from_indifference = original_pt_proportions - 0.5"
   ]
  },
  {
   "cell_type": "markdown",
   "metadata": {},
   "source": [
    "### Transform the difference in proportion to a difference in effect size, accounting for whether the majority chose option A in the original study. I.e. if the original proportion was less than 0.5 an increase in proportion is treated as decrease in effect and vice versa."
   ]
  },
  {
   "cell_type": "code",
   "execution_count": 17,
   "metadata": {},
   "outputs": [],
   "source": [
    "country_deviations_signed = country_deviations.copy()\n",
    "for col in country_deviations:\n",
    "    if original_pt_distance_from_indifference[col] < 0:\n",
    "        country_deviations_signed[col] = country_deviations_signed[col]*-1"
   ]
  },
  {
   "cell_type": "markdown",
   "metadata": {},
   "source": [
    "# Comparing differences in effect size from the original between countries and between Items"
   ]
  },
  {
   "cell_type": "code",
   "execution_count": 18,
   "metadata": {},
   "outputs": [
    {
     "data": {
      "text/plain": [
       "Country\n",
       "Slovenia         -0.109071\n",
       "Serbia           -0.103812\n",
       "Bulgaria         -0.100107\n",
       "Mainland China   -0.099937\n",
       "Italy            -0.097360\n",
       "Hong Kong        -0.095561\n",
       "USA              -0.093723\n",
       "Chile            -0.091907\n",
       "Germany          -0.091047\n",
       "Australia        -0.085558\n",
       "Belgium          -0.081528\n",
       "Ireland          -0.081515\n",
       "Hungary          -0.078715\n",
       "Denmark          -0.078627\n",
       "Sweden           -0.077194\n",
       "Austria          -0.071060\n",
       "Spain            -0.069126\n",
       "UK               -0.065343\n",
       "Norway           -0.053581\n",
       "dtype: float64"
      ]
     },
     "execution_count": 18,
     "metadata": {},
     "output_type": "execute_result"
    }
   ],
   "source": [
    "country_deviations_signed.mean(1).sort_values()"
   ]
  },
  {
   "cell_type": "markdown",
   "metadata": {},
   "source": [
    "### The range for country deviation form the original study is 5%. All countries show a smaller effect than the original study"
   ]
  },
  {
   "cell_type": "code",
   "execution_count": 19,
   "metadata": {},
   "outputs": [
    {
     "data": {
      "text/plain": [
       "17   -0.262927\n",
       "2    -0.217742\n",
       "16   -0.145438\n",
       "4    -0.141856\n",
       "10   -0.130317\n",
       "9    -0.125516\n",
       "7    -0.122677\n",
       "12   -0.090539\n",
       "15   -0.085043\n",
       "8    -0.082913\n",
       "6    -0.078992\n",
       "13   -0.074606\n",
       "1    -0.063367\n",
       "14    0.001623\n",
       "5     0.031387\n",
       "11    0.060408\n",
       "3     0.074771\n",
       "dtype: float64"
      ]
     },
     "execution_count": 19,
     "metadata": {},
     "output_type": "execute_result"
    }
   ],
   "source": [
    "country_deviations_signed.mean(0).sort_values()"
   ]
  },
  {
   "cell_type": "markdown",
   "metadata": {},
   "source": [
    "### Range for items is  over 30%, and three items show a greater effect than in the original study"
   ]
  },
  {
   "cell_type": "code",
   "execution_count": 20,
   "metadata": {},
   "outputs": [
    {
     "data": {
      "text/plain": [
       "Country\n",
       "Australia         0.099013\n",
       "Austria           0.117945\n",
       "Belgium           0.102024\n",
       "Bulgaria          0.128943\n",
       "Chile             0.135769\n",
       "Denmark           0.104010\n",
       "Germany           0.096131\n",
       "Hong Kong         0.084780\n",
       "Hungary           0.106656\n",
       "Ireland           0.133570\n",
       "Italy             0.098792\n",
       "Mainland China    0.097058\n",
       "Norway            0.113455\n",
       "Serbia            0.090144\n",
       "Slovenia          0.086970\n",
       "Spain             0.091175\n",
       "Sweden            0.111519\n",
       "UK                0.099581\n",
       "USA               0.123843\n",
       "dtype: float64"
      ]
     },
     "execution_count": 20,
     "metadata": {},
     "output_type": "execute_result"
    }
   ],
   "source": [
    "country_deviations_signed.std(1)"
   ]
  },
  {
   "cell_type": "markdown",
   "metadata": {},
   "source": [
    "### The standard deviation in all countries is between 9 and 12%"
   ]
  },
  {
   "cell_type": "markdown",
   "metadata": {},
   "source": [
    "# Creating pivoting the country deviations data to the long form"
   ]
  },
  {
   "cell_type": "code",
   "execution_count": 21,
   "metadata": {},
   "outputs": [],
   "source": [
    "country_deviations_signed_long = country_deviations_signed.reset_index().melt(id_vars=\"Country\",\n",
    "                                                                             var_name=\"Item\", value_name=\"Deviation\")"
   ]
  },
  {
   "cell_type": "code",
   "execution_count": 22,
   "metadata": {},
   "outputs": [],
   "source": [
    "country_deviations_signed_long[\"Sample Size\"] = data.groupby(\"Country\")[[str(i) for i in np.arange(1, 18)]].count().melt()[\"value\"]"
   ]
  },
  {
   "cell_type": "code",
   "execution_count": 23,
   "metadata": {},
   "outputs": [],
   "source": [
    "country_deviations_signed_long[\"Sign Difference\"] = (original_pt_distance_from_indifference.apply(np.sign) == (country_proportions - .5).apply(np.sign)).melt()[\"value\"]"
   ]
  },
  {
   "cell_type": "code",
   "execution_count": 24,
   "metadata": {},
   "outputs": [],
   "source": [
    "country_deviations_signed_long[\"Sign Difference\"] = ~country_deviations_signed_long[\"Sign Difference\"]"
   ]
  },
  {
   "cell_type": "markdown",
   "metadata": {},
   "source": [
    "# Item-by-item chisquare tests"
   ]
  },
  {
   "cell_type": "code",
   "execution_count": 25,
   "metadata": {},
   "outputs": [],
   "source": [
    "from scipy.stats import chisquare"
   ]
  },
  {
   "cell_type": "markdown",
   "metadata": {},
   "source": [
    "# Analyses by country"
   ]
  },
  {
   "cell_type": "markdown",
   "metadata": {},
   "source": [
    "### Running chisquare tests per item per country, and saving the results in vectors"
   ]
  },
  {
   "cell_type": "code",
   "execution_count": 26,
   "metadata": {},
   "outputs": [
    {
     "name": "stdout",
     "output_type": "stream",
     "text": [
      "Wall time: 385 ms\n"
     ]
    }
   ],
   "source": [
    "%%time\n",
    "country_p_values = {}\n",
    "country_chi_squares = {}\n",
    "for country in data[\"Country\"].unique():\n",
    "    item_p_values = {}\n",
    "    item_chi_squares = {}\n",
    "    for col in [str(i) for i in np.arange(1, 18)]:\n",
    "        observations = data.loc[data[\"Country\"] == country, col].value_counts().values\n",
    "        chi, p = chisquare(observations)\n",
    "        item_p_values[col] = p\n",
    "        item_chi_squares[col] = chi\n",
    "        if col == \"17\":\n",
    "            country_p_values[country] = item_p_values   \n",
    "            country_chi_squares[country] = item_chi_squares\n",
    "        "
   ]
  },
  {
   "cell_type": "markdown",
   "metadata": {},
   "source": [
    "### Creating a dataframe from the results vector"
   ]
  },
  {
   "cell_type": "code",
   "execution_count": 27,
   "metadata": {},
   "outputs": [],
   "source": [
    "p_value_df = pd.DataFrame(country_p_values)\n",
    "p_value_df = p_value_df.loc[[str(i) for i in np.arange(1, 18)], :]"
   ]
  },
  {
   "cell_type": "code",
   "execution_count": 28,
   "metadata": {},
   "outputs": [],
   "source": [
    "chi_square_df = pd.DataFrame(country_chi_squares)\n",
    "chi_square_df =chi_square_df.loc[[str(i) for i in np.arange(1, 18)], :]"
   ]
  },
  {
   "cell_type": "markdown",
   "metadata": {},
   "source": [
    "# Adding the results from the chisquare tests to the long form country deviations"
   ]
  },
  {
   "cell_type": "markdown",
   "metadata": {},
   "source": [
    "### Adding sample size to the long form country deviations"
   ]
  },
  {
   "cell_type": "code",
   "execution_count": 29,
   "metadata": {},
   "outputs": [],
   "source": [
    "country_deviations_signed_long[\"Sample Size\"] = data.groupby(\"Country\")[[str(i) for i in np.arange(1, 18)]].count().melt()[\"value\"]"
   ]
  },
  {
   "cell_type": "markdown",
   "metadata": {},
   "source": [
    "### Checking whether the sign of the effect is the same as in the original study"
   ]
  },
  {
   "cell_type": "code",
   "execution_count": 30,
   "metadata": {},
   "outputs": [],
   "source": [
    "country_deviations_signed_long[\"Sign Difference\"] = (original_pt_distance_from_indifference.apply(np.sign) == (country_proportions - .5).apply(np.sign)).melt()[\"value\"]"
   ]
  },
  {
   "cell_type": "code",
   "execution_count": 31,
   "metadata": {},
   "outputs": [],
   "source": [
    "country_deviations_signed_long[\"Sign Difference\"] = ~country_deviations_signed_long[\"Sign Difference\"]"
   ]
  },
  {
   "cell_type": "code",
   "execution_count": 32,
   "metadata": {},
   "outputs": [
    {
     "data": {
      "text/html": [
       "<div>\n",
       "<style scoped>\n",
       "    .dataframe tbody tr th:only-of-type {\n",
       "        vertical-align: middle;\n",
       "    }\n",
       "\n",
       "    .dataframe tbody tr th {\n",
       "        vertical-align: top;\n",
       "    }\n",
       "\n",
       "    .dataframe thead th {\n",
       "        text-align: right;\n",
       "    }\n",
       "</style>\n",
       "<table border=\"1\" class=\"dataframe\">\n",
       "  <thead>\n",
       "    <tr style=\"text-align: right;\">\n",
       "      <th></th>\n",
       "      <th>Country</th>\n",
       "      <th>Item</th>\n",
       "      <th>Deviation</th>\n",
       "      <th>Sample Size</th>\n",
       "      <th>Sign Difference</th>\n",
       "    </tr>\n",
       "  </thead>\n",
       "  <tbody>\n",
       "    <tr>\n",
       "      <th>0</th>\n",
       "      <td>Australia</td>\n",
       "      <td>1</td>\n",
       "      <td>-0.266809</td>\n",
       "      <td>282</td>\n",
       "      <td>False</td>\n",
       "    </tr>\n",
       "    <tr>\n",
       "      <th>1</th>\n",
       "      <td>Austria</td>\n",
       "      <td>1</td>\n",
       "      <td>-0.018198</td>\n",
       "      <td>111</td>\n",
       "      <td>False</td>\n",
       "    </tr>\n",
       "    <tr>\n",
       "      <th>2</th>\n",
       "      <td>Belgium</td>\n",
       "      <td>1</td>\n",
       "      <td>-0.012708</td>\n",
       "      <td>192</td>\n",
       "      <td>False</td>\n",
       "    </tr>\n",
       "    <tr>\n",
       "      <th>3</th>\n",
       "      <td>Bulgaria</td>\n",
       "      <td>1</td>\n",
       "      <td>-0.001102</td>\n",
       "      <td>127</td>\n",
       "      <td>False</td>\n",
       "    </tr>\n",
       "    <tr>\n",
       "      <th>4</th>\n",
       "      <td>Chile</td>\n",
       "      <td>1</td>\n",
       "      <td>-0.006207</td>\n",
       "      <td>145</td>\n",
       "      <td>False</td>\n",
       "    </tr>\n",
       "  </tbody>\n",
       "</table>\n",
       "</div>"
      ],
      "text/plain": [
       "     Country Item  Deviation  Sample Size  Sign Difference\n",
       "0  Australia    1  -0.266809          282            False\n",
       "1    Austria    1  -0.018198          111            False\n",
       "2    Belgium    1  -0.012708          192            False\n",
       "3   Bulgaria    1  -0.001102          127            False\n",
       "4      Chile    1  -0.006207          145            False"
      ]
     },
     "execution_count": 32,
     "metadata": {},
     "output_type": "execute_result"
    }
   ],
   "source": [
    "country_deviations_signed_long.head()"
   ]
  },
  {
   "cell_type": "code",
   "execution_count": 33,
   "metadata": {},
   "outputs": [
    {
     "data": {
      "text/html": [
       "<div>\n",
       "<style scoped>\n",
       "    .dataframe tbody tr th:only-of-type {\n",
       "        vertical-align: middle;\n",
       "    }\n",
       "\n",
       "    .dataframe tbody tr th {\n",
       "        vertical-align: top;\n",
       "    }\n",
       "\n",
       "    .dataframe thead th {\n",
       "        text-align: right;\n",
       "    }\n",
       "</style>\n",
       "<table border=\"1\" class=\"dataframe\">\n",
       "  <thead>\n",
       "    <tr style=\"text-align: right;\">\n",
       "      <th></th>\n",
       "      <th>Country</th>\n",
       "      <th>Item</th>\n",
       "      <th>Deviation</th>\n",
       "      <th>Sample Size</th>\n",
       "      <th>Sign Difference</th>\n",
       "    </tr>\n",
       "  </thead>\n",
       "  <tbody>\n",
       "    <tr>\n",
       "      <th>318</th>\n",
       "      <td>Slovenia</td>\n",
       "      <td>17</td>\n",
       "      <td>-0.250792</td>\n",
       "      <td>202</td>\n",
       "      <td>False</td>\n",
       "    </tr>\n",
       "    <tr>\n",
       "      <th>319</th>\n",
       "      <td>Spain</td>\n",
       "      <td>17</td>\n",
       "      <td>-0.272211</td>\n",
       "      <td>199</td>\n",
       "      <td>False</td>\n",
       "    </tr>\n",
       "    <tr>\n",
       "      <th>320</th>\n",
       "      <td>Sweden</td>\n",
       "      <td>17</td>\n",
       "      <td>-0.132158</td>\n",
       "      <td>139</td>\n",
       "      <td>False</td>\n",
       "    </tr>\n",
       "    <tr>\n",
       "      <th>321</th>\n",
       "      <td>UK</td>\n",
       "      <td>17</td>\n",
       "      <td>-0.161034</td>\n",
       "      <td>290</td>\n",
       "      <td>False</td>\n",
       "    </tr>\n",
       "    <tr>\n",
       "      <th>322</th>\n",
       "      <td>USA</td>\n",
       "      <td>17</td>\n",
       "      <td>-0.274444</td>\n",
       "      <td>243</td>\n",
       "      <td>False</td>\n",
       "    </tr>\n",
       "  </tbody>\n",
       "</table>\n",
       "</div>"
      ],
      "text/plain": [
       "      Country Item  Deviation  Sample Size  Sign Difference\n",
       "318  Slovenia   17  -0.250792          202            False\n",
       "319     Spain   17  -0.272211          199            False\n",
       "320    Sweden   17  -0.132158          139            False\n",
       "321        UK   17  -0.161034          290            False\n",
       "322       USA   17  -0.274444          243            False"
      ]
     },
     "execution_count": 33,
     "metadata": {},
     "output_type": "execute_result"
    }
   ],
   "source": [
    "country_deviations_signed_long.tail()"
   ]
  },
  {
   "cell_type": "markdown",
   "metadata": {},
   "source": [
    "### Adding p-values"
   ]
  },
  {
   "cell_type": "code",
   "execution_count": 34,
   "metadata": {},
   "outputs": [],
   "source": [
    "p_value_long = p_value_df.reset_index().melt(id_vars=\"index\")\n",
    "p_value_long.columns = [\"Item\", \"Country\", \"p-value\"]\n",
    "p_value_long[\"Item\"] = p_value_long[\"Item\"].astype(int)\n",
    "p_value_long = p_value_long.sort_values(by=[\"Item\", \"Country\"])\n",
    "p_value_long = p_value_long.reset_index(drop=True)"
   ]
  },
  {
   "cell_type": "code",
   "execution_count": 35,
   "metadata": {},
   "outputs": [],
   "source": [
    "country_deviations_signed_long[\"p-value\"] = p_value_long[\"p-value\"]"
   ]
  },
  {
   "cell_type": "code",
   "execution_count": 36,
   "metadata": {},
   "outputs": [
    {
     "data": {
      "text/html": [
       "<div>\n",
       "<style scoped>\n",
       "    .dataframe tbody tr th:only-of-type {\n",
       "        vertical-align: middle;\n",
       "    }\n",
       "\n",
       "    .dataframe tbody tr th {\n",
       "        vertical-align: top;\n",
       "    }\n",
       "\n",
       "    .dataframe thead th {\n",
       "        text-align: right;\n",
       "    }\n",
       "</style>\n",
       "<table border=\"1\" class=\"dataframe\">\n",
       "  <thead>\n",
       "    <tr style=\"text-align: right;\">\n",
       "      <th></th>\n",
       "      <th>Item</th>\n",
       "      <th>Country</th>\n",
       "      <th>p-value</th>\n",
       "    </tr>\n",
       "  </thead>\n",
       "  <tbody>\n",
       "    <tr>\n",
       "      <th>0</th>\n",
       "      <td>1</td>\n",
       "      <td>Australia</td>\n",
       "      <td>7.402254e-02</td>\n",
       "    </tr>\n",
       "    <tr>\n",
       "      <th>1</th>\n",
       "      <td>1</td>\n",
       "      <td>Austria</td>\n",
       "      <td>2.025980e-10</td>\n",
       "    </tr>\n",
       "    <tr>\n",
       "      <th>2</th>\n",
       "      <td>1</td>\n",
       "      <td>Belgium</td>\n",
       "      <td>1.652779e-17</td>\n",
       "    </tr>\n",
       "    <tr>\n",
       "      <th>3</th>\n",
       "      <td>1</td>\n",
       "      <td>Bulgaria</td>\n",
       "      <td>6.594603e-13</td>\n",
       "    </tr>\n",
       "    <tr>\n",
       "      <th>4</th>\n",
       "      <td>1</td>\n",
       "      <td>Chile</td>\n",
       "      <td>4.120326e-14</td>\n",
       "    </tr>\n",
       "  </tbody>\n",
       "</table>\n",
       "</div>"
      ],
      "text/plain": [
       "   Item    Country       p-value\n",
       "0     1  Australia  7.402254e-02\n",
       "1     1    Austria  2.025980e-10\n",
       "2     1    Belgium  1.652779e-17\n",
       "3     1   Bulgaria  6.594603e-13\n",
       "4     1      Chile  4.120326e-14"
      ]
     },
     "execution_count": 36,
     "metadata": {},
     "output_type": "execute_result"
    }
   ],
   "source": [
    "p_value_long.head()"
   ]
  },
  {
   "cell_type": "code",
   "execution_count": 37,
   "metadata": {},
   "outputs": [
    {
     "data": {
      "text/html": [
       "<div>\n",
       "<style scoped>\n",
       "    .dataframe tbody tr th:only-of-type {\n",
       "        vertical-align: middle;\n",
       "    }\n",
       "\n",
       "    .dataframe tbody tr th {\n",
       "        vertical-align: top;\n",
       "    }\n",
       "\n",
       "    .dataframe thead th {\n",
       "        text-align: right;\n",
       "    }\n",
       "</style>\n",
       "<table border=\"1\" class=\"dataframe\">\n",
       "  <thead>\n",
       "    <tr style=\"text-align: right;\">\n",
       "      <th></th>\n",
       "      <th>Country</th>\n",
       "      <th>Item</th>\n",
       "      <th>Deviation</th>\n",
       "      <th>Sample Size</th>\n",
       "      <th>Sign Difference</th>\n",
       "      <th>p-value</th>\n",
       "    </tr>\n",
       "  </thead>\n",
       "  <tbody>\n",
       "    <tr>\n",
       "      <th>0</th>\n",
       "      <td>Australia</td>\n",
       "      <td>1</td>\n",
       "      <td>-0.266809</td>\n",
       "      <td>282</td>\n",
       "      <td>False</td>\n",
       "      <td>7.402254e-02</td>\n",
       "    </tr>\n",
       "    <tr>\n",
       "      <th>1</th>\n",
       "      <td>Austria</td>\n",
       "      <td>1</td>\n",
       "      <td>-0.018198</td>\n",
       "      <td>111</td>\n",
       "      <td>False</td>\n",
       "      <td>2.025980e-10</td>\n",
       "    </tr>\n",
       "    <tr>\n",
       "      <th>2</th>\n",
       "      <td>Belgium</td>\n",
       "      <td>1</td>\n",
       "      <td>-0.012708</td>\n",
       "      <td>192</td>\n",
       "      <td>False</td>\n",
       "      <td>1.652779e-17</td>\n",
       "    </tr>\n",
       "    <tr>\n",
       "      <th>3</th>\n",
       "      <td>Bulgaria</td>\n",
       "      <td>1</td>\n",
       "      <td>-0.001102</td>\n",
       "      <td>127</td>\n",
       "      <td>False</td>\n",
       "      <td>6.594603e-13</td>\n",
       "    </tr>\n",
       "    <tr>\n",
       "      <th>4</th>\n",
       "      <td>Chile</td>\n",
       "      <td>1</td>\n",
       "      <td>-0.006207</td>\n",
       "      <td>145</td>\n",
       "      <td>False</td>\n",
       "      <td>4.120326e-14</td>\n",
       "    </tr>\n",
       "  </tbody>\n",
       "</table>\n",
       "</div>"
      ],
      "text/plain": [
       "     Country Item  Deviation  Sample Size  Sign Difference       p-value\n",
       "0  Australia    1  -0.266809          282            False  7.402254e-02\n",
       "1    Austria    1  -0.018198          111            False  2.025980e-10\n",
       "2    Belgium    1  -0.012708          192            False  1.652779e-17\n",
       "3   Bulgaria    1  -0.001102          127            False  6.594603e-13\n",
       "4      Chile    1  -0.006207          145            False  4.120326e-14"
      ]
     },
     "execution_count": 37,
     "metadata": {},
     "output_type": "execute_result"
    }
   ],
   "source": [
    "country_deviations_signed_long.head()"
   ]
  },
  {
   "cell_type": "markdown",
   "metadata": {},
   "source": [
    "### Computing replication rates based on p-values and sign agreement between original study and replication"
   ]
  },
  {
   "cell_type": "code",
   "execution_count": 38,
   "metadata": {},
   "outputs": [],
   "source": [
    "country_deviations_signed_long[\"Succesful Replication\"] = np.nan\n",
    "country_deviations_signed_long.loc[(country_deviations_signed_long[\"Sign Difference\"] == False) & (country_deviations_signed_long[\"p-value\"]<0.05),\n",
    "                                   \"Succesful Replication\"] = True\n",
    "country_deviations_signed_long.loc[(country_deviations_signed_long[\"Sign Difference\"] == False) & (country_deviations_signed_long[\"p-value\"]>0.05),\n",
    "                                   \"Succesful Replication\"] = False\n",
    "country_deviations_signed_long.loc[(country_deviations_signed_long[\"Sign Difference\"] == True), \"Succesful Replication\"] = False\n",
    "country_deviations_signed_long.loc[(country_deviations_signed_long[\"Item\"]==\"8\"), \"Succesful Replication\"] = np.nan"
   ]
  },
  {
   "cell_type": "code",
   "execution_count": 39,
   "metadata": {},
   "outputs": [],
   "source": [
    "country_deviations_signed_long[\"Succesful Replication\"] = country_deviations_signed_long[\"Succesful Replication\"].astype(float)"
   ]
  },
  {
   "cell_type": "code",
   "execution_count": 40,
   "metadata": {},
   "outputs": [
    {
     "data": {
      "text/html": [
       "<div>\n",
       "<style scoped>\n",
       "    .dataframe tbody tr th:only-of-type {\n",
       "        vertical-align: middle;\n",
       "    }\n",
       "\n",
       "    .dataframe tbody tr th {\n",
       "        vertical-align: top;\n",
       "    }\n",
       "\n",
       "    .dataframe thead th {\n",
       "        text-align: right;\n",
       "    }\n",
       "</style>\n",
       "<table border=\"1\" class=\"dataframe\">\n",
       "  <thead>\n",
       "    <tr style=\"text-align: right;\">\n",
       "      <th></th>\n",
       "      <th>Country</th>\n",
       "      <th>Item</th>\n",
       "      <th>Deviation</th>\n",
       "      <th>Sample Size</th>\n",
       "      <th>Sign Difference</th>\n",
       "      <th>p-value</th>\n",
       "      <th>Succesful Replication</th>\n",
       "    </tr>\n",
       "  </thead>\n",
       "  <tbody>\n",
       "    <tr>\n",
       "      <th>0</th>\n",
       "      <td>Australia</td>\n",
       "      <td>1</td>\n",
       "      <td>-0.266809</td>\n",
       "      <td>282</td>\n",
       "      <td>False</td>\n",
       "      <td>7.402254e-02</td>\n",
       "      <td>0.0</td>\n",
       "    </tr>\n",
       "    <tr>\n",
       "      <th>1</th>\n",
       "      <td>Austria</td>\n",
       "      <td>1</td>\n",
       "      <td>-0.018198</td>\n",
       "      <td>111</td>\n",
       "      <td>False</td>\n",
       "      <td>2.025980e-10</td>\n",
       "      <td>1.0</td>\n",
       "    </tr>\n",
       "    <tr>\n",
       "      <th>2</th>\n",
       "      <td>Belgium</td>\n",
       "      <td>1</td>\n",
       "      <td>-0.012708</td>\n",
       "      <td>192</td>\n",
       "      <td>False</td>\n",
       "      <td>1.652779e-17</td>\n",
       "      <td>1.0</td>\n",
       "    </tr>\n",
       "    <tr>\n",
       "      <th>3</th>\n",
       "      <td>Bulgaria</td>\n",
       "      <td>1</td>\n",
       "      <td>-0.001102</td>\n",
       "      <td>127</td>\n",
       "      <td>False</td>\n",
       "      <td>6.594603e-13</td>\n",
       "      <td>1.0</td>\n",
       "    </tr>\n",
       "    <tr>\n",
       "      <th>4</th>\n",
       "      <td>Chile</td>\n",
       "      <td>1</td>\n",
       "      <td>-0.006207</td>\n",
       "      <td>145</td>\n",
       "      <td>False</td>\n",
       "      <td>4.120326e-14</td>\n",
       "      <td>1.0</td>\n",
       "    </tr>\n",
       "  </tbody>\n",
       "</table>\n",
       "</div>"
      ],
      "text/plain": [
       "     Country Item  Deviation  Sample Size  Sign Difference       p-value  \\\n",
       "0  Australia    1  -0.266809          282            False  7.402254e-02   \n",
       "1    Austria    1  -0.018198          111            False  2.025980e-10   \n",
       "2    Belgium    1  -0.012708          192            False  1.652779e-17   \n",
       "3   Bulgaria    1  -0.001102          127            False  6.594603e-13   \n",
       "4      Chile    1  -0.006207          145            False  4.120326e-14   \n",
       "\n",
       "   Succesful Replication  \n",
       "0                    0.0  \n",
       "1                    1.0  \n",
       "2                    1.0  \n",
       "3                    1.0  \n",
       "4                    1.0  "
      ]
     },
     "execution_count": 40,
     "metadata": {},
     "output_type": "execute_result"
    }
   ],
   "source": [
    "country_deviations_signed_long.head()"
   ]
  },
  {
   "cell_type": "markdown",
   "metadata": {},
   "source": [
    "### Saving country deviations "
   ]
  },
  {
   "cell_type": "code",
   "execution_count": 41,
   "metadata": {},
   "outputs": [],
   "source": [
    "country_deviations_signed_long.to_csv(\"../output/deviations_from_original_by_country.csv\", index=False)"
   ]
  },
  {
   "cell_type": "markdown",
   "metadata": {},
   "source": [
    "# Exploring item-based replications"
   ]
  },
  {
   "cell_type": "markdown",
   "metadata": {},
   "source": [
    "### Total replication rates across all countries and items"
   ]
  },
  {
   "cell_type": "code",
   "execution_count": 42,
   "metadata": {},
   "outputs": [
    {
     "data": {
      "text/plain": [
       "0.8125"
      ]
     },
     "execution_count": 42,
     "metadata": {},
     "output_type": "execute_result"
    }
   ],
   "source": [
    "country_deviations_signed_long[\"Succesful Replication\"].mean()"
   ]
  },
  {
   "cell_type": "markdown",
   "metadata": {},
   "source": [
    "### Total number of succesful replications"
   ]
  },
  {
   "cell_type": "code",
   "execution_count": 43,
   "metadata": {},
   "outputs": [
    {
     "data": {
      "text/plain": [
       "247.0"
      ]
     },
     "execution_count": 43,
     "metadata": {},
     "output_type": "execute_result"
    }
   ],
   "source": [
    "country_deviations_signed_long[\"Succesful Replication\"].sum()"
   ]
  },
  {
   "cell_type": "markdown",
   "metadata": {},
   "source": [
    "### Total number of attempted replications"
   ]
  },
  {
   "cell_type": "code",
   "execution_count": 44,
   "metadata": {},
   "outputs": [
    {
     "data": {
      "text/plain": [
       "304"
      ]
     },
     "execution_count": 44,
     "metadata": {},
     "output_type": "execute_result"
    }
   ],
   "source": [
    "country_deviations_signed_long[\"Succesful Replication\"].count()"
   ]
  },
  {
   "cell_type": "markdown",
   "metadata": {},
   "source": [
    "### Compute replication rate per item and store the results in a dataframe"
   ]
  },
  {
   "cell_type": "code",
   "execution_count": 45,
   "metadata": {},
   "outputs": [
    {
     "name": "stdout",
     "output_type": "stream",
     "text": [
      "Wall time: 2.97 ms\n"
     ]
    }
   ],
   "source": [
    "%%time\n",
    "replication_rate_by_item = pd.DataFrame(country_deviations_signed_long.groupby(\"Item\")[\"Succesful Replication\"].mean())\n",
    "replication_rate_by_item = replication_rate_by_item.loc[[str(i) for i in np.arange(1, 18)], :]\n",
    "replication_rate_by_item = replication_rate_by_item.reset_index()"
   ]
  },
  {
   "cell_type": "code",
   "execution_count": 46,
   "metadata": {},
   "outputs": [
    {
     "data": {
      "text/html": [
       "<div>\n",
       "<style scoped>\n",
       "    .dataframe tbody tr th:only-of-type {\n",
       "        vertical-align: middle;\n",
       "    }\n",
       "\n",
       "    .dataframe tbody tr th {\n",
       "        vertical-align: top;\n",
       "    }\n",
       "\n",
       "    .dataframe thead th {\n",
       "        text-align: right;\n",
       "    }\n",
       "</style>\n",
       "<table border=\"1\" class=\"dataframe\">\n",
       "  <thead>\n",
       "    <tr style=\"text-align: right;\">\n",
       "      <th></th>\n",
       "      <th>Item</th>\n",
       "      <th>Succesful Replication</th>\n",
       "    </tr>\n",
       "  </thead>\n",
       "  <tbody>\n",
       "    <tr>\n",
       "      <th>0</th>\n",
       "      <td>1</td>\n",
       "      <td>0.947368</td>\n",
       "    </tr>\n",
       "    <tr>\n",
       "      <th>1</th>\n",
       "      <td>2</td>\n",
       "      <td>0.684211</td>\n",
       "    </tr>\n",
       "    <tr>\n",
       "      <th>2</th>\n",
       "      <td>3</td>\n",
       "      <td>1.000000</td>\n",
       "    </tr>\n",
       "    <tr>\n",
       "      <th>3</th>\n",
       "      <td>4</td>\n",
       "      <td>0.157895</td>\n",
       "    </tr>\n",
       "    <tr>\n",
       "      <th>4</th>\n",
       "      <td>5</td>\n",
       "      <td>1.000000</td>\n",
       "    </tr>\n",
       "    <tr>\n",
       "      <th>5</th>\n",
       "      <td>6</td>\n",
       "      <td>1.000000</td>\n",
       "    </tr>\n",
       "    <tr>\n",
       "      <th>6</th>\n",
       "      <td>7</td>\n",
       "      <td>1.000000</td>\n",
       "    </tr>\n",
       "    <tr>\n",
       "      <th>7</th>\n",
       "      <td>8</td>\n",
       "      <td>NaN</td>\n",
       "    </tr>\n",
       "    <tr>\n",
       "      <th>8</th>\n",
       "      <td>9</td>\n",
       "      <td>1.000000</td>\n",
       "    </tr>\n",
       "    <tr>\n",
       "      <th>9</th>\n",
       "      <td>10</td>\n",
       "      <td>0.578947</td>\n",
       "    </tr>\n",
       "    <tr>\n",
       "      <th>10</th>\n",
       "      <td>11</td>\n",
       "      <td>1.000000</td>\n",
       "    </tr>\n",
       "    <tr>\n",
       "      <th>11</th>\n",
       "      <td>12</td>\n",
       "      <td>1.000000</td>\n",
       "    </tr>\n",
       "    <tr>\n",
       "      <th>12</th>\n",
       "      <td>13</td>\n",
       "      <td>0.789474</td>\n",
       "    </tr>\n",
       "    <tr>\n",
       "      <th>13</th>\n",
       "      <td>14</td>\n",
       "      <td>1.000000</td>\n",
       "    </tr>\n",
       "    <tr>\n",
       "      <th>14</th>\n",
       "      <td>15</td>\n",
       "      <td>0.789474</td>\n",
       "    </tr>\n",
       "    <tr>\n",
       "      <th>15</th>\n",
       "      <td>16</td>\n",
       "      <td>0.631579</td>\n",
       "    </tr>\n",
       "    <tr>\n",
       "      <th>16</th>\n",
       "      <td>17</td>\n",
       "      <td>0.421053</td>\n",
       "    </tr>\n",
       "  </tbody>\n",
       "</table>\n",
       "</div>"
      ],
      "text/plain": [
       "   Item  Succesful Replication\n",
       "0     1               0.947368\n",
       "1     2               0.684211\n",
       "2     3               1.000000\n",
       "3     4               0.157895\n",
       "4     5               1.000000\n",
       "5     6               1.000000\n",
       "6     7               1.000000\n",
       "7     8                    NaN\n",
       "8     9               1.000000\n",
       "9    10               0.578947\n",
       "10   11               1.000000\n",
       "11   12               1.000000\n",
       "12   13               0.789474\n",
       "13   14               1.000000\n",
       "14   15               0.789474\n",
       "15   16               0.631579\n",
       "16   17               0.421053"
      ]
     },
     "execution_count": 46,
     "metadata": {},
     "output_type": "execute_result"
    }
   ],
   "source": [
    "replication_rate_by_item"
   ]
  },
  {
   "cell_type": "markdown",
   "metadata": {},
   "source": [
    "### Compute replication rates per country (and continent) and store in a dataframe"
   ]
  },
  {
   "cell_type": "code",
   "execution_count": 47,
   "metadata": {},
   "outputs": [],
   "source": [
    "replication_rate_by_country = pd.DataFrame(country_deviations_signed_long.groupby(\"Country\")[\"Succesful Replication\"].mean()).reset_index()\n",
    "replication_rate_by_country = replication_rate_by_country.sort_values(by=\"Succesful Replication\", ascending=False)\n",
    "continents = {\"Europe\":['Bulgaria', 'Denmark', 'Belgium', 'Ireland', 'UK','Austria', 'Germany',\n",
    "       'Hungary', 'Italy', 'Norway', 'Serbia', 'Slovenia', 'Spain', 'Sweden'],\n",
    "             \"Asia\":['Hong Kong', 'Mainland China'],\n",
    "             \"North America\": [\"USA\"],\n",
    "            \"Oceania\": [\"Australia\"],\n",
    "             \"South America\":[\"Chile\"]}\n",
    "replication_rate_by_country[\"Continent\"] = np.nan\n",
    "for continent in continents.keys():\n",
    "    replication_rate_by_country.loc[replication_rate_by_country[\"Country\"].isin(continents[continent]), \"Continent\"] = continent"
   ]
  },
  {
   "cell_type": "code",
   "execution_count": 48,
   "metadata": {},
   "outputs": [
    {
     "data": {
      "text/html": [
       "<div>\n",
       "<style scoped>\n",
       "    .dataframe tbody tr th:only-of-type {\n",
       "        vertical-align: middle;\n",
       "    }\n",
       "\n",
       "    .dataframe tbody tr th {\n",
       "        vertical-align: top;\n",
       "    }\n",
       "\n",
       "    .dataframe thead th {\n",
       "        text-align: right;\n",
       "    }\n",
       "</style>\n",
       "<table border=\"1\" class=\"dataframe\">\n",
       "  <thead>\n",
       "    <tr style=\"text-align: right;\">\n",
       "      <th></th>\n",
       "      <th>Country</th>\n",
       "      <th>Succesful Replication</th>\n",
       "      <th>Continent</th>\n",
       "    </tr>\n",
       "  </thead>\n",
       "  <tbody>\n",
       "    <tr>\n",
       "      <th>17</th>\n",
       "      <td>UK</td>\n",
       "      <td>0.9375</td>\n",
       "      <td>Europe</td>\n",
       "    </tr>\n",
       "    <tr>\n",
       "      <th>5</th>\n",
       "      <td>Denmark</td>\n",
       "      <td>0.8750</td>\n",
       "      <td>Europe</td>\n",
       "    </tr>\n",
       "    <tr>\n",
       "      <th>8</th>\n",
       "      <td>Hungary</td>\n",
       "      <td>0.8750</td>\n",
       "      <td>Europe</td>\n",
       "    </tr>\n",
       "    <tr>\n",
       "      <th>11</th>\n",
       "      <td>Mainland China</td>\n",
       "      <td>0.8750</td>\n",
       "      <td>Asia</td>\n",
       "    </tr>\n",
       "    <tr>\n",
       "      <th>12</th>\n",
       "      <td>Norway</td>\n",
       "      <td>0.8750</td>\n",
       "      <td>Europe</td>\n",
       "    </tr>\n",
       "  </tbody>\n",
       "</table>\n",
       "</div>"
      ],
      "text/plain": [
       "           Country  Succesful Replication Continent\n",
       "17              UK                 0.9375    Europe\n",
       "5          Denmark                 0.8750    Europe\n",
       "8          Hungary                 0.8750    Europe\n",
       "11  Mainland China                 0.8750      Asia\n",
       "12          Norway                 0.8750    Europe"
      ]
     },
     "execution_count": 48,
     "metadata": {},
     "output_type": "execute_result"
    }
   ],
   "source": [
    "replication_rate_by_country.head()"
   ]
  },
  {
   "cell_type": "markdown",
   "metadata": {},
   "source": [
    "### Hard-coding colors for the different continents to the dataframe because it makes plotting easier"
   ]
  },
  {
   "cell_type": "code",
   "execution_count": 110,
   "metadata": {},
   "outputs": [
    {
     "data": {
      "image/png": "[encoded data removed]",
      "text/plain": [
       "<Figure size 360x72 with 1 Axes>"
      ]
     },
     "metadata": {
      "needs_background": "light"
     },
     "output_type": "display_data"
    }
   ],
   "source": [
    "sns.palplot(sns.color_palette(\"hls\", 7)[:5])"
   ]
  },
  {
   "cell_type": "code",
   "execution_count": 50,
   "metadata": {},
   "outputs": [],
   "source": [
    "cont_col_dict = dict(zip(replication_rate_by_country[\"Continent\"].unique(), sns.color_palette(\"hls\", 7)[:5]))\n",
    "replication_rate_by_country[\"Colour\"] = replication_rate_by_country[\"Continent\"].map(cont_col_dict)"
   ]
  },
  {
   "cell_type": "markdown",
   "metadata": {},
   "source": [
    "### Add a row for the replication rate of the pooled data (based on the meta-analytic analyses)"
   ]
  },
  {
   "cell_type": "code",
   "execution_count": 51,
   "metadata": {},
   "outputs": [],
   "source": [
    "pooled_data_row = pd.DataFrame(pd.Series([\"Pooled\", 15/16, \"Pooled\", sns.color_palette(\"hls\", 7)[6]], index=replication_rate_by_country.columns)).transpose()"
   ]
  },
  {
   "cell_type": "code",
   "execution_count": 52,
   "metadata": {},
   "outputs": [],
   "source": [
    "replication_rate_by_country = pd.concat([pooled_data_row, replication_rate_by_country]).reset_index(drop = True)"
   ]
  },
  {
   "cell_type": "markdown",
   "metadata": {},
   "source": [
    "# Saving replication rate per country"
   ]
  },
  {
   "cell_type": "code",
   "execution_count": 53,
   "metadata": {},
   "outputs": [],
   "source": [
    "replication_rate_by_country.to_csv(\"../output/replication_rate_by_country.csv\", index=False)"
   ]
  },
  {
   "cell_type": "markdown",
   "metadata": {},
   "source": [
    "# Adding whether a replication was successful to the long data and save the long data"
   ]
  },
  {
   "cell_type": "code",
   "execution_count": 54,
   "metadata": {},
   "outputs": [],
   "source": [
    "long_data[\"Succesful Replication\"] = country_deviations_signed_long[\"Succesful Replication\"]\n",
    "long_data.loc[long_data[\"Succesful Replication\"].isna(), \"Succesful Replication\"] = \"NA\"\n",
    "long_data.loc[long_data[\"Succesful Replication\"]==1, \"Succesful Replication\"] = \"Yes\"\n",
    "long_data.loc[long_data[\"Succesful Replication\"]==0, \"Succesful Replication\"] = \"No\"\n",
    "long_data[\"Sample Size\"] = country_deviations_signed_long[\"Sample Size\"]"
   ]
  },
  {
   "cell_type": "code",
   "execution_count": 55,
   "metadata": {},
   "outputs": [
    {
     "data": {
      "text/html": [
       "<div>\n",
       "<style scoped>\n",
       "    .dataframe tbody tr th:only-of-type {\n",
       "        vertical-align: middle;\n",
       "    }\n",
       "\n",
       "    .dataframe tbody tr th {\n",
       "        vertical-align: top;\n",
       "    }\n",
       "\n",
       "    .dataframe thead th {\n",
       "        text-align: right;\n",
       "    }\n",
       "</style>\n",
       "<table border=\"1\" class=\"dataframe\">\n",
       "  <thead>\n",
       "    <tr style=\"text-align: right;\">\n",
       "      <th></th>\n",
       "      <th>Country</th>\n",
       "      <th>Item</th>\n",
       "      <th>Proportion</th>\n",
       "      <th>Succesful Replication</th>\n",
       "      <th>Sample Size</th>\n",
       "    </tr>\n",
       "  </thead>\n",
       "  <tbody>\n",
       "    <tr>\n",
       "      <th>0</th>\n",
       "      <td>Australia</td>\n",
       "      <td>1</td>\n",
       "      <td>0.446809</td>\n",
       "      <td>No</td>\n",
       "      <td>282</td>\n",
       "    </tr>\n",
       "    <tr>\n",
       "      <th>1</th>\n",
       "      <td>Austria</td>\n",
       "      <td>1</td>\n",
       "      <td>0.198198</td>\n",
       "      <td>Yes</td>\n",
       "      <td>111</td>\n",
       "    </tr>\n",
       "    <tr>\n",
       "      <th>2</th>\n",
       "      <td>Belgium</td>\n",
       "      <td>1</td>\n",
       "      <td>0.192708</td>\n",
       "      <td>Yes</td>\n",
       "      <td>192</td>\n",
       "    </tr>\n",
       "    <tr>\n",
       "      <th>3</th>\n",
       "      <td>Bulgaria</td>\n",
       "      <td>1</td>\n",
       "      <td>0.181102</td>\n",
       "      <td>Yes</td>\n",
       "      <td>127</td>\n",
       "    </tr>\n",
       "    <tr>\n",
       "      <th>4</th>\n",
       "      <td>Chile</td>\n",
       "      <td>1</td>\n",
       "      <td>0.186207</td>\n",
       "      <td>Yes</td>\n",
       "      <td>145</td>\n",
       "    </tr>\n",
       "  </tbody>\n",
       "</table>\n",
       "</div>"
      ],
      "text/plain": [
       "     Country Item  Proportion Succesful Replication  Sample Size\n",
       "0  Australia    1    0.446809                    No          282\n",
       "1    Austria    1    0.198198                   Yes          111\n",
       "2    Belgium    1    0.192708                   Yes          192\n",
       "3   Bulgaria    1    0.181102                   Yes          127\n",
       "4      Chile    1    0.186207                   Yes          145"
      ]
     },
     "execution_count": 55,
     "metadata": {},
     "output_type": "execute_result"
    }
   ],
   "source": [
    "long_data.head()"
   ]
  },
  {
   "cell_type": "code",
   "execution_count": 56,
   "metadata": {},
   "outputs": [],
   "source": [
    "long_data.to_csv(\"../output/proportions_by_country.csv\", index=False)"
   ]
  },
  {
   "cell_type": "markdown",
   "metadata": {},
   "source": [
    "# Checking the number of effects that are attenuated compared to the original study"
   ]
  },
  {
   "cell_type": "code",
   "execution_count": 57,
   "metadata": {},
   "outputs": [
    {
     "data": {
      "text/plain": [
       "250"
      ]
     },
     "execution_count": 57,
     "metadata": {},
     "output_type": "execute_result"
    }
   ],
   "source": [
    "n_attenuated_effects = (np.sign(country_deviations_signed_long[\"Deviation\"])==-1).sum()\n",
    "n_attenuated_effects"
   ]
  },
  {
   "cell_type": "code",
   "execution_count": 58,
   "metadata": {},
   "outputs": [
    {
     "data": {
      "text/plain": [
       "323"
      ]
     },
     "execution_count": 58,
     "metadata": {},
     "output_type": "execute_result"
    }
   ],
   "source": [
    "n_total_effects = country_deviations_signed_long.shape[0]\n",
    "n_total_effects"
   ]
  },
  {
   "cell_type": "code",
   "execution_count": 59,
   "metadata": {},
   "outputs": [
    {
     "data": {
      "text/plain": [
       "0.7739938080495357"
      ]
     },
     "execution_count": 59,
     "metadata": {},
     "output_type": "execute_result"
    }
   ],
   "source": [
    "n_attenuated_effects/n_total_effects"
   ]
  },
  {
   "cell_type": "code",
   "execution_count": 60,
   "metadata": {},
   "outputs": [
    {
     "data": {
      "text/plain": [
       "73"
      ]
     },
     "execution_count": 60,
     "metadata": {},
     "output_type": "execute_result"
    }
   ],
   "source": [
    "n_larger_effects = n_total_effects - n_attenuated_effects\n",
    "n_larger_effects"
   ]
  },
  {
   "cell_type": "code",
   "execution_count": 61,
   "metadata": {},
   "outputs": [
    {
     "data": {
      "text/plain": [
       "Power_divergenceResult(statistic=96.9938080495356, pvalue=6.954447526227529e-23)"
      ]
     },
     "execution_count": 61,
     "metadata": {},
     "output_type": "execute_result"
    }
   ],
   "source": [
    "chisquare([n_larger_effects, n_attenuated_effects])"
   ]
  },
  {
   "cell_type": "markdown",
   "metadata": {},
   "source": [
    "### Attenuation is significantly more common than would be expected by chance. In other words, sampling variation alone cannot plausible account for the attenuation effect."
   ]
  }
 ],
 "metadata": {
  "kernelspec": {
   "display_name": "Python 3",
   "language": "python",
   "name": "python3"
  },
  "language_info": {
   "codemirror_mode": {
    "name": "ipython",
    "version": 3
   },
   "file_extension": ".py",
   "mimetype": "text/x-python",
   "name": "python",
   "nbconvert_exporter": "python",
   "pygments_lexer": "ipython3",
   "version": "3.7.3"
  }
 },
 "nbformat": 4,
 "nbformat_minor": 4
}
